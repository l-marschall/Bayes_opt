{
 "cells": [
  {
   "cell_type": "code",
   "execution_count": 1,
   "metadata": {},
   "outputs": [
    {
     "name": "stdout",
     "output_type": "stream",
     "text": [
      "Evaluation \t Proposed point \t  Current eval. \t Best eval.\n",
      "init   \t [ 3.25027846]. \t  -0.1084719588823907 \t -0.1084719588823907\n",
      "init   \t [ 5.94994152]. \t  -0.32711007941725473 \t -0.1084719588823907\n",
      "init   \t [ 4.80952551]. \t  -0.9952859553348876 \t -0.1084719588823907\n",
      "1      \t [ 1.58178017]. \t  \u001b[92m0.999939678175\u001b[0m \t 0.999939678175\n",
      "2      \t [ 0.66932349]. \t  0.620455578287 \t 0.999939678175\n",
      "3      \t [ 2.06732052]. \t  0.879243645882 \t 0.999939678175\n",
      "4      \t [ 0.]. \t  0.0    \t 0.999939678175\n",
      "5      \t [ 1.44115569]. \t  0.991608415302 \t 0.999939678175\n",
      "6      \t [ 1.57443337]. \t  \u001b[92m0.999993385951\u001b[0m \t 0.999993385951\n",
      "7      \t [ 1.57340764]. \t  \u001b[92m0.999996590511\u001b[0m \t 0.999996590511\n",
      "8      \t [ 1.57299125]. \t  \u001b[92m0.999997591151\u001b[0m \t 0.999997591151\n",
      "9      \t [ 1.57277667]. \t  \u001b[92m0.999998039116\u001b[0m \t 0.999998039116\n",
      "10     \t [ 1.57264428]. \t  \u001b[92m0.999998292536\u001b[0m \t 0.999998292536\n",
      "11     \t [ 1.57254998]. \t  \u001b[92m0.999998462358\u001b[0m \t 0.999998462358\n",
      "12     \t [ 1.57248372]. \t  \u001b[92m0.999998576346\u001b[0m \t 0.999998576346\n",
      "13     \t [ 1.57243459]. \t  \u001b[92m0.999998658049\u001b[0m \t 0.999998658049\n",
      "14     \t [ 1.57240571]. \t  \u001b[92m0.999998704937\u001b[0m \t 0.999998704937\n",
      "15     \t [ 1.57236447]. \t  \u001b[92m0.999998770464\u001b[0m \t 0.999998770464\n",
      "16     \t [ 1.46320839]. \t  0.994217998977 \t 0.999998770464\n",
      "17     \t [ 1.57232474]. \t  \u001b[92m0.999998831984\u001b[0m \t 0.999998831984\n",
      "18     \t [ 1.5723116]. \t  \u001b[92m0.999998851969\u001b[0m \t 0.999998851969\n",
      "19     \t [ 1.57228606]. \t  \u001b[92m0.999998890354\u001b[0m \t 0.999998890354\n",
      "20     \t [ 1.68351045]. \t  0.993654485203 \t 0.999998890354\n"
     ]
    }
   ],
   "source": [
    "import numpy as np\n",
    "from pyGPGO.covfunc import squaredExponential\n",
    "from pyGPGO.acquisition import Acquisition\n",
    "from pyGPGO.surrogates.GaussianProcess import GaussianProcess\n",
    "from pyGPGO.GPGO import GPGO\n",
    "\n",
    "def f(x):\n",
    "    return (np.sin(x))\n",
    "\n",
    "\n",
    "sexp = squaredExponential()\n",
    "gp = GaussianProcess(sexp)\n",
    "acq = Acquisition(mode='ExpectedImprovement')\n",
    "param = {'x': ('cont', [0, 2 * np.pi])}\n",
    "\n",
    "np.random.seed(23)\n",
    "gpgo = GPGO(gp, acq, f, param)\n",
    "gpgo.run(max_iter=20)"
   ]
  },
  {
   "cell_type": "code",
   "execution_count": 7,
   "metadata": {},
   "outputs": [
    {
     "data": {
      "text/plain": [
       "1.0"
      ]
     },
     "execution_count": 7,
     "metadata": {},
     "output_type": "execute_result"
    }
   ],
   "source": [
    "np.sin(np.pi/2)"
   ]
  }
 ],
 "metadata": {
  "kernelspec": {
   "display_name": "Python 3",
   "language": "python",
   "name": "python3"
  },
  "language_info": {
   "codemirror_mode": {
    "name": "ipython",
    "version": 3
   },
   "file_extension": ".py",
   "mimetype": "text/x-python",
   "name": "python",
   "nbconvert_exporter": "python",
   "pygments_lexer": "ipython3",
   "version": "3.6.2"
  }
 },
 "nbformat": 4,
 "nbformat_minor": 2
}

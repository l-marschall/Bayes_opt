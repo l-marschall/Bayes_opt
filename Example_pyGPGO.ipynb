{
 "cells": [
  {
   "cell_type": "code",
   "execution_count": null,
   "metadata": {
    "collapsed": true
   },
   "outputs": [],
   "source": [
    "import numpy as np\n",
    "from pyGPGO.covfunc import squaredExponential\n",
    "from pyGPGO.acquisition import Acquisition\n",
    "from pyGPGO.surrogates.GaussianProcess import GaussianProcess\n",
    "from pyGPGO.GPGO import GPGO\n",
    "\n",
    "def f(x):\n",
    "    return (np.sin(x))\n",
    "\n",
    "\n",
    "sexp = squaredExponential()\n",
    "gp = GaussianProcess(sexp)\n",
    "acq = Acquisition(mode='ExpectedImprovement')\n",
    "param = {'x': ('cont', [0, 2 * np.pi])}\n",
    "\n",
    "np.random.seed(23)\n",
    "gpgo = GPGO(gp, acq, f, param)\n",
    "gpgo.run(max_iter=20)"
   ]
  },
  {
   "cell_type": "code",
   "execution_count": null,
   "metadata": {
    "collapsed": true
   },
   "outputs": [],
   "source": [
    "np.sin(np.pi/2)"
   ]
  }
 ],
 "metadata": {
  "kernelspec": {
   "display_name": "Python 3",
   "language": "python",
   "name": "python3"
  },
  "language_info": {
   "codemirror_mode": {
    "name": "ipython",
    "version": 3
   },
   "file_extension": ".py",
   "mimetype": "text/x-python",
   "name": "python",
   "nbconvert_exporter": "python",
   "pygments_lexer": "ipython3",
   "version": "3.6.2"
  }
 },
 "nbformat": 4,
 "nbformat_minor": 2
}

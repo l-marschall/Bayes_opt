{
 "cells": [
  {
   "cell_type": "markdown",
   "metadata": {},
   "source": [
    "## 1. Introduction"
   ]
  },
  {
   "cell_type": "markdown",
   "metadata": {},
   "source": [
    "Lorenzo"
   ]
  },
  {
   "cell_type": "markdown",
   "metadata": {},
   "source": [
    "## 2. Model and Data"
   ]
  },
  {
   "cell_type": "markdown",
   "metadata": {},
   "source": [
    "Richard"
   ]
  },
  {
   "cell_type": "markdown",
   "metadata": {},
   "source": [
    "## 3. Hyperparameter optimisation"
   ]
  },
  {
   "cell_type": "markdown",
   "metadata": {},
   "source": [
    "Jordi"
   ]
  },
  {
   "cell_type": "markdown",
   "metadata": {},
   "source": [
    "## 4. Implementation and results"
   ]
  },
  {
   "cell_type": "markdown",
   "metadata": {},
   "source": [
    "### 4.1 Setup "
   ]
  },
  {
   "cell_type": "code",
   "execution_count": 12,
   "metadata": {
    "collapsed": true
   },
   "outputs": [],
   "source": [
    "import numpy as np\n",
    "from pyGPGO.covfunc import squaredExponential\n",
    "from pyGPGO.acquisition import Acquisition\n",
    "from pyGPGO.surrogates.GaussianProcess import GaussianProcess\n",
    "from pyGPGO.GPGO import GPGO\n",
    "import pandas as pd\n",
    "from image_classifier import *\n",
    "%matplotlib inline\n",
    "%precision 3\n",
    "np.random.seed(23)"
   ]
  },
  {
   "cell_type": "markdown",
   "metadata": {},
   "source": [
    "### 4.2 Main function"
   ]
  },
  {
   "cell_type": "code",
   "execution_count": 31,
   "metadata": {
    "collapsed": true
   },
   "outputs": [],
   "source": [
    "def hyp_optim_gp(acq_fn, fn, param_sets, n_evals):\n",
    "    sexp = squaredExponential()\n",
    "    gp = GaussianProcess(sexp)\n",
    "    acq = Acquisition(mode=acq_fn)\n",
    "    gpgo = GPGO(gp, acq, fn, param_sets)\n",
    "    gpgo.run(max_iter=n_evals)\n",
    "    return gpgo.getResult(), gpgo.history"
   ]
  },
  {
   "cell_type": "code",
   "execution_count": 5,
   "metadata": {
    "collapsed": true
   },
   "outputs": [],
   "source": [
    "param_sets = {\n",
    "'max_zoom': ('cont', [1, 4]), \n",
    "'lr': ('cont', [1e-10, 4]),\n",
    "'epochs': ('int', [1, 2]),\n",
    "'cycle_len': ('int', [1, 2]),\n",
    "'cycle_mult': ('int', [1, 2])\n",
    "}"
   ]
  },
  {
   "cell_type": "code",
   "execution_count": 40,
   "metadata": {},
   "outputs": [
    {
     "name": "stdout",
     "output_type": "stream",
     "text": [
      "Evaluation \t Proposed point \t  Current eval. \t Best eval.\n"
     ]
    },
    {
     "data": {
      "application/vnd.jupyter.widget-view+json": {
       "model_id": "a9bc9fe7b8604ffd87cfb4ece1865f1d",
       "version_major": 2,
       "version_minor": 0
      },
      "text/plain": [
       "HBox(children=(IntProgress(value=0, description='Epoch', max=1), HTML(value='')))"
      ]
     },
     "metadata": {},
     "output_type": "display_data"
    },
    {
     "name": "stdout",
     "output_type": "stream",
     "text": [
      "epoch      trn_loss   val_loss   accuracy                       \n",
      "    0      16161718.648886 3089729.90925 0.991     \n",
      "                                             \r"
     ]
    },
    {
     "data": {
      "application/vnd.jupyter.widget-view+json": {
       "model_id": "2eeb3856d6da4fa2a7a4b5fea21876c2",
       "version_major": 2,
       "version_minor": 0
      },
      "text/plain": [
       "HBox(children=(IntProgress(value=0, description='Epoch', max=1), HTML(value='')))"
      ]
     },
     "metadata": {},
     "output_type": "display_data"
    },
    {
     "name": "stdout",
     "output_type": "stream",
     "text": [
      "epoch      trn_loss   val_loss   accuracy                       \n",
      "    0      2464.482859 455.219906 0.99      \n",
      "                                             \r"
     ]
    },
    {
     "data": {
      "application/vnd.jupyter.widget-view+json": {
       "model_id": "11c2d2ab9fc546799d55a327bac22df0",
       "version_major": 2,
       "version_minor": 0
      },
      "text/plain": [
       "HBox(children=(IntProgress(value=0, description='Epoch', max=1), HTML(value='')))"
      ]
     },
     "metadata": {},
     "output_type": "display_data"
    },
    {
     "name": "stdout",
     "output_type": "stream",
     "text": [
      "epoch      trn_loss   val_loss   accuracy                       \n",
      "    0      235991430604289.28 61084591338815.484 0.9895    \n",
      "init   \t [3.30629 1.92482 1.      1.      1.     ]. \t   0.991 \t  0.991\n",
      "init   \t [3.7557  1.30338 1.      1.      1.     ]. \t    0.99 \t  0.991\n",
      "init   \t [2.17748 2.53573 1.      1.      1.     ]. \t  0.9895 \t  0.991\n"
     ]
    },
    {
     "data": {
      "application/vnd.jupyter.widget-view+json": {
       "model_id": "e6a9a2d2c634405d95f67d4580dd5ad1",
       "version_major": 2,
       "version_minor": 0
      },
      "text/plain": [
       "HBox(children=(IntProgress(value=0, description='Epoch', max=1), HTML(value='')))"
      ]
     },
     "metadata": {},
     "output_type": "display_data"
    },
    {
     "name": "stdout",
     "output_type": "stream",
     "text": [
      "epoch      trn_loss   val_loss   accuracy                       \n",
      "    0      2363.598965 580.083981 0.9895    \n",
      "1      \t [2.56853 1.41934 1.      1.      1.     ]. \t  0.9895 \t 0.991 \n"
     ]
    },
    {
     "data": {
      "application/vnd.jupyter.widget-view+json": {
       "model_id": "7ad42388482f4df59d721e92e5b57d15",
       "version_major": 2,
       "version_minor": 0
      },
      "text/plain": [
       "HBox(children=(IntProgress(value=0, description='Epoch', max=2), HTML(value='')))"
      ]
     },
     "metadata": {},
     "output_type": "display_data"
    },
    {
     "name": "stdout",
     "output_type": "stream",
     "text": [
      "epoch      trn_loss   val_loss   accuracy                       \n",
      "    0      817381191.945195 175970455.424 0.989     \n",
      "    1      6.025797390120457e+20 4.245878292419255e+21 0.5       \n",
      "2      \t [2.58708 1.97556 1.00002 1.00002 1.72989]. \t  0.5    \t 0.991 \n",
      "Evaluation \t Proposed point \t  Current eval. \t Best eval.\n"
     ]
    },
    {
     "data": {
      "application/vnd.jupyter.widget-view+json": {
       "model_id": "f8adf41d39ae454ca5dde30d5a546ef5",
       "version_major": 2,
       "version_minor": 0
      },
      "text/plain": [
       "HBox(children=(IntProgress(value=0, description='Epoch', max=1), HTML(value='')))"
      ]
     },
     "metadata": {},
     "output_type": "display_data"
    },
    {
     "name": "stdout",
     "output_type": "stream",
     "text": [
      "epoch      trn_loss   val_loss   accuracy                       \n",
      "    0      nan        nan        0.5       \n",
      "                                             \r"
     ]
    },
    {
     "data": {
      "application/vnd.jupyter.widget-view+json": {
       "model_id": "180b72abbfcf44aaaed22de4d8c46e21",
       "version_major": 2,
       "version_minor": 0
      },
      "text/plain": [
       "HBox(children=(IntProgress(value=0, description='Epoch', max=1), HTML(value='')))"
      ]
     },
     "metadata": {},
     "output_type": "display_data"
    },
    {
     "name": "stdout",
     "output_type": "stream",
     "text": [
      "epoch      trn_loss   val_loss   accuracy                     \n",
      "    0      0.087044   0.050738   0.9875    \n",
      "                                             \r"
     ]
    },
    {
     "data": {
      "application/vnd.jupyter.widget-view+json": {
       "model_id": "491ba447d53f40c3b03c8f535213231b",
       "version_major": 2,
       "version_minor": 0
      },
      "text/plain": [
       "HBox(children=(IntProgress(value=0, description='Epoch', max=1), HTML(value='')))"
      ]
     },
     "metadata": {},
     "output_type": "display_data"
    },
    {
     "name": "stdout",
     "output_type": "stream",
     "text": [
      "epoch      trn_loss   val_loss   accuracy                       \n",
      "    0      1.9898101428534928e+24 2.2192201153294044e+20 0.5       \n",
      "init   \t [3.77873 3.31438 1.      1.      1.     ]. \t     0.5 \t 0.9875\n",
      "init   \t [2.70748 0.14134 1.      1.      1.     ]. \t  0.9875 \t 0.9875\n",
      "init   \t [3.1039  2.88887 1.      1.      1.     ]. \t     0.5 \t 0.9875\n"
     ]
    },
    {
     "data": {
      "application/vnd.jupyter.widget-view+json": {
       "model_id": "dd73babf19134893902e3a7cc67c172f",
       "version_major": 2,
       "version_minor": 0
      },
      "text/plain": [
       "HBox(children=(IntProgress(value=0, description='Epoch', max=1), HTML(value='')))"
      ]
     },
     "metadata": {},
     "output_type": "display_data"
    },
    {
     "name": "stdout",
     "output_type": "stream",
     "text": [
      "epoch      trn_loss   val_loss   accuracy                     \n",
      "    0      0.096511   0.048498   0.988     \n",
      "1      \t [2.70835 0.14607 1.      1.      1.     ]. \t  \u001b[92m0.988\u001b[0m \t 0.988 \n"
     ]
    },
    {
     "data": {
      "application/vnd.jupyter.widget-view+json": {
       "model_id": "4f7b8d48a9284ef4ada1f641cfc12b8f",
       "version_major": 2,
       "version_minor": 0
      },
      "text/plain": [
       "HBox(children=(IntProgress(value=0, description='Epoch', max=1), HTML(value='')))"
      ]
     },
     "metadata": {},
     "output_type": "display_data"
    },
    {
     "name": "stdout",
     "output_type": "stream",
     "text": [
      "epoch      trn_loss   val_loss   accuracy                    \n",
      "    0      0.109147   0.048318   0.9925    \n",
      "2      \t [2.71267 0.16973 1.      1.      1.     ]. \t  \u001b[92m0.9925\u001b[0m \t 0.9925\n",
      "Evaluation \t Proposed point \t  Current eval. \t Best eval.\n"
     ]
    },
    {
     "data": {
      "application/vnd.jupyter.widget-view+json": {
       "model_id": "3b8134680fb74f8d801205b588b46194",
       "version_major": 2,
       "version_minor": 0
      },
      "text/plain": [
       "HBox(children=(IntProgress(value=0, description='Epoch', max=1), HTML(value='')))"
      ]
     },
     "metadata": {},
     "output_type": "display_data"
    },
    {
     "name": "stdout",
     "output_type": "stream",
     "text": [
      "epoch      trn_loss   val_loss   accuracy                       \n",
      "    0      5715068546129.591 2113392583639.04 0.985     \n",
      "                                             \r"
     ]
    },
    {
     "data": {
      "application/vnd.jupyter.widget-view+json": {
       "model_id": "0f35f1063b2443ed9470a77fd90b0a41",
       "version_major": 2,
       "version_minor": 0
      },
      "text/plain": [
       "HBox(children=(IntProgress(value=0, description='Epoch', max=1), HTML(value='')))"
      ]
     },
     "metadata": {},
     "output_type": "display_data"
    },
    {
     "name": "stdout",
     "output_type": "stream",
     "text": [
      "epoch      trn_loss   val_loss   accuracy                   \n",
      "    0      176.489596 74.689969  0.9895    \n",
      "                                             \r"
     ]
    },
    {
     "data": {
      "application/vnd.jupyter.widget-view+json": {
       "model_id": "e65a165c74c640d59ddd732b1631d802",
       "version_major": 2,
       "version_minor": 0
      },
      "text/plain": [
       "HBox(children=(IntProgress(value=0, description='Epoch', max=1), HTML(value='')))"
      ]
     },
     "metadata": {},
     "output_type": "display_data"
    },
    {
     "name": "stdout",
     "output_type": "stream",
     "text": [
      "epoch      trn_loss   val_loss   accuracy                       \n",
      "    0      2842862106349.7246 791826797690.88 0.986     \n",
      "init   \t [3.4211  2.77449 1.      1.      1.     ]. \t   0.985 \t 0.9895\n",
      "init   \t [2.04895 1.21437 1.      1.      1.     ]. \t  0.9895 \t 0.9895\n",
      "init   \t [2.92736 2.57118 1.      1.      1.     ]. \t   0.986 \t 0.9895\n"
     ]
    },
    {
     "data": {
      "application/vnd.jupyter.widget-view+json": {
       "model_id": "74cca97d21a94b8db8116139824eaf0a",
       "version_major": 2,
       "version_minor": 0
      },
      "text/plain": [
       "HBox(children=(IntProgress(value=0, description='Epoch', max=1), HTML(value='')))"
      ]
     },
     "metadata": {},
     "output_type": "display_data"
    },
    {
     "name": "stdout",
     "output_type": "stream",
     "text": [
      "epoch      trn_loss   val_loss   accuracy                       \n",
      "    0      37946.453637 10776.151959 0.988     \n",
      "1      \t [3.33955 1.48366 1.      1.      1.     ]. \t  0.988  \t 0.9895\n"
     ]
    },
    {
     "data": {
      "application/vnd.jupyter.widget-view+json": {
       "model_id": "285ad831ab0f45a8b6f03d070aa367aa",
       "version_major": 2,
       "version_minor": 0
      },
      "text/plain": [
       "HBox(children=(IntProgress(value=0, description='Epoch', max=3), HTML(value='')))"
      ]
     },
     "metadata": {},
     "output_type": "display_data"
    },
    {
     "name": "stdout",
     "output_type": "stream",
     "text": [
      "epoch      trn_loss   val_loss   accuracy                       \n",
      "    0      446718880.837663 217537468.672 0.989     \n",
      "    1      86157366.892712 28083324.452 0.988                   \n",
      "    2      728580673984600.1 1.2614008125863756e+16 0.9595      \n",
      "2      \t [2.74479 1.70087 1.50186 1.55787 1.58365]. \t  0.959  \t 0.9895\n"
     ]
    }
   ],
   "source": [
    "#%%capture\n",
    "acq_fns = ['ExpectedImprovement', 'ProbabilityImprovement', 'UCB', 'Entropy']\n",
    "#acq_fns = ['ExpectedImprovement']\n",
    "df_acc = pd.DataFrame(columns=acq_fns, dtype=float)\n",
    "opt_params = {}\n",
    "n_evals = 2\n",
    "for acq_fn in acq_fns: \n",
    "    res, hist = hyp_optim_gp(acq_fn, fit_eval_imageclassifier, param_sets, n_evals)\n",
    "    df_acc[acq_fn] = hist\n",
    "    opt_params[acq_fn] = dict(res[0])"
   ]
  },
  {
   "cell_type": "code",
   "execution_count": 44,
   "metadata": {},
   "outputs": [
    {
     "data": {
      "image/png": "[encoded data removed]",
      "text/plain": [
       "<Figure size 432x288 with 1 Axes>"
      ]
     },
     "metadata": {},
     "output_type": "display_data"
    }
   ],
   "source": [
    "df_acc.plot(); "
   ]
  },
  {
   "cell_type": "markdown",
   "metadata": {},
   "source": [
    "some interpreation of results"
   ]
  }
 ],
 "metadata": {
  "kernelspec": {
   "display_name": "Python [conda env:fastai]",
   "language": "python",
   "name": "conda-env-fastai-py"
  },
  "language_info": {
   "codemirror_mode": {
    "name": "ipython",
    "version": 3
   },
   "file_extension": ".py",
   "mimetype": "text/x-python",
   "name": "python",
   "nbconvert_exporter": "python",
   "pygments_lexer": "ipython3",
   "version": "3.6.5"
  }
 },
 "nbformat": 4,
 "nbformat_minor": 2
}

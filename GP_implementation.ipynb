{
 "cells": [
  {
   "cell_type": "code",
   "execution_count": 1,
   "metadata": {},
   "outputs": [
    {
     "name": "stdout",
     "output_type": "stream",
     "text": [
      "Evaluation \t Proposed point \t  Current eval. \t Best eval.\n",
      "init   \t [ 3.25027846]. \t  -0.1084719588823907 \t -0.1084719588823907\n",
      "init   \t [ 5.94994152]. \t  -0.32711007941725473 \t -0.1084719588823907\n",
      "init   \t [ 4.80952551]. \t  -0.9952859553348876 \t -0.1084719588823907\n",
      "1      \t [ 1.58178017]. \t  \u001b[92m0.999939678175\u001b[0m \t 0.999939678175\n",
      "2      \t [ 0.66932349]. \t  0.620455578287 \t 0.999939678175\n",
      "3      \t [ 2.06732052]. \t  0.879243645882 \t 0.999939678175\n",
      "4      \t [ 0.]. \t  0.0    \t 0.999939678175\n",
      "5      \t [ 1.44115569]. \t  0.991608415302 \t 0.999939678175\n",
      "6      \t [ 1.57443654]. \t  \u001b[92m0.999993374431\u001b[0m \t 0.999993374431\n",
      "7      \t [ 1.57340829]. \t  \u001b[92m0.999996588829\u001b[0m \t 0.999996588829\n",
      "8      \t [ 1.57299324]. \t  \u001b[92m0.999997586776\u001b[0m \t 0.999997586776\n",
      "9      \t [ 1.57277995]. \t  \u001b[92m0.999998032627\u001b[0m \t 0.999998032627\n",
      "10     \t [ 1.57264169]. \t  \u001b[92m0.999998297312\u001b[0m \t 0.999998297312\n",
      "11     \t [ 1.57254908]. \t  \u001b[92m0.99999846393\u001b[0m \t 0.99999846393\n",
      "12     \t [ 1.57247636]. \t  \u001b[92m0.999998588739\u001b[0m \t 0.999998588739\n",
      "13     \t [ 1.57243614]. \t  \u001b[92m0.999998655504\u001b[0m \t 0.999998655504\n",
      "14     \t [ 1.57239483]. \t  \u001b[92m0.999998722389\u001b[0m \t 0.999998722389\n",
      "15     \t [ 1.57236396]. \t  \u001b[92m0.999998771261\u001b[0m \t 0.999998771261\n",
      "16     \t [ 1.4632084]. \t  0.994217999515 \t 0.999998771261\n",
      "17     \t [ 1.57234638]. \t  \u001b[92m0.999998798666\u001b[0m \t 0.999998798666\n",
      "18     \t [ 1.5723113]. \t  \u001b[92m0.999998852426\u001b[0m \t 0.999998852426\n",
      "19     \t [ 1.57228755]. \t  \u001b[92m0.999998888131\u001b[0m \t 0.999998888131\n",
      "20     \t [ 1.68351044]. \t  0.993654486551 \t 0.999998888131\n"
     ]
    }
   ],
   "source": [
    "import numpy as np\n",
    "from pyGPGO.covfunc import squaredExponential\n",
    "from pyGPGO.acquisition import Acquisition\n",
    "from pyGPGO.surrogates.GaussianProcess import GaussianProcess\n",
    "from pyGPGO.GPGO import GPGO\n",
    "\n",
    "def f(x):\n",
    "    return (np.sin(x))\n",
    "\n",
    "# acquisition functions\n",
    "acq_functions = ['ExpectedImprovement', 'ProbabilityImprovement', 'UCB']\n",
    "    \n",
    "def hyp_tuning(acq, f):\n",
    "    sexp = squaredExponential()\n",
    "    gp = GaussianProcess(sexp)\n",
    "    acq = Acquisition(mode=acq)\n",
    "    param = {'max_zoom': ('cont', [1, 10]), \n",
    "         'lr': ('cont', [0, 10]),\n",
    "         'epochs':('int', [1, 20]),\n",
    "         'cycle_len':('int', [1, 20]),\n",
    "         'cycle_mult':('int', [1, 20])}\n",
    "    np.random.seed(23)\n",
    "    gpgo = GPGO(gp, acq, f, param)\n",
    "    gpgo.run(max_iter=20)\n",
    "    # add the plotting here\n",
    "    \n",
    "    \n",
    "for i in acq_functions:\n",
    "    hyp_tuning(i, f)"
   ]
  },
  {
   "cell_type": "code",
   "execution_count": 2,
   "metadata": {},
   "outputs": [
    {
     "data": {
      "text/plain": [
       "100000.0"
      ]
     },
     "execution_count": 2,
     "metadata": {},
     "output_type": "execute_result"
    }
   ],
   "source": []
  },
  {
   "cell_type": "code",
   "execution_count": 7,
   "metadata": {},
   "outputs": [
    {
     "data": {
      "text/plain": [
       "1.0"
      ]
     },
     "execution_count": 7,
     "metadata": {},
     "output_type": "execute_result"
    }
   ],
   "source": [
    "np.sin(np.pi/2)"
   ]
  }
 ],
 "metadata": {
  "kernelspec": {
   "display_name": "Python 3",
   "language": "python",
   "name": "python3"
  },
  "language_info": {
   "codemirror_mode": {
    "name": "ipython",
    "version": 3
   },
   "file_extension": ".py",
   "mimetype": "text/x-python",
   "name": "python",
   "nbconvert_exporter": "python",
   "pygments_lexer": "ipython3",
   "version": "3.6.2"
  }
 },
 "nbformat": 4,
 "nbformat_minor": 2
}

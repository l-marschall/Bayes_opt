{
 "cells": [
  {
   "cell_type": "code",
   "execution_count": 42,
   "metadata": {},
   "outputs": [
    {
     "name": "stdout",
     "output_type": "stream",
     "text": [
      "ExpectedImprovement\n",
      "Evaluation \t Proposed point \t  Current eval. \t Best eval.\n",
      "init   \t [ 3.25027846]. \t  -0.1084719588823907 \t -0.1084719588823907\n",
      "init   \t [ 5.94994152]. \t  -0.32711007941725473 \t -0.1084719588823907\n",
      "init   \t [ 4.80952551]. \t  -0.9952859553348876 \t -0.1084719588823907\n",
      "1      \t [ 1.58178017]. \t  \u001b[92m0.999939678175\u001b[0m \t 0.999939678175\n",
      "2      \t [ 0.66932349]. \t  0.620455578287 \t 0.999939678175\n",
      "3      \t [ 2.06732052]. \t  0.879243645882 \t 0.999939678175\n",
      "4      \t [ 0.]. \t  0.0    \t 0.999939678175\n",
      "5      \t [ 1.44115569]. \t  0.991608415302 \t 0.999939678175\n",
      "6      \t [ 1.57443619]. \t  \u001b[92m0.999993375716\u001b[0m \t 0.999993375716\n",
      "7      \t [ 1.57340504]. \t  \u001b[92m0.999996597311\u001b[0m \t 0.999996597311\n",
      "8      \t [ 1.57298701]. \t  \u001b[92m0.999997600453\u001b[0m \t 0.999997600453\n",
      "9      \t [ 1.57277291]. \t  \u001b[92m0.999998046565\u001b[0m \t 0.999998046565\n",
      "10     \t [ 1.57264269]. \t  \u001b[92m0.999998295467\u001b[0m \t 0.999998295467\n",
      "11     \t [ 1.57254961]. \t  \u001b[92m0.999998463008\u001b[0m \t 0.999998463008\n",
      "12     \t [ 1.57248409]. \t  \u001b[92m0.999998575728\u001b[0m \t 0.999998575728\n",
      "13     \t [ 1.57243403]. \t  \u001b[92m0.99999865896\u001b[0m \t 0.99999865896\n",
      "14     \t [ 1.57239556]. \t  \u001b[92m0.99999872122\u001b[0m \t 0.99999872122\n",
      "15     \t [ 1.57236387]. \t  \u001b[92m0.999998771401\u001b[0m \t 0.999998771401\n",
      "16     \t [ 1.4632084]. \t  0.994217999229 \t 0.999998771401\n",
      "17     \t [ 1.57233133]. \t  \u001b[92m0.999998821884\u001b[0m \t 0.999998821884\n",
      "18     \t [ 1.57231051]. \t  \u001b[92m0.999998853618\u001b[0m \t 0.999998853618\n",
      "19     \t [ 1.57228945]. \t  \u001b[92m0.999998885296\u001b[0m \t 0.999998885296\n",
      "20     \t [ 1.68351045]. \t  0.993654485723 \t 0.999998885296\n",
      "ProbabilityImprovement\n",
      "Evaluation \t Proposed point \t  Current eval. \t Best eval.\n",
      "init   \t [ 3.25027846]. \t  -0.1084719588823907 \t -0.1084719588823907\n",
      "init   \t [ 5.94994152]. \t  -0.32711007941725473 \t -0.1084719588823907\n",
      "init   \t [ 4.80952551]. \t  -0.9952859553348876 \t -0.1084719588823907\n",
      "1      \t [ 3.23389515]. \t  \u001b[92m-0.0921714846298\u001b[0m \t -0.0921714846298\n",
      "2      \t [ 3.14180923]. \t  \u001b[92m-0.000216574309286\u001b[0m \t -0.000216574309286\n",
      "3      \t [ 3.07271609]. \t  \u001b[92m0.0688221156364\u001b[0m \t 0.0688221156364\n",
      "4      \t [ 2.76791595]. \t  \u001b[92m0.365040875357\u001b[0m \t 0.365040875357\n",
      "5      \t [ 2.6409336]. \t  \u001b[92m0.480003809915\u001b[0m \t 0.480003809915\n",
      "6      \t [ 2.24721572]. \t  \u001b[92m0.779819193076\u001b[0m \t 0.779819193076\n",
      "7      \t [ 2.14646744]. \t  \u001b[92m0.838827136567\u001b[0m \t 0.838827136567\n",
      "8      \t [ 1.98683117]. \t  \u001b[92m0.914698591747\u001b[0m \t 0.914698591747\n",
      "9      \t [ 1.90122816]. \t  \u001b[92m0.945902323677\u001b[0m \t 0.945902323677\n",
      "10     \t [ 1.80915605]. \t  \u001b[92m0.971726566704\u001b[0m \t 0.971726566704\n",
      "11     \t [ 1.74064511]. \t  \u001b[92m0.985610338214\u001b[0m \t 0.985610338214\n",
      "12     \t [ 1.65663124]. \t  \u001b[92m0.996318444817\u001b[0m \t 0.996318444817\n",
      "13     \t [ 1.5942756]. \t  \u001b[92m0.99972437448\u001b[0m \t 0.99972437448\n",
      "14     \t [ 1.57120012]. \t  \u001b[92m0.999999918475\u001b[0m \t 0.999999918475\n",
      "15     \t [ 1.56996354]. \t  0.999999653232 \t 0.999999918475\n",
      "16     \t [ 1.57001388]. \t  0.999999693888 \t 0.999999918475\n",
      "17     \t [ 1.57004019]. \t  0.999999714126 \t 0.999999918475\n",
      "18     \t [ 1.57005623]. \t  0.999999726128 \t 0.999999918475\n",
      "19     \t [ 1.57006703]. \t  0.999999734065 \t 0.999999918475\n",
      "20     \t [ 1.570075]. \t  0.999999739844 \t 0.999999918475\n",
      "UCB\n",
      "Evaluation \t Proposed point \t  Current eval. \t Best eval.\n",
      "init   \t [ 3.25027846]. \t  -0.1084719588823907 \t -0.1084719588823907\n",
      "init   \t [ 5.94994152]. \t  -0.32711007941725473 \t -0.1084719588823907\n",
      "init   \t [ 4.80952551]. \t  -0.9952859553348876 \t -0.1084719588823907\n",
      "1      \t [ 1.23443844]. \t  \u001b[92m0.943963007379\u001b[0m \t 0.943963007379\n",
      "2      \t [ 0.09617332]. \t  0.0960251304642 \t 0.943963007379\n",
      "3      \t [ 1.99973613]. \t  0.909407203621 \t 0.943963007379\n",
      "4      \t [ 1.59814091]. \t  \u001b[92m0.999626160264\u001b[0m \t 0.999626160264\n",
      "5      \t [ 1.53770818]. \t  0.999452637152 \t 0.999626160264\n",
      "6      \t [ 1.56774347]. \t  \u001b[92m0.999995340044\u001b[0m \t 0.999995340044\n",
      "7      \t [ 1.5678012]. \t  \u001b[92m0.999995514601\u001b[0m \t 0.999995514601\n",
      "8      \t [ 1.56782457]. \t  \u001b[92m0.999995584349\u001b[0m \t 0.999995584349\n",
      "9      \t [ 1.56783715]. \t  \u001b[92m0.999995621636\u001b[0m \t 0.999995621636\n",
      "10     \t [ 1.56784478]. \t  \u001b[92m0.999995644195\u001b[0m \t 0.999995644195\n",
      "11     \t [ 1.56784928]. \t  \u001b[92m0.999995657465\u001b[0m \t 0.999995657465\n",
      "12     \t [ 1.56785314]. \t  \u001b[92m0.999995668819\u001b[0m \t 0.999995668819\n",
      "13     \t [ 1.56785506]. \t  \u001b[92m0.999995674479\u001b[0m \t 0.999995674479\n",
      "14     \t [ 1.56785739]. \t  \u001b[92m0.999995681328\u001b[0m \t 0.999995681328\n",
      "15     \t [ 1.56785912]. \t  \u001b[92m0.999995686423\u001b[0m \t 0.999995686423\n",
      "16     \t [ 1.56785991]. \t  \u001b[92m0.999995688729\u001b[0m \t 0.999995688729\n",
      "17     \t [ 1.56786043]. \t  \u001b[92m0.999995690258\u001b[0m \t 0.999995690258\n",
      "18     \t [ 1.56786156]. \t  \u001b[92m0.999995693562\u001b[0m \t 0.999995693562\n",
      "19     \t [ 1.5678622]. \t  \u001b[92m0.999995695456\u001b[0m \t 0.999995695456\n",
      "20     \t [ 1.56786283]. \t  \u001b[92m0.999995697293\u001b[0m \t 0.999995697293\n"
     ]
    }
   ],
   "source": [
    "import numpy as np\n",
    "from pyGPGO.covfunc import squaredExponential\n",
    "from pyGPGO.acquisition import Acquisition\n",
    "from pyGPGO.surrogates.GaussianProcess import GaussianProcess\n",
    "from pyGPGO.GPGO import GPGO\n",
    "import pandas as pd\n",
    "%matplotlib inline\n",
    "\n",
    "def f(x):\n",
    "    return np.sin(x)\n",
    "\n",
    "# acquisition functions\n",
    "acq_functions = ['ExpectedImprovement', 'ProbabilityImprovement', 'UCB']\n",
    "    \n",
    "def hyp_tuning(acq, f):\n",
    "    sexp = squaredExponential()\n",
    "    gp = GaussianProcess(sexp)\n",
    "    acq = Acquisition(mode=acq)\n",
    "    #param = {'max_zoom': ('cont', [1, 10]), \n",
    "    #     'lr': ('cont', [0, 10]),\n",
    "    #     'epochs':('int', [1, 20]),\n",
    "    #     'cycle_len':('int', [1, 20]),\n",
    "    #     'cycle_mult':('int', [1, 20])}\n",
    "    param = {'x': ('cont', [0, 2 * np.pi])}\n",
    "\n",
    "    np.random.seed(23)\n",
    "    gpgo = GPGO(gp, acq, f, param)\n",
    "    gpgo.run(max_iter=20)\n",
    "    output = gpgo.getResult()\n",
    "    history = gpgo.history\n",
    "    return ([output, history]) \n",
    "    # add the plotting here\n",
    "    \n",
    "df = pd.DataFrame(columns=acq_functions, dtype=float)    \n",
    "for i in acq_functions:\n",
    "    print(i)\n",
    "    df[i] = hyp_tuning(i, f)[1]\n",
    "    \n",
    "    "
   ]
  },
  {
   "cell_type": "code",
   "execution_count": 43,
   "metadata": {},
   "outputs": [
    {
     "data": {
      "text/plain": [
       "<matplotlib.axes._subplots.AxesSubplot at 0x1163a3cc0>"
      ]
     },
     "execution_count": 43,
     "metadata": {},
     "output_type": "execute_result"
    },
    {
     "data": {
      "image/png": "[encoded data removed]",
      "text/plain": [
       "<matplotlib.figure.Figure at 0x115ee5f28>"
      ]
     },
     "metadata": {},
     "output_type": "display_data"
    }
   ],
   "source": [
    "# plotting\n",
    "df.plot()"
   ]
  },
  {
   "cell_type": "code",
   "execution_count": 2,
   "metadata": {},
   "outputs": [
    {
     "data": {
      "text/plain": [
       "100000.0"
      ]
     },
     "execution_count": 2,
     "metadata": {},
     "output_type": "execute_result"
    }
   ],
   "source": [
    "# Compare performance of Bayes_Opt vs RandomSearch\n",
    "\n"
   ]
  },
  {
   "cell_type": "code",
   "execution_count": 7,
   "metadata": {},
   "outputs": [
    {
     "data": {
      "text/plain": [
       "1.0"
      ]
     },
     "execution_count": 7,
     "metadata": {},
     "output_type": "execute_result"
    }
   ],
   "source": []
  }
 ],
 "metadata": {
  "kernelspec": {
   "display_name": "Python 3",
   "language": "python",
   "name": "python3"
  },
  "language_info": {
   "codemirror_mode": {
    "name": "ipython",
    "version": 3
   },
   "file_extension": ".py",
   "mimetype": "text/x-python",
   "name": "python",
   "nbconvert_exporter": "python",
   "pygments_lexer": "ipython3",
   "version": "3.6.2"
  }
 },
 "nbformat": 4,
 "nbformat_minor": 2
}

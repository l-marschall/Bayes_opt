{
 "cells": [
  {
   "cell_type": "markdown",
   "metadata": {},
   "source": [
    "## 1. Introduction"
   ]
  },
  {
   "cell_type": "markdown",
   "metadata": {},
   "source": [
    "The goal of this project is to compare the performance of different approaches of hypterparameter selection running a convolutional neural network. The two competing methods are a sophisticated hyperparameter optimization approach using a Gaussian Process versus a simple Random Grid Search. Both methods were developed in order to minimize the running time of optimization process of expensive models. The Gaussian Process uses posterior distributions and certain acquisition functions to determine a new set of hyperparameters. On the other hand, a Random Grid Search simply draws from a set of pre-defined distributions, each for every hyperparameter. The two approaches are presented below in more detail and compared in terms of image-classification accuracy.  "
   ]
  },
  {
   "cell_type": "markdown",
   "metadata": {},
   "source": [
    "## 2. Model, data and hyperparameters"
   ]
  },
  {
   "cell_type": "markdown",
   "metadata": {},
   "source": [
    "We use a version of the Resnet-34 model (https://www.kaggle.com/pytorch/resnet34) from the fastai library (https://github.com/fastai/fastai) in a binary image classification setting. The dataset contains 25,000 photos of cats and dogs for training, and another 12,500 for testing. The convolutional layers of the model were pretrained on 1.2 million photos from ImageNet. For the sake of simplicity, we do not retrain the convolutional layers of the model, but only train the dense layers in the second part of the model. For training, we use stochastic gradient descent with restarts as implemented in the fastai library. Thus, we tune the following hyperparameters:\n",
    "- max_zoom: the maximum zoom when augmenting the training data \n",
    "- lr: the maximum learning rate to start with \n",
    "- ps: dropout used by the model \n",
    "- epochs: number of cycles over the training data (misleading name, but we want to be consistent with fastai)\n",
    "- cycle_len: length of first cycle in epochs (1 epoch = 1 iteration over the training data) \n",
    "- cycle_mult: multiplier for the length of consecutive cycles in terms of the previous one"
   ]
  },
  {
   "cell_type": "markdown",
   "metadata": {},
   "source": [
    "#### Exemplary visualisation of SGDC with restarts for lr=0.1, epochs=3, cycle_len=2, cycle_mult=2"
   ]
  },
  {
   "cell_type": "markdown",
   "metadata": {},
   "source": [
    "<img src=\"plot_lr.png\" width=\"60%\">"
   ]
  },
  {
   "cell_type": "markdown",
   "metadata": {},
   "source": [
    "## 3. Hyperparameter optimisation"
   ]
  },
  {
   "cell_type": "markdown",
   "metadata": {},
   "source": [
    "We use Bayesian Optimisation to find the set of hyperparameters that optimises the generalization performance of the Convolutional Neural Network. In particular, we choose the Gaussian Process (GP) as the surrogate model  with squared exponential kernel, and we try this for different types of acquisition functions (Expected Improvement, Probability Improvement, UCB and predictive entropy) . "
   ]
  },
  {
   "cell_type": "markdown",
   "metadata": {},
   "source": [
    "We assume that $f(\\mathbf{x})$ is a black-box function that maps a set of hyperparameters $\\mathbf{x}$ to the generalization performance of our Machine Learning model. We consider this function as a vector of infinite size, and we assume it follows a multivariate gaussian distribution. We write this as\n",
    "\n",
    "$$f(\\mathbf{x}) \\sim \\mathcal{GP}(m(\\mathbf{x}), k(\\mathbf{x}, \\mathbf{x}'))$$"
   ]
  },
  {
   "cell_type": "markdown",
   "metadata": {},
   "source": [
    "where $m(\\mathbf{x}) = \\mathbb{E}[f(\\mathbf{x})]$ and $k(\\mathbf{x},\\mathbf{x}') = \\mathbb{E}\\big[\\big(f(\\mathbf{x}) - m(\\mathbf{x})\\big)\\big(f(\\mathbf{x}')-m(\\mathbf{x}')\\big)\\big]$. Furthermore, we choose the squared exponential kernel\n",
    "\n",
    "$$k(x, x') = \\sigma^2 exp\\big(-\\frac{(x - x')^2}{2 \\lambda^2} \\big)$$"
   ]
  },
  {
   "cell_type": "markdown",
   "metadata": {},
   "source": [
    "We can make predictions for new points $X_*$ given past data $\\{\\mathbf{X},\\mathbf{y}\\}$, where $y = f(\\mathbf{x}) + noise$, using the mean and covariance of the gaussian posterior\n",
    "\n",
    "$$\\mathbf{f_*} \\sim \\mathcal{N} \\big(\\bar{\\mathbf{f_*}}, cov(\\mathbf{f_*}) \\big)$$\n",
    "\n",
    "where \n",
    "\n",
    "$$\\bar{\\mathbf{f_*}} = K(X_*, X)\\big[K(X,X) + \\sigma^2 \\mathbf{I} \\big]^{-1} \\mathbf{y}$$\n",
    "\n",
    "$$cov(\\mathbf{f_*}) = K(X_*, X_*) - K(X_*, X)\\big[ K(X, X) + \\sigma^2 \\mathbf{I}\\big]^{-1}K(X, X_*)$$"
   ]
  },
  {
   "cell_type": "markdown",
   "metadata": {},
   "source": [
    "### Acquisition functions"
   ]
  },
  {
   "cell_type": "markdown",
   "metadata": {},
   "source": [
    "The acquisition function, which we denote by $a : \\mathcal{X} → \\mathbb{R}^+$, determines what point in $\\mathcal{X}$ should be evaluated next via a proxy optimization $\\mathbf{x}_{next} = \\arg \\max_\\mathbf{x} a(\\mathbf{x})$, where different functions have been proposed. These functions depend on the previous observations as well as the GP hyperparameters. Fortunately, under the Gaussian process prior, these functions depend on the model solely through its predictive mean function $\\mu(\\mathbf{x}; \\{\\mathbf{x}_n, y_n\\}, \\theta)$ and predictive variance function $\\sigma^2(\\mathbf{x}; \\{\\mathbf{x}_n, y_n\\}, \\theta)$. We denote $\\mathbf{x}_{best} = \\arg \\max_{\\mathbf{x}_n} f(\\mathbf{x}_n)$"
   ]
  },
  {
   "cell_type": "markdown",
   "metadata": {},
   "source": [
    "#### Probability of Improvement\n",
    "\n",
    "Maximizing the probability of improving over the best current value:\n",
    "\n",
    "$$a_{PI}(\\mathbf{x}; \\{\\mathbf{x}_n, y_n\\}, \\theta) = \\Phi(\\gamma(\\mathbf{x})), \\mbox{  where  } \\gamma(\\mathbf{x}) = \\frac{f(\\mathbf{x}_{best}) - \\mu(\\mathbf{x}; \\{\\mathbf{x}_n, y_n\\}, \\theta)}{\\sigma(\\mathbf{x}; \\{\\mathbf{x}_n, y_n\\}, \\theta)}$$\n",
    "\n"
   ]
  },
  {
   "cell_type": "markdown",
   "metadata": {},
   "source": [
    "#### Expected Improvement"
   ]
  },
  {
   "cell_type": "markdown",
   "metadata": {},
   "source": [
    "Maximize the expected improvement over the current best value: \n",
    "\n",
    "$$a_{EI}(\\mathbf{x}; \\{\\mathbf{x}_n, y_n\\}, \\theta) = \\sigma(\\mathbf{x}; \\{\\mathbf{x}_n, y_n\\}, \\theta)\\big(\\gamma(\\mathbf{x})\\Phi\\big(\\gamma(\\mathbf{x})\\big) + \\mathcal{N}\\big(\\gamma(\\mathbf{x}); 0 , 1\\big)\\big)$$"
   ]
  },
  {
   "cell_type": "markdown",
   "metadata": {},
   "source": [
    "\n",
    "#### Upper Confidence Bound (UCB)"
   ]
  },
  {
   "cell_type": "markdown",
   "metadata": {},
   "source": [
    "Another alternative is to build acquisition functions that minimize regret over the course of their optimisation:\n",
    "\n",
    "$$a_{UCB}(\\mathbf{x}; \\{\\mathbf{x}_n, y_n\\}, \\theta) = \\mu(\\mathbf{x}; \\{\\mathbf{x}_n, y_n\\}, \\theta) + \\kappa \\sigma(\\mathbf{x}; \\{\\mathbf{x}_n, y_n\\}, \\theta)$$\n",
    "\n",
    "where $\\kappa$ can be tuned to balance exploration vs exploitation."
   ]
  },
  {
   "cell_type": "markdown",
   "metadata": {},
   "source": [
    "#### Entropy Search (as implemented by pyGPGO package)"
   ]
  },
  {
   "cell_type": "markdown",
   "metadata": {},
   "source": [
    "An alternative approach is to maximize the expected posterior information gain about the global maximizer $\\mathbf{x}_*$ evaluated over the grid in the input space. This information gain can be measured in terms of the negative differential entropy. In practice, the following formula is implemented for the entropy search:"
   ]
  },
  {
   "cell_type": "markdown",
   "metadata": {},
   "source": [
    "$$a_{ES}(\\mathbf{x}; \\{\\mathbf{x}_n, y_n\\}, \\theta) = \\frac{1}{2}\\log\\big(2 \\pi e (\\sigma(\\mathbf{x}; \\{\\mathbf{x}_n, y_n\\}, \\theta) + noise) \\big)$$\n"
   ]
  },
  {
   "cell_type": "markdown",
   "metadata": {},
   "source": [
    "## 4. Implementation and results"
   ]
  },
  {
   "cell_type": "markdown",
   "metadata": {},
   "source": [
    "### Setup "
   ]
  },
  {
   "cell_type": "code",
   "execution_count": 1,
   "metadata": {},
   "outputs": [
    {
     "data": {
      "text/plain": [
       "'%.3f'"
      ]
     },
     "execution_count": 1,
     "metadata": {},
     "output_type": "execute_result"
    }
   ],
   "source": [
    "import numpy as np\n",
    "from pyGPGO.covfunc import squaredExponential\n",
    "from pyGPGO.acquisition import Acquisition\n",
    "from pyGPGO.surrogates.GaussianProcess import GaussianProcess\n",
    "from pyGPGO.GPGO import GPGO\n",
    "import pandas as pd\n",
    "from image_classifier import *\n",
    "%matplotlib inline\n",
    "%precision 3"
   ]
  },
  {
   "cell_type": "markdown",
   "metadata": {},
   "source": [
    "### Main function"
   ]
  },
  {
   "cell_type": "code",
   "execution_count": 2,
   "metadata": {
    "collapsed": true
   },
   "outputs": [],
   "source": [
    "def hyp_optim_gp(acq_fn, fn, param_sets, max_iter=20, init_evals=3):\n",
    "    \"\"\"\n",
    "    fit GP hyperparameter optimisation procedure \n",
    "    with given parameters and returns time series of \n",
    "    optimal accuracy at each step\n",
    "    \"\"\"\n",
    "    np.random.seed(314)\n",
    "    sexp = squaredExponential(); gp = GaussianProcess(sexp)\n",
    "    acq = Acquisition(mode=acq_fn) if acq_fn != \"RS\" else Acquisition(\"UCB\")\n",
    "    gpgo = GPGO(gp, acq, fn, param_sets)\n",
    "    if acq_fn == \"RS\": # RS = random search\n",
    "        init_history = []\n",
    "        # intial runs\n",
    "        for it in range(init_evals): \n",
    "            params = gpgo._sampleParam()\n",
    "            init_history.append(fn(**params))\n",
    "        history = [np.max(init_history)]\n",
    "        for it in range(max_iter): \n",
    "            params = gpgo._sampleParam()\n",
    "            print(np.max(fn(**params)))\n",
    "            print(history[-1])\n",
    "            history.append(np.max((fn(**params), history[-1])))\n",
    "        return history\n",
    "    else: \n",
    "        gpgo.run(max_iter=max_iter, init_evals=init_evals)\n",
    "        return gpgo.history"
   ]
  },
  {
   "cell_type": "markdown",
   "metadata": {},
   "source": [
    "### Define parameter sets"
   ]
  },
  {
   "cell_type": "code",
   "execution_count": 3,
   "metadata": {
    "collapsed": true
   },
   "outputs": [],
   "source": [
    "param_sets = {\n",
    "    'max_zoom': ('cont', [1, 4]), \n",
    "    'lr': ('cont', [1e-10, 2]),\n",
    "    'ps': ('cont', [.2, .8]),\n",
    "    'epochs': ('int', [1, 5]),\n",
    "    'cycle_len': ('int', [1, 2]),\n",
    "    'cycle_mult': ('int', [1, 2])\n",
    "}"
   ]
  },
  {
   "cell_type": "markdown",
   "metadata": {},
   "source": [
    "### Run model and plot results"
   ]
  },
  {
   "cell_type": "code",
   "execution_count": 4,
   "metadata": {},
   "outputs": [
    {
     "name": "stdout",
     "output_type": "stream",
     "text": [
      "------------------------------------ RS -----------------------------------\n",
      "Evaluation \t Proposed point \t  Current eval. \t Best eval.\n"
     ]
    },
    {
     "data": {
      "application/vnd.jupyter.widget-view+json": {
       "model_id": "9231e76c87f7490b8f3e4bd6cd8b9145",
       "version_major": 2,
       "version_minor": 0
      },
      "text/plain": [
       "HBox(children=(IntProgress(value=0, description='Epoch', max=3), HTML(value='')))"
      ]
     },
     "metadata": {},
     "output_type": "display_data"
    },
    {
     "name": "stdout",
     "output_type": "stream",
     "text": [
      "epoch      trn_loss   val_loss   accuracy                   \n",
      "    0      65.228875  17.41553   0.9875    \n",
      "    1      216.876787 47.826204  0.989                          \n",
      "    2      4797.908625 1465.680239 0.989                        \n",
      "\n",
      "                                             \r"
     ]
    },
    {
     "data": {
      "application/vnd.jupyter.widget-view+json": {
       "model_id": "15838e1b9d974ad5adf00d66a635ce35",
       "version_major": 2,
       "version_minor": 0
      },
      "text/plain": [
       "HBox(children=(IntProgress(value=0, description='Epoch', max=4), HTML(value='')))"
      ]
     },
     "metadata": {},
     "output_type": "display_data"
    },
    {
     "name": "stdout",
     "output_type": "stream",
     "text": [
      "epoch      trn_loss   val_loss   accuracy                       \n",
      "    0      1.2461186084830993e+22 1.4842120972102405e+20 0.5       \n",
      "    1      nan        nan        0.5                            \n",
      "    2      nan        nan        0.5                       \n",
      "    3      nan        nan        0.5                       \n",
      "\n",
      "                                             \r"
     ]
    },
    {
     "data": {
      "application/vnd.jupyter.widget-view+json": {
       "model_id": "f62291674b9d4ebe92768ab0a622fd95",
       "version_major": 2,
       "version_minor": 0
      },
      "text/plain": [
       "HBox(children=(IntProgress(value=0, description='Epoch', max=1), HTML(value='')))"
      ]
     },
     "metadata": {},
     "output_type": "display_data"
    },
    {
     "name": "stdout",
     "output_type": "stream",
     "text": [
      "epoch      trn_loss   val_loss   accuracy                       \n",
      "    0      79922.677256 19526.1285 0.9835    \n",
      "\n",
      "                                             \r"
     ]
    },
    {
     "data": {
      "application/vnd.jupyter.widget-view+json": {
       "model_id": "cba124cf413d41dfb80ae74e3b1c79c0",
       "version_major": 2,
       "version_minor": 0
      },
      "text/plain": [
       "HBox(children=(IntProgress(value=0, description='Epoch', max=1), HTML(value='')))"
      ]
     },
     "metadata": {},
     "output_type": "display_data"
    },
    {
     "name": "stdout",
     "output_type": "stream",
     "text": [
      "epoch      trn_loss   val_loss   accuracy                       \n",
      "    0      170738573775.76825 49666948268.032 0.987     \n",
      "\n",
      "0.987                                        \n",
      "0.989\n"
     ]
    },
    {
     "data": {
      "application/vnd.jupyter.widget-view+json": {
       "model_id": "0ac399ac883a48ccb2d78e276a837caa",
       "version_major": 2,
       "version_minor": 0
      },
      "text/plain": [
       "HBox(children=(IntProgress(value=0, description='Epoch', max=1), HTML(value='')))"
      ]
     },
     "metadata": {},
     "output_type": "display_data"
    },
    {
     "name": "stdout",
     "output_type": "stream",
     "text": [
      "epoch      trn_loss   val_loss   accuracy                       \n",
      "    0      170738573775.76825 49666948268.032 0.987     \n",
      "\n",
      "                                             \r"
     ]
    },
    {
     "data": {
      "application/vnd.jupyter.widget-view+json": {
       "model_id": "a53b2bee841e4dce861bd8acc4df57e6",
       "version_major": 2,
       "version_minor": 0
      },
      "text/plain": [
       "HBox(children=(IntProgress(value=0, description='Epoch', max=4), HTML(value='')))"
      ]
     },
     "metadata": {},
     "output_type": "display_data"
    },
    {
     "name": "stdout",
     "output_type": "stream",
     "text": [
      "epoch      trn_loss   val_loss   accuracy                     \n",
      "    0      0.048146   0.026622   0.988     \n",
      "    1      0.037853   0.024808   0.99                         \n",
      "    2      0.031321   0.024904   0.9895                       \n",
      "    3      0.034301   0.024369   0.9905                       \n",
      "\n",
      "0.9905                                       \n",
      "0.989\n"
     ]
    },
    {
     "data": {
      "application/vnd.jupyter.widget-view+json": {
       "model_id": "cf633a409dcf4c869d344efdad89b81f",
       "version_major": 2,
       "version_minor": 0
      },
      "text/plain": [
       "HBox(children=(IntProgress(value=0, description='Epoch', max=4), HTML(value='')))"
      ]
     },
     "metadata": {},
     "output_type": "display_data"
    },
    {
     "name": "stdout",
     "output_type": "stream",
     "text": [
      "epoch      trn_loss   val_loss   accuracy                     \n",
      "    0      0.04681    0.025344   0.9895    \n",
      "    1      0.036086   0.025382   0.9895                       \n",
      "    2      0.032283   0.022392   0.99                         \n",
      "    3      0.033757   0.022529   0.9905                       \n",
      "\n",
      "                                             \r"
     ]
    },
    {
     "data": {
      "application/vnd.jupyter.widget-view+json": {
       "model_id": "549858839bb44f5c808baeb6c9ce6af7",
       "version_major": 2,
       "version_minor": 0
      },
      "text/plain": [
       "HBox(children=(IntProgress(value=0, description='Epoch', max=1), HTML(value='')))"
      ]
     },
     "metadata": {},
     "output_type": "display_data"
    },
    {
     "name": "stdout",
     "output_type": "stream",
     "text": [
      "epoch      trn_loss   val_loss   accuracy                       \n",
      "    0      5.167438479474063e+20 7.26228475121899e+18 0.5       \n",
      "\n",
      "0.5                                          \n",
      "0.9905\n"
     ]
    },
    {
     "data": {
      "application/vnd.jupyter.widget-view+json": {
       "model_id": "489e4efc9f7e4f05a5eb527a21a8b97a",
       "version_major": 2,
       "version_minor": 0
      },
      "text/plain": [
       "HBox(children=(IntProgress(value=0, description='Epoch', max=1), HTML(value='')))"
      ]
     },
     "metadata": {},
     "output_type": "display_data"
    },
    {
     "name": "stdout",
     "output_type": "stream",
     "text": [
      "epoch      trn_loss   val_loss   accuracy                       \n",
      "    0      5.167438479474063e+20 7.26228475121899e+18 0.5       \n",
      "\n",
      "                                             \r"
     ]
    },
    {
     "data": {
      "application/vnd.jupyter.widget-view+json": {
       "model_id": "9e4fb9d09b224fe2b0175f34e204355c",
       "version_major": 2,
       "version_minor": 0
      },
      "text/plain": [
       "HBox(children=(IntProgress(value=0, description='Epoch', max=2), HTML(value='')))"
      ]
     },
     "metadata": {},
     "output_type": "display_data"
    },
    {
     "name": "stdout",
     "output_type": "stream",
     "text": [
      "epoch      trn_loss   val_loss   accuracy                    \n",
      "    0      0.383502   0.111861   0.988     \n",
      "    1      0.301813   0.100965   0.9915                      \n",
      "\n",
      "0.9915                                       \n",
      "0.9905\n"
     ]
    },
    {
     "data": {
      "application/vnd.jupyter.widget-view+json": {
       "model_id": "60c6c800056a44ae92b8ed3667272f4b",
       "version_major": 2,
       "version_minor": 0
      },
      "text/plain": [
       "HBox(children=(IntProgress(value=0, description='Epoch', max=2), HTML(value='')))"
      ]
     },
     "metadata": {},
     "output_type": "display_data"
    },
    {
     "name": "stdout",
     "output_type": "stream",
     "text": [
      "epoch      trn_loss   val_loss   accuracy                    \n",
      "    0      0.383502   0.111861   0.988     \n",
      "    1      0.257217   0.052929   0.993                       \n",
      "\n",
      "                                             \r"
     ]
    },
    {
     "data": {
      "application/vnd.jupyter.widget-view+json": {
       "model_id": "ce9e717ea5144d56bc299ef8c7a19f40",
       "version_major": 2,
       "version_minor": 0
      },
      "text/plain": [
       "HBox(children=(IntProgress(value=0, description='Epoch', max=2), HTML(value='')))"
      ]
     },
     "metadata": {},
     "output_type": "display_data"
    },
    {
     "name": "stdout",
     "output_type": "stream",
     "text": [
      "epoch      trn_loss   val_loss   accuracy                       \n",
      "    0      4.525516960936084e+18 1.7840625864416637e+17 0.5       \n",
      "    1      nan        nan        0.5                            \n",
      "\n",
      "0.5                                          \n",
      "0.993\n"
     ]
    },
    {
     "data": {
      "application/vnd.jupyter.widget-view+json": {
       "model_id": "e4a00aaa2e1a463a8ea971ab371482f3",
       "version_major": 2,
       "version_minor": 0
      },
      "text/plain": [
       "HBox(children=(IntProgress(value=0, description='Epoch', max=2), HTML(value='')))"
      ]
     },
     "metadata": {},
     "output_type": "display_data"
    },
    {
     "name": "stdout",
     "output_type": "stream",
     "text": [
      "epoch      trn_loss   val_loss   accuracy                       \n",
      "    0      7.296183586371756e+18 1.582324187479765e+17 0.5       \n",
      "    1      1.7688739143038853e+31 6.247890065144254e+28 0.5       \n",
      "\n",
      "                                             \r"
     ]
    },
    {
     "data": {
      "application/vnd.jupyter.widget-view+json": {
       "model_id": "07db546acc254de19226afbe1b4ce739",
       "version_major": 2,
       "version_minor": 0
      },
      "text/plain": [
       "HBox(children=(IntProgress(value=0, description='Epoch', max=4), HTML(value='')))"
      ]
     },
     "metadata": {},
     "output_type": "display_data"
    },
    {
     "name": "stdout",
     "output_type": "stream",
     "text": [
      "epoch      trn_loss   val_loss   accuracy                    \n",
      "    0      0.110855   0.035046   0.99      \n",
      "    1      0.070686   0.024755   0.991                        \n",
      "    2      0.047544   0.023637   0.99                         \n",
      "    3      0.042768   0.027074   0.9885                       \n",
      "\n",
      "0.9885                                       \n",
      "0.993\n"
     ]
    },
    {
     "data": {
      "application/vnd.jupyter.widget-view+json": {
       "model_id": "3263d421aa824466b9e6caf205cf2f96",
       "version_major": 2,
       "version_minor": 0
      },
      "text/plain": [
       "HBox(children=(IntProgress(value=0, description='Epoch', max=4), HTML(value='')))"
      ]
     },
     "metadata": {},
     "output_type": "display_data"
    },
    {
     "name": "stdout",
     "output_type": "stream",
     "text": [
      "epoch      trn_loss   val_loss   accuracy                    \n",
      "    0      0.110855   0.035046   0.99      \n",
      "    1      0.070686   0.024755   0.991                        \n",
      "    2      0.047544   0.023637   0.99                         \n",
      "    3      0.042778   0.027185   0.9885                       \n",
      "\n",
      "                                             \r"
     ]
    },
    {
     "data": {
      "application/vnd.jupyter.widget-view+json": {
       "model_id": "7c6747fab1934c538b6a20d44a0c3733",
       "version_major": 2,
       "version_minor": 0
      },
      "text/plain": [
       "HBox(children=(IntProgress(value=0, description='Epoch', max=3), HTML(value='')))"
      ]
     },
     "metadata": {},
     "output_type": "display_data"
    },
    {
     "name": "stdout",
     "output_type": "stream",
     "text": [
      "epoch      trn_loss   val_loss   accuracy                   \n",
      "    0      185.369511 47.783261  0.989     \n",
      "    1      127230.364747 32835.012258 0.9885                    \n",
      "    2      69203652.423882 16459811.1 0.9905                    \n",
      "\n",
      "0.9905                                       \n",
      "0.993\n"
     ]
    },
    {
     "data": {
      "application/vnd.jupyter.widget-view+json": {
       "model_id": "83a001bb83dd4aff849937eb7848ddc5",
       "version_major": 2,
       "version_minor": 0
      },
      "text/plain": [
       "HBox(children=(IntProgress(value=0, description='Epoch', max=3), HTML(value='')))"
      ]
     },
     "metadata": {},
     "output_type": "display_data"
    },
    {
     "name": "stdout",
     "output_type": "stream",
     "text": [
      "epoch      trn_loss   val_loss   accuracy                   \n",
      "    0      185.369511 47.783261  0.989     \n",
      "    1      127230.364747 32772.87098 0.989                      \n",
      "    2      73857573.983161 19820156.028 0.989                   \n",
      "\n",
      "                                             \r"
     ]
    },
    {
     "data": {
      "application/vnd.jupyter.widget-view+json": {
       "model_id": "ecbd2702eb324942ab8a132c915a16c5",
       "version_major": 2,
       "version_minor": 0
      },
      "text/plain": [
       "HBox(children=(IntProgress(value=0, description='Epoch', max=3), HTML(value='')))"
      ]
     },
     "metadata": {},
     "output_type": "display_data"
    },
    {
     "name": "stdout",
     "output_type": "stream",
     "text": [
      "epoch      trn_loss   val_loss   accuracy                     \n",
      "    0      0.075187   0.030416   0.99      \n",
      "    1      0.046006   0.025269   0.991                        \n",
      "    2      0.037768   0.024011   0.99                         \n",
      "\n",
      "0.99                                         \n",
      "0.993\n"
     ]
    },
    {
     "data": {
      "application/vnd.jupyter.widget-view+json": {
       "model_id": "e08350c611d64e5f9e08aba65ea4b3d5",
       "version_major": 2,
       "version_minor": 0
      },
      "text/plain": [
       "HBox(children=(IntProgress(value=0, description='Epoch', max=3), HTML(value='')))"
      ]
     },
     "metadata": {},
     "output_type": "display_data"
    },
    {
     "name": "stdout",
     "output_type": "stream",
     "text": [
      "epoch      trn_loss   val_loss   accuracy                     \n",
      "    0      0.080617   0.029914   0.991     \n",
      "    1      0.047797   0.025209   0.991                        \n",
      "    2      0.037684   0.023159   0.99                         \n",
      "\n",
      "                                             \r"
     ]
    },
    {
     "data": {
      "application/vnd.jupyter.widget-view+json": {
       "model_id": "13e44954a4004787839181b95d281d16",
       "version_major": 2,
       "version_minor": 0
      },
      "text/plain": [
       "HBox(children=(IntProgress(value=0, description='Epoch', max=2), HTML(value='')))"
      ]
     },
     "metadata": {},
     "output_type": "display_data"
    },
    {
     "name": "stdout",
     "output_type": "stream",
     "text": [
      "epoch      trn_loss   val_loss   accuracy                    \n",
      "    0      0.105608   0.04025    0.991     \n",
      "    1      0.049431   0.027126   0.9905                       \n",
      "\n",
      "0.9905                                       \n",
      "0.993\n"
     ]
    },
    {
     "data": {
      "application/vnd.jupyter.widget-view+json": {
       "model_id": "fba967b2675a471591fb3fc8242b4169",
       "version_major": 2,
       "version_minor": 0
      },
      "text/plain": [
       "HBox(children=(IntProgress(value=0, description='Epoch', max=2), HTML(value='')))"
      ]
     },
     "metadata": {},
     "output_type": "display_data"
    },
    {
     "name": "stdout",
     "output_type": "stream",
     "text": [
      "epoch      trn_loss   val_loss   accuracy                    \n",
      "    0      0.105608   0.04025    0.991     \n",
      "    1      0.049431   0.027126   0.9905                       \n",
      "\n",
      "                                             \r"
     ]
    },
    {
     "data": {
      "application/vnd.jupyter.widget-view+json": {
       "model_id": "4c019b059936454991e668232757d286",
       "version_major": 2,
       "version_minor": 0
      },
      "text/plain": [
       "HBox(children=(IntProgress(value=0, description='Epoch', max=2), HTML(value='')))"
      ]
     },
     "metadata": {},
     "output_type": "display_data"
    },
    {
     "name": "stdout",
     "output_type": "stream",
     "text": [
      "epoch      trn_loss   val_loss   accuracy                    \n",
      "    0      0.202442   0.048734   0.9905    \n",
      "    1      0.060932   0.024475   0.9905                       \n",
      "\n",
      "0.9905                                       \n",
      "0.993\n"
     ]
    },
    {
     "data": {
      "application/vnd.jupyter.widget-view+json": {
       "model_id": "6507da8ab50142168095e98e086ba211",
       "version_major": 2,
       "version_minor": 0
      },
      "text/plain": [
       "HBox(children=(IntProgress(value=0, description='Epoch', max=2), HTML(value='')))"
      ]
     },
     "metadata": {},
     "output_type": "display_data"
    },
    {
     "name": "stdout",
     "output_type": "stream",
     "text": [
      "epoch      trn_loss   val_loss   accuracy                    \n",
      "    0      0.202442   0.048734   0.9905    \n",
      "    1      0.061339   0.024635   0.9905                       \n",
      "\n",
      "                                             \r"
     ]
    },
    {
     "data": {
      "application/vnd.jupyter.widget-view+json": {
       "model_id": "4552fcc0190c4a518d4eff7ed2e636d9",
       "version_major": 2,
       "version_minor": 0
      },
      "text/plain": [
       "HBox(children=(IntProgress(value=0, description='Epoch', max=2), HTML(value='')))"
      ]
     },
     "metadata": {},
     "output_type": "display_data"
    },
    {
     "name": "stdout",
     "output_type": "stream",
     "text": [
      "epoch      trn_loss   val_loss   accuracy                       \n",
      "    0      4375.586802 975.138764 0.9885    \n",
      "    1      107749.679882 27299.722991 0.9895                    \n",
      "\n",
      "0.9895                                       \n",
      "0.993\n"
     ]
    },
    {
     "data": {
      "application/vnd.jupyter.widget-view+json": {
       "model_id": "e60a9a7801654620bba8c0ac540d812b",
       "version_major": 2,
       "version_minor": 0
      },
      "text/plain": [
       "HBox(children=(IntProgress(value=0, description='Epoch', max=2), HTML(value='')))"
      ]
     },
     "metadata": {},
     "output_type": "display_data"
    },
    {
     "name": "stdout",
     "output_type": "stream",
     "text": [
      "epoch      trn_loss   val_loss   accuracy                       \n",
      "    0      1987.196475 413.4652   0.99      \n",
      "    1      39827135.830797 6561775.462 0.987                    \n",
      "\n",
      "                                             \r"
     ]
    },
    {
     "data": {
      "application/vnd.jupyter.widget-view+json": {
       "model_id": "6574b7e4edf649968f6e9ea3aa111fc8",
       "version_major": 2,
       "version_minor": 0
      },
      "text/plain": [
       "HBox(children=(IntProgress(value=0, description='Epoch', max=4), HTML(value='')))"
      ]
     },
     "metadata": {},
     "output_type": "display_data"
    },
    {
     "name": "stdout",
     "output_type": "stream",
     "text": [
      "epoch      trn_loss   val_loss   accuracy                    \n",
      "    0      0.109756   0.040695   0.9895    \n",
      "    1      0.059751   0.024251   0.9915                       \n",
      "    2      0.042957   0.023446   0.9915                       \n",
      "    3      0.040316   0.02735    0.989                        \n",
      "\n",
      "0.989                                        \n",
      "0.993\n"
     ]
    },
    {
     "data": {
      "application/vnd.jupyter.widget-view+json": {
       "model_id": "8dee978ca40b4551b2b1a6160def7c5a",
       "version_major": 2,
       "version_minor": 0
      },
      "text/plain": [
       "HBox(children=(IntProgress(value=0, description='Epoch', max=4), HTML(value='')))"
      ]
     },
     "metadata": {},
     "output_type": "display_data"
    },
    {
     "name": "stdout",
     "output_type": "stream",
     "text": [
      "epoch      trn_loss   val_loss   accuracy                    \n",
      "    0      0.119079   0.040171   0.99      \n",
      "    1      0.061576   0.025305   0.99                         \n",
      "    2      0.042853   0.022773   0.991                        \n",
      "    3      0.041868   0.026957   0.989                        \n",
      "\n",
      "                                             \r"
     ]
    },
    {
     "data": {
      "application/vnd.jupyter.widget-view+json": {
       "model_id": "b7513012475b4c70a3b741162b3ae8f3",
       "version_major": 2,
       "version_minor": 0
      },
      "text/plain": [
       "HBox(children=(IntProgress(value=0, description='Epoch', max=2), HTML(value='')))"
      ]
     },
     "metadata": {},
     "output_type": "display_data"
    },
    {
     "name": "stdout",
     "output_type": "stream",
     "text": [
      "epoch      trn_loss   val_loss   accuracy                     \n",
      "    0      0.06684    0.026583   0.989     \n",
      "    1      0.041258   0.026178   0.99                         \n",
      "\n",
      "0.99                                         \n",
      "0.993\n"
     ]
    },
    {
     "data": {
      "application/vnd.jupyter.widget-view+json": {
       "model_id": "d9239a2d4d7b4773ba9d0a7a3cb4e01f",
       "version_major": 2,
       "version_minor": 0
      },
      "text/plain": [
       "HBox(children=(IntProgress(value=0, description='Epoch', max=2), HTML(value='')))"
      ]
     },
     "metadata": {},
     "output_type": "display_data"
    },
    {
     "name": "stdout",
     "output_type": "stream",
     "text": [
      "epoch      trn_loss   val_loss   accuracy                     \n",
      "    0      0.067651   0.026524   0.9885    \n",
      "    1      0.040302   0.026429   0.99                         \n",
      "\n",
      "                                             \r"
     ]
    },
    {
     "data": {
      "application/vnd.jupyter.widget-view+json": {
       "model_id": "18756690502848988beb1de9e1ad02a3",
       "version_major": 2,
       "version_minor": 0
      },
      "text/plain": [
       "HBox(children=(IntProgress(value=0, description='Epoch', max=1), HTML(value='')))"
      ]
     },
     "metadata": {},
     "output_type": "display_data"
    },
    {
     "name": "stdout",
     "output_type": "stream",
     "text": [
      "epoch      trn_loss   val_loss   accuracy                   \n",
      "    0      4.295219   1.051263   0.9895    \n",
      "\n",
      "0.9895                                       \n",
      "0.993\n"
     ]
    },
    {
     "data": {
      "application/vnd.jupyter.widget-view+json": {
       "model_id": "398c15d6fbb84f2d8f2b14d14e27bd71",
       "version_major": 2,
       "version_minor": 0
      },
      "text/plain": [
       "HBox(children=(IntProgress(value=0, description='Epoch', max=1), HTML(value='')))"
      ]
     },
     "metadata": {},
     "output_type": "display_data"
    },
    {
     "name": "stdout",
     "output_type": "stream",
     "text": [
      "epoch      trn_loss   val_loss   accuracy                   \n",
      "    0      4.295219   1.051263   0.9895    \n",
      "\n",
      "                                             \r"
     ]
    },
    {
     "data": {
      "application/vnd.jupyter.widget-view+json": {
       "model_id": "36a60858b0544647b2e079124448f7b8",
       "version_major": 2,
       "version_minor": 0
      },
      "text/plain": [
       "HBox(children=(IntProgress(value=0, description='Epoch', max=2), HTML(value='')))"
      ]
     },
     "metadata": {},
     "output_type": "display_data"
    },
    {
     "name": "stdout",
     "output_type": "stream",
     "text": [
      "epoch      trn_loss   val_loss   accuracy                       \n",
      "    0      164351.981889 36354.503719 0.9895    \n",
      "    1      21009902769.865105 3597711384.576 0.99               \n",
      "\n",
      "0.99                                         \n",
      "0.993\n"
     ]
    },
    {
     "data": {
      "application/vnd.jupyter.widget-view+json": {
       "model_id": "61de145b18ae46c89c495363a6ba6f7d",
       "version_major": 2,
       "version_minor": 0
      },
      "text/plain": [
       "HBox(children=(IntProgress(value=0, description='Epoch', max=2), HTML(value='')))"
      ]
     },
     "metadata": {},
     "output_type": "display_data"
    },
    {
     "name": "stdout",
     "output_type": "stream",
     "text": [
      "epoch      trn_loss   val_loss   accuracy                       \n",
      "    0      107462.386842 24632.113438 0.988     \n",
      "    1      28465460880.46625 6540854883.328 0.988               \n",
      "\n",
      "                                             \r"
     ]
    },
    {
     "data": {
      "application/vnd.jupyter.widget-view+json": {
       "model_id": "4dddb43801104d48ae2e65728c1c73b2",
       "version_major": 2,
       "version_minor": 0
      },
      "text/plain": [
       "HBox(children=(IntProgress(value=0, description='Epoch', max=2), HTML(value='')))"
      ]
     },
     "metadata": {},
     "output_type": "display_data"
    },
    {
     "name": "stdout",
     "output_type": "stream",
     "text": [
      "epoch      trn_loss   val_loss   accuracy                    \n",
      "    0      0.229543   0.043596   0.9905    \n",
      "    1      0.099207   0.028596   0.988                        \n",
      "\n",
      "0.988                                        \n",
      "0.993\n"
     ]
    },
    {
     "data": {
      "application/vnd.jupyter.widget-view+json": {
       "model_id": "84c0c829af9b43ddb9550f776c213b71",
       "version_major": 2,
       "version_minor": 0
      },
      "text/plain": [
       "HBox(children=(IntProgress(value=0, description='Epoch', max=2), HTML(value='')))"
      ]
     },
     "metadata": {},
     "output_type": "display_data"
    },
    {
     "name": "stdout",
     "output_type": "stream",
     "text": [
      "epoch      trn_loss   val_loss   accuracy                    \n",
      "    0      0.229543   0.043596   0.9905    \n",
      "    1      0.099098   0.028553   0.988                        \n",
      "\n",
      "                                             \r"
     ]
    },
    {
     "data": {
      "application/vnd.jupyter.widget-view+json": {
       "model_id": "df98d407ca664fe79caa09365d241f9e",
       "version_major": 2,
       "version_minor": 0
      },
      "text/plain": [
       "HBox(children=(IntProgress(value=0, description='Epoch', max=1), HTML(value='')))"
      ]
     },
     "metadata": {},
     "output_type": "display_data"
    },
    {
     "name": "stdout",
     "output_type": "stream",
     "text": [
      "epoch      trn_loss   val_loss   accuracy                    \n",
      "    0      0.116494   0.039352   0.9905    \n",
      "\n",
      "0.9905                                       \n",
      "0.993\n"
     ]
    },
    {
     "data": {
      "application/vnd.jupyter.widget-view+json": {
       "model_id": "367121325e1d474d9e82af0d4ad5beed",
       "version_major": 2,
       "version_minor": 0
      },
      "text/plain": [
       "HBox(children=(IntProgress(value=0, description='Epoch', max=1), HTML(value='')))"
      ]
     },
     "metadata": {},
     "output_type": "display_data"
    },
    {
     "name": "stdout",
     "output_type": "stream",
     "text": [
      "epoch      trn_loss   val_loss   accuracy                    \n",
      "    0      0.116252   0.038841   0.9905    \n",
      "\n",
      "                                             \r"
     ]
    },
    {
     "data": {
      "application/vnd.jupyter.widget-view+json": {
       "model_id": "b6db6e2ef40945919b5df03ade58acc9",
       "version_major": 2,
       "version_minor": 0
      },
      "text/plain": [
       "HBox(children=(IntProgress(value=0, description='Epoch', max=1), HTML(value='')))"
      ]
     },
     "metadata": {},
     "output_type": "display_data"
    },
    {
     "name": "stdout",
     "output_type": "stream",
     "text": [
      "epoch      trn_loss   val_loss   accuracy                       \n",
      "    0      173297474042962.75 42664369925914.625 0.986     \n",
      "\n",
      "0.986                                        \n",
      "0.993\n"
     ]
    },
    {
     "data": {
      "application/vnd.jupyter.widget-view+json": {
       "model_id": "baa75d4f5acb4185adf68603945dafe0",
       "version_major": 2,
       "version_minor": 0
      },
      "text/plain": [
       "HBox(children=(IntProgress(value=0, description='Epoch', max=1), HTML(value='')))"
      ]
     },
     "metadata": {},
     "output_type": "display_data"
    },
    {
     "name": "stdout",
     "output_type": "stream",
     "text": [
      "epoch      trn_loss   val_loss   accuracy                       \n",
      "    0      175878756540740.1 33826854745931.777 0.986     \n",
      "\n",
      "                                             \r"
     ]
    },
    {
     "data": {
      "application/vnd.jupyter.widget-view+json": {
       "model_id": "1982ee02073648adaba572649b3c16a1",
       "version_major": 2,
       "version_minor": 0
      },
      "text/plain": [
       "HBox(children=(IntProgress(value=0, description='Epoch', max=2), HTML(value='')))"
      ]
     },
     "metadata": {},
     "output_type": "display_data"
    },
    {
     "name": "stdout",
     "output_type": "stream",
     "text": [
      "epoch      trn_loss   val_loss   accuracy                     \n",
      "    0      0.056119   0.031602   0.9885    \n",
      "    1      0.049346   0.026508   0.9895                       \n",
      "\n",
      "0.9895                                       \n",
      "0.993\n"
     ]
    },
    {
     "data": {
      "application/vnd.jupyter.widget-view+json": {
       "model_id": "63b349c2c8194d18be04e3471cfdf032",
       "version_major": 2,
       "version_minor": 0
      },
      "text/plain": [
       "HBox(children=(IntProgress(value=0, description='Epoch', max=2), HTML(value='')))"
      ]
     },
     "metadata": {},
     "output_type": "display_data"
    },
    {
     "name": "stdout",
     "output_type": "stream",
     "text": [
      "epoch      trn_loss   val_loss   accuracy                     \n",
      "    0      0.056119   0.031602   0.9885    \n",
      "    1      0.04952    0.026483   0.9895                       \n",
      "\n",
      "                                             \r"
     ]
    },
    {
     "data": {
      "application/vnd.jupyter.widget-view+json": {
       "model_id": "e6fdebedd85145b0b7a0e4d1640a82c7",
       "version_major": 2,
       "version_minor": 0
      },
      "text/plain": [
       "HBox(children=(IntProgress(value=0, description='Epoch', max=3), HTML(value='')))"
      ]
     },
     "metadata": {},
     "output_type": "display_data"
    },
    {
     "name": "stdout",
     "output_type": "stream",
     "text": [
      "epoch      trn_loss   val_loss   accuracy                       \n",
      "    0      6414035.566059 1752443.376 0.989     \n",
      "    1      1541874701995.4163 308727601168.384 0.989            \n",
      "    2      6.699724270634102e+19 4610938900276314.0 0.5         \n",
      "\n",
      "0.5                                          \n",
      "0.993\n"
     ]
    },
    {
     "data": {
      "application/vnd.jupyter.widget-view+json": {
       "model_id": "87ba4d2f4e14489ba49b2ad157f83d77",
       "version_major": 2,
       "version_minor": 0
      },
      "text/plain": [
       "HBox(children=(IntProgress(value=0, description='Epoch', max=3), HTML(value='')))"
      ]
     },
     "metadata": {},
     "output_type": "display_data"
    },
    {
     "name": "stdout",
     "output_type": "stream",
     "text": [
      "epoch      trn_loss   val_loss   accuracy                       \n",
      "    0      6414035.566059 1752443.376 0.989     \n",
      "    1      1541874701995.4163 308727601168.384 0.989            \n",
      "    2      6.699724270634102e+19 4610938900276314.0 0.5         \n",
      "\n",
      "                                             \r"
     ]
    },
    {
     "data": {
      "application/vnd.jupyter.widget-view+json": {
       "model_id": "6cfe300f10f648b49f4abfa19b9810b3",
       "version_major": 2,
       "version_minor": 0
      },
      "text/plain": [
       "HBox(children=(IntProgress(value=0, description='Epoch', max=3), HTML(value='')))"
      ]
     },
     "metadata": {},
     "output_type": "display_data"
    },
    {
     "name": "stdout",
     "output_type": "stream",
     "text": [
      "epoch      trn_loss   val_loss   accuracy                   \n",
      "    0      1.647256   0.579806   0.986     \n",
      "    1      3.679138   0.766041   0.991                      \n",
      "    2      1.776746   0.614698   0.988                      \n",
      "\n",
      "0.988                                        \n",
      "0.993\n"
     ]
    },
    {
     "data": {
      "application/vnd.jupyter.widget-view+json": {
       "model_id": "b7c0c6fbad8d45e0b0a89543d3ac2943",
       "version_major": 2,
       "version_minor": 0
      },
      "text/plain": [
       "HBox(children=(IntProgress(value=0, description='Epoch', max=3), HTML(value='')))"
      ]
     },
     "metadata": {},
     "output_type": "display_data"
    },
    {
     "name": "stdout",
     "output_type": "stream",
     "text": [
      "epoch      trn_loss   val_loss   accuracy                   \n",
      "    0      1.647256   0.579806   0.986     \n",
      "    1      2.177092   0.461805   0.9915                     \n",
      "    2      4.607329   1.823683   0.989                      \n",
      "\n",
      "                                             \r"
     ]
    },
    {
     "data": {
      "application/vnd.jupyter.widget-view+json": {
       "model_id": "d918c371647547e3ae8bbae4bf12967a",
       "version_major": 2,
       "version_minor": 0
      },
      "text/plain": [
       "HBox(children=(IntProgress(value=0, description='Epoch', max=2), HTML(value='')))"
      ]
     },
     "metadata": {},
     "output_type": "display_data"
    },
    {
     "name": "stdout",
     "output_type": "stream",
     "text": [
      "epoch      trn_loss   val_loss   accuracy                    \n",
      "    0      0.182135   0.041439   0.9885    \n",
      "    1      0.077285   0.028471   0.9885                       \n",
      "\n",
      "0.9885                                       \n",
      "0.993\n"
     ]
    },
    {
     "data": {
      "application/vnd.jupyter.widget-view+json": {
       "model_id": "35dab162bd3b41349246a57777928ad0",
       "version_major": 2,
       "version_minor": 0
      },
      "text/plain": [
       "HBox(children=(IntProgress(value=0, description='Epoch', max=2), HTML(value='')))"
      ]
     },
     "metadata": {},
     "output_type": "display_data"
    },
    {
     "name": "stdout",
     "output_type": "stream",
     "text": [
      "epoch      trn_loss   val_loss   accuracy                    \n",
      "    0      0.21465    0.038773   0.9885    \n",
      "    1      0.077633   0.027105   0.9905                       \n",
      "\n",
      "                                             \r"
     ]
    },
    {
     "data": {
      "application/vnd.jupyter.widget-view+json": {
       "model_id": "c59d51288c38443898ba3275514198ae",
       "version_major": 2,
       "version_minor": 0
      },
      "text/plain": [
       "HBox(children=(IntProgress(value=0, description='Epoch', max=3), HTML(value='')))"
      ]
     },
     "metadata": {},
     "output_type": "display_data"
    },
    {
     "name": "stdout",
     "output_type": "stream",
     "text": [
      "epoch      trn_loss   val_loss   accuracy                       \n",
      "    0      1169605011.504837 407953843.2 0.988     \n",
      "    1      478141920468870.75 55429305424936.96 0.9905          \n",
      "    2      1.2147804110419392e+23 5.504613168433764e+18 0.5       \n",
      "\n",
      "0.5                                          \n",
      "0.993\n"
     ]
    },
    {
     "data": {
      "application/vnd.jupyter.widget-view+json": {
       "model_id": "c0ed3815b4e149bc97aaa245e00f4097",
       "version_major": 2,
       "version_minor": 0
      },
      "text/plain": [
       "HBox(children=(IntProgress(value=0, description='Epoch', max=3), HTML(value='')))"
      ]
     },
     "metadata": {},
     "output_type": "display_data"
    },
    {
     "name": "stdout",
     "output_type": "stream",
     "text": [
      "epoch      trn_loss   val_loss   accuracy                       \n",
      "    0      1148461042.541196 401120362.24 0.9885    \n",
      "    1      82505019693.74026 12088278630.4 0.986                \n",
      "    2      2.664371024124058e+21 2.5930882229469184e+16 0.5       \n",
      "\n",
      "                                             \r"
     ]
    },
    {
     "data": {
      "application/vnd.jupyter.widget-view+json": {
       "model_id": "549bf56ac34c448d93b361d94fa40f0c",
       "version_major": 2,
       "version_minor": 0
      },
      "text/plain": [
       "HBox(children=(IntProgress(value=0, description='Epoch', max=3), HTML(value='')))"
      ]
     },
     "metadata": {},
     "output_type": "display_data"
    },
    {
     "name": "stdout",
     "output_type": "stream",
     "text": [
      "epoch      trn_loss   val_loss   accuracy                   \n",
      "    0      3.237601   0.292878   0.981     \n",
      "    1      29.986719  3.818237   0.9835                     \n",
      "    2      103.536826 16.861233  0.985                          \n",
      "\n",
      "0.985                                        \n",
      "0.993\n"
     ]
    },
    {
     "data": {
      "application/vnd.jupyter.widget-view+json": {
       "model_id": "d735bfe6f6df4fba96bc4a1603f17d5b",
       "version_major": 2,
       "version_minor": 0
      },
      "text/plain": [
       "HBox(children=(IntProgress(value=0, description='Epoch', max=3), HTML(value='')))"
      ]
     },
     "metadata": {},
     "output_type": "display_data"
    },
    {
     "name": "stdout",
     "output_type": "stream",
     "text": [
      "epoch      trn_loss   val_loss   accuracy                   \n",
      "    0      3.171258   0.349893   0.9805    \n",
      "    1      8.11392    1.149097   0.982                      \n",
      "    2      25.037919  3.56048    0.985                      \n",
      "\n",
      "                                             \r"
     ]
    },
    {
     "data": {
      "application/vnd.jupyter.widget-view+json": {
       "model_id": "ef149fa00d2444b4a064c26974442331",
       "version_major": 2,
       "version_minor": 0
      },
      "text/plain": [
       "HBox(children=(IntProgress(value=0, description='Epoch', max=2), HTML(value='')))"
      ]
     },
     "metadata": {},
     "output_type": "display_data"
    },
    {
     "name": "stdout",
     "output_type": "stream",
     "text": [
      "epoch      trn_loss   val_loss   accuracy                       \n",
      "    0      9590280644079.406 2049958622527.488 0.9875    \n",
      "    1      4.841848357382263e+23 1.3773037723805748e+21 0.5       \n",
      "\n",
      "0.5                                          \n",
      "0.993\n"
     ]
    },
    {
     "data": {
      "application/vnd.jupyter.widget-view+json": {
       "model_id": "d48d861a27504e3590e4f60f2a5fc587",
       "version_major": 2,
       "version_minor": 0
      },
      "text/plain": [
       "HBox(children=(IntProgress(value=0, description='Epoch', max=2), HTML(value='')))"
      ]
     },
     "metadata": {},
     "output_type": "display_data"
    },
    {
     "name": "stdout",
     "output_type": "stream",
     "text": [
      "epoch      trn_loss   val_loss   accuracy                       \n",
      "    0      2781609551552.03 587731689144.32 0.9875    \n",
      "    1      4.7593608419977514e+23 9.767741939653408e+19 0.5       \n",
      "\n",
      "                                             \r"
     ]
    },
    {
     "data": {
      "application/vnd.jupyter.widget-view+json": {
       "model_id": "1e1b6c9abfd94558a0d4e230a1616d95",
       "version_major": 2,
       "version_minor": 0
      },
      "text/plain": [
       "HBox(children=(IntProgress(value=0, description='Epoch', max=4), HTML(value='')))"
      ]
     },
     "metadata": {},
     "output_type": "display_data"
    },
    {
     "name": "stdout",
     "output_type": "stream",
     "text": [
      "epoch      trn_loss   val_loss   accuracy                       \n",
      "    0      34995.691127 8199.057891 0.988     \n",
      "    1      973886170.980077 179339533.696 0.989                 \n",
      "    2      42439288441309.16 7297771577016.32 0.9875            \n",
      "    3      2.615429112109053e+18 1.3910654066716836e+16 0.5       \n",
      "\n",
      "0.5                                          \n",
      "0.993\n"
     ]
    },
    {
     "data": {
      "application/vnd.jupyter.widget-view+json": {
       "model_id": "c764ca90debb42e8931447120c016316",
       "version_major": 2,
       "version_minor": 0
      },
      "text/plain": [
       "HBox(children=(IntProgress(value=0, description='Epoch', max=4), HTML(value='')))"
      ]
     },
     "metadata": {},
     "output_type": "display_data"
    },
    {
     "name": "stdout",
     "output_type": "stream",
     "text": [
      "epoch      trn_loss   val_loss   accuracy                       \n",
      "    0      34995.691127 8199.057891 0.988     \n",
      "    1      1053024316.751867 219354041.536 0.989                \n",
      "    2      117185145579054.31 29560534256844.8 0.986            \n",
      "    3      6.466602568100644e+18 780824848254369.8 0.5          \n",
      "\n",
      "                                             \r"
     ]
    },
    {
     "data": {
      "application/vnd.jupyter.widget-view+json": {
       "model_id": "33407a0212ea458fa15ca8ce42e379aa",
       "version_major": 2,
       "version_minor": 0
      },
      "text/plain": [
       "HBox(children=(IntProgress(value=0, description='Epoch', max=1), HTML(value='')))"
      ]
     },
     "metadata": {},
     "output_type": "display_data"
    },
    {
     "name": "stdout",
     "output_type": "stream",
     "text": [
      "epoch      trn_loss   val_loss   accuracy                     \n",
      "    0      0.067482   0.025463   0.9905    \n",
      "\n",
      "0.9905                                       \n",
      "0.993\n"
     ]
    },
    {
     "data": {
      "application/vnd.jupyter.widget-view+json": {
       "model_id": "def13e36d4f54484b0c59a12c5f04807",
       "version_major": 2,
       "version_minor": 0
      },
      "text/plain": [
       "HBox(children=(IntProgress(value=0, description='Epoch', max=1), HTML(value='')))"
      ]
     },
     "metadata": {},
     "output_type": "display_data"
    },
    {
     "name": "stdout",
     "output_type": "stream",
     "text": [
      "epoch      trn_loss   val_loss   accuracy                     \n",
      "    0      0.067613   0.025452   0.9905    \n",
      "\n",
      "                                             \r"
     ]
    },
    {
     "data": {
      "application/vnd.jupyter.widget-view+json": {
       "model_id": "34d2a7c26a2a41b4b0226fa39c86d4e8",
       "version_major": 2,
       "version_minor": 0
      },
      "text/plain": [
       "HBox(children=(IntProgress(value=0, description='Epoch', max=4), HTML(value='')))"
      ]
     },
     "metadata": {},
     "output_type": "display_data"
    },
    {
     "name": "stdout",
     "output_type": "stream",
     "text": [
      "epoch      trn_loss   val_loss   accuracy                     \n",
      "    0      0.055173   0.025166   0.9905    \n",
      "    1      0.039244   0.025324   0.991                        \n",
      "    2      0.034795   0.022821   0.9905                       \n",
      "    3      0.036203   0.02408    0.9895                       \n",
      "\n",
      "0.9895                                       \n",
      "0.993\n"
     ]
    },
    {
     "data": {
      "application/vnd.jupyter.widget-view+json": {
       "model_id": "1ff4e3edc1f6414c94b0a8f9eb17a1d3",
       "version_major": 2,
       "version_minor": 0
      },
      "text/plain": [
       "HBox(children=(IntProgress(value=0, description='Epoch', max=4), HTML(value='')))"
      ]
     },
     "metadata": {},
     "output_type": "display_data"
    },
    {
     "name": "stdout",
     "output_type": "stream",
     "text": [
      "epoch      trn_loss   val_loss   accuracy                     \n",
      "    0      0.055538   0.025427   0.9905    \n",
      "    1      0.039338   0.024853   0.992                        \n",
      "    2      0.035493   0.022603   0.99                         \n",
      "    3      0.036035   0.023918   0.99                         \n",
      "\n",
      "                                             \r"
     ]
    },
    {
     "data": {
      "application/vnd.jupyter.widget-view+json": {
       "model_id": "2411783ea30d49dfb61e0387fecccc05",
       "version_major": 2,
       "version_minor": 0
      },
      "text/plain": [
       "HBox(children=(IntProgress(value=0, description='Epoch', max=1), HTML(value='')))"
      ]
     },
     "metadata": {},
     "output_type": "display_data"
    },
    {
     "name": "stdout",
     "output_type": "stream",
     "text": [
      "epoch      trn_loss   val_loss   accuracy                     \n",
      "    0      0.058704   0.032754   0.986     \n",
      "\n",
      "0.986                                        \n",
      "0.993\n"
     ]
    },
    {
     "data": {
      "application/vnd.jupyter.widget-view+json": {
       "model_id": "e20bdcd82419465282ffdae8554c2f7b",
       "version_major": 2,
       "version_minor": 0
      },
      "text/plain": [
       "HBox(children=(IntProgress(value=0, description='Epoch', max=1), HTML(value='')))"
      ]
     },
     "metadata": {},
     "output_type": "display_data"
    },
    {
     "name": "stdout",
     "output_type": "stream",
     "text": [
      "epoch      trn_loss   val_loss   accuracy                     \n",
      "    0      0.058705   0.032759   0.986     \n",
      "\n",
      "                                             \r"
     ]
    },
    {
     "data": {
      "application/vnd.jupyter.widget-view+json": {
       "model_id": "59c8b55843bc492ba7a9c57e76f3b582",
       "version_major": 2,
       "version_minor": 0
      },
      "text/plain": [
       "HBox(children=(IntProgress(value=0, description='Epoch', max=4), HTML(value='')))"
      ]
     },
     "metadata": {},
     "output_type": "display_data"
    },
    {
     "name": "stdout",
     "output_type": "stream",
     "text": [
      "epoch      trn_loss   val_loss   accuracy                    \n",
      "    0      0.575254   0.103195   0.9865    \n",
      "    1      0.381636   0.088541   0.99                        \n",
      "    2      2.836325   0.316582   0.989                      \n",
      "    3      20.291825  5.343419   0.9885                     \n",
      "\n",
      "0.9885                                       \n",
      "0.993\n"
     ]
    },
    {
     "data": {
      "application/vnd.jupyter.widget-view+json": {
       "model_id": "bfcf8f764f82480fbb81b2995e8bd5dc",
       "version_major": 2,
       "version_minor": 0
      },
      "text/plain": [
       "HBox(children=(IntProgress(value=0, description='Epoch', max=4), HTML(value='')))"
      ]
     },
     "metadata": {},
     "output_type": "display_data"
    },
    {
     "name": "stdout",
     "output_type": "stream",
     "text": [
      "epoch      trn_loss   val_loss   accuracy                    \n",
      "    0      0.575254   0.103195   0.9865    \n",
      "    1      0.35385    0.080745   0.9915                      \n",
      "    2      2.248017   1.03112    0.9905                     \n",
      "    3      3.957794   0.951153   0.987                      \n",
      "\n",
      "------------------------------------ ExpectedImprovement -----------------------------------\n",
      "Evaluation \t Proposed point \t  Current eval. \t Best eval.\n"
     ]
    },
    {
     "data": {
      "application/vnd.jupyter.widget-view+json": {
       "model_id": "824d22a697dd4ca4b31b8d87f71f83a4",
       "version_major": 2,
       "version_minor": 0
      },
      "text/plain": [
       "HBox(children=(IntProgress(value=0, description='Epoch', max=3), HTML(value='')))"
      ]
     },
     "metadata": {},
     "output_type": "display_data"
    },
    {
     "name": "stdout",
     "output_type": "stream",
     "text": [
      "epoch      trn_loss   val_loss   accuracy                   \n",
      "    0      66.371224  16.225595  0.987     \n",
      "    1      1484.2753  370.272178 0.9905                         \n",
      "    2      21166.881311 3602.619531 0.99                        \n",
      "\n",
      "                                             \r"
     ]
    },
    {
     "data": {
      "application/vnd.jupyter.widget-view+json": {
       "model_id": "ec8d16fc381544bbb1bfa395238bf3b3",
       "version_major": 2,
       "version_minor": 0
      },
      "text/plain": [
       "HBox(children=(IntProgress(value=0, description='Epoch', max=4), HTML(value='')))"
      ]
     },
     "metadata": {},
     "output_type": "display_data"
    },
    {
     "name": "stdout",
     "output_type": "stream",
     "text": [
      "epoch      trn_loss   val_loss   accuracy                       \n",
      "    0      1.1117259720807173e+22 3.94646393365811e+19 0.5       \n",
      "    1      nan        nan        0.5                            \n",
      "    2      nan        nan        0.5                       \n",
      "    3      nan        nan        0.5                       \n",
      "\n",
      "                                             \r"
     ]
    },
    {
     "data": {
      "application/vnd.jupyter.widget-view+json": {
       "model_id": "418f14636c9a4e428af019d6a88215a7",
       "version_major": 2,
       "version_minor": 0
      },
      "text/plain": [
       "HBox(children=(IntProgress(value=0, description='Epoch', max=1), HTML(value='')))"
      ]
     },
     "metadata": {},
     "output_type": "display_data"
    },
    {
     "name": "stdout",
     "output_type": "stream",
     "text": [
      "epoch      trn_loss   val_loss   accuracy                       \n",
      "    0      79922.677256 19526.1285 0.9835    \n",
      "\n",
      "init   \t [3.751 1.177 0.359 3.    1.    1.   ]. \t    0.99 \t   0.99\n",
      "init   \t [2.798 1.832 0.773 4.    1.    1.   ]. \t     0.5 \t   0.99\n",
      "init   \t [1.781 1.824 0.356 1.    1.    1.   ]. \t  0.9835 \t   0.99\n"
     ]
    },
    {
     "data": {
      "application/vnd.jupyter.widget-view+json": {
       "model_id": "09eace9ba0a7494a825ea657ded8f028",
       "version_major": 2,
       "version_minor": 0
      },
      "text/plain": [
       "HBox(children=(IntProgress(value=0, description='Epoch', max=2), HTML(value='')))"
      ]
     },
     "metadata": {},
     "output_type": "display_data"
    },
    {
     "name": "stdout",
     "output_type": "stream",
     "text": [
      "epoch      trn_loss   val_loss   accuracy                       \n",
      "    0      559.318132 145.841535 0.987     \n",
      "    1      8026922.968505 1805634.992 0.991                     \n",
      "\n",
      "1      \t [2.744 1.531 0.386 2.112 1.    1.   ]. \t  \u001b[92m0.991\u001b[0m \t 0.991 \n"
     ]
    },
    {
     "data": {
      "application/vnd.jupyter.widget-view+json": {
       "model_id": "433548e5f3fc4dd9a4a5815dc6f4c7dd",
       "version_major": 2,
       "version_minor": 0
      },
      "text/plain": [
       "HBox(children=(IntProgress(value=0, description='Epoch', max=2), HTML(value='')))"
      ]
     },
     "metadata": {},
     "output_type": "display_data"
    },
    {
     "name": "stdout",
     "output_type": "stream",
     "text": [
      "epoch      trn_loss   val_loss   accuracy                     \n",
      "    0      0.052223   0.027161   0.989     \n",
      "    1      0.040727   0.024805   0.9905                       \n",
      "\n",
      "2      \t [2.891 0.939 0.2   2.954 1.    1.   ]. \t  0.9905 \t 0.991 \n"
     ]
    },
    {
     "data": {
      "application/vnd.jupyter.widget-view+json": {
       "model_id": "6b2a49166e56494a85cd267483d1f9f4",
       "version_major": 2,
       "version_minor": 0
      },
      "text/plain": [
       "HBox(children=(IntProgress(value=0, description='Epoch', max=5), HTML(value='')))"
      ]
     },
     "metadata": {},
     "output_type": "display_data"
    },
    {
     "name": "stdout",
     "output_type": "stream",
     "text": [
      "epoch      trn_loss   val_loss   accuracy                       \n",
      "    0      1.4904499750205433e+22 1.3495735458250642e+22 0.5       \n",
      "    1      3.819591032205786e+19 1.773104732612969e+17 0.5       \n",
      "    2      inf        nan        0.503                          \n",
      "    3      nan        nan        0.5                       \n",
      "    4      nan        nan        0.5                       \n",
      "\n",
      "3      \t [3.161 1.221 0.799 2.778 1.473 1.   ]. \t  0.5    \t 0.991 \n"
     ]
    },
    {
     "data": {
      "application/vnd.jupyter.widget-view+json": {
       "model_id": "1784ad417769431f8ff00b540ad85ff9",
       "version_major": 2,
       "version_minor": 0
      },
      "text/plain": [
       "HBox(children=(IntProgress(value=0, description='Epoch', max=1), HTML(value='')))"
      ]
     },
     "metadata": {},
     "output_type": "display_data"
    },
    {
     "name": "stdout",
     "output_type": "stream",
     "text": [
      "epoch      trn_loss   val_loss   accuracy                   \n",
      "    0      1.509736   0.37661    0.988     \n",
      "\n",
      "4      \t [1.862 1.266 0.2   1.765 1.    1.   ]. \t  0.988  \t 0.991 \n"
     ]
    },
    {
     "data": {
      "application/vnd.jupyter.widget-view+json": {
       "model_id": "009a02cb0fa14e68985c9d33386a8e75",
       "version_major": 2,
       "version_minor": 0
      },
      "text/plain": [
       "HBox(children=(IntProgress(value=0, description='Epoch', max=2), HTML(value='')))"
      ]
     },
     "metadata": {},
     "output_type": "display_data"
    },
    {
     "name": "stdout",
     "output_type": "stream",
     "text": [
      "epoch      trn_loss   val_loss   accuracy                   \n",
      "    0      3.455528   1.658864   0.9865    \n",
      "    1      2.047299   0.405461   0.991                      \n",
      "\n",
      "5      \t [2.511 1.25  0.2   1.156 1.    1.   ]. \t  \u001b[92m0.991\u001b[0m \t 0.991 \n"
     ]
    },
    {
     "data": {
      "application/vnd.jupyter.widget-view+json": {
       "model_id": "57d1668ea7064192a3128a7a5028da60",
       "version_major": 2,
       "version_minor": 0
      },
      "text/plain": [
       "HBox(children=(IntProgress(value=0, description='Epoch', max=2), HTML(value='')))"
      ]
     },
     "metadata": {},
     "output_type": "display_data"
    },
    {
     "name": "stdout",
     "output_type": "stream",
     "text": [
      "epoch      trn_loss   val_loss   accuracy                       \n",
      "    0      53284.089294 11763.398266 0.9855    \n",
      "    1      5.313186255125096e+21 5.856906473539785e+21 0.5       \n",
      "\n",
      "6      \t [2.235 1.684 0.2   1.488 1.    1.625]. \t  0.5    \t 0.991 \n"
     ]
    },
    {
     "data": {
      "application/vnd.jupyter.widget-view+json": {
       "model_id": "ca9234e1f322477786a9f783b90d3bc9",
       "version_major": 2,
       "version_minor": 0
      },
      "text/plain": [
       "HBox(children=(IntProgress(value=0, description='Epoch', max=2), HTML(value='')))"
      ]
     },
     "metadata": {},
     "output_type": "display_data"
    },
    {
     "name": "stdout",
     "output_type": "stream",
     "text": [
      "epoch      trn_loss   val_loss   accuracy                     \n",
      "    0      0.048921   0.024987   0.9885    \n",
      "    1      0.036472   0.024856   0.991                        \n",
      "\n",
      "7      \t [3.373 0.803 0.2   2.153 1.    1.   ]. \t  \u001b[92m0.991\u001b[0m \t 0.991 \n"
     ]
    },
    {
     "data": {
      "application/vnd.jupyter.widget-view+json": {
       "model_id": "04fe8f67e49f4143b691a071ce938d9e",
       "version_major": 2,
       "version_minor": 0
      },
      "text/plain": [
       "HBox(children=(IntProgress(value=0, description='Epoch', max=1), HTML(value='')))"
      ]
     },
     "metadata": {},
     "output_type": "display_data"
    },
    {
     "name": "stdout",
     "output_type": "stream",
     "text": [
      "epoch      trn_loss   val_loss   accuracy                       \n",
      "    0      3652978707156476.0 618644035325657.1 0.9865    \n",
      "\n",
      "8      \t [1.968 1.187 0.8   1.213 1.    1.   ]. \t  0.9865 \t 0.991 \n"
     ]
    },
    {
     "data": {
      "application/vnd.jupyter.widget-view+json": {
       "model_id": "293626e1b1a04d088d08b0b2a4c6ec79",
       "version_major": 2,
       "version_minor": 0
      },
      "text/plain": [
       "HBox(children=(IntProgress(value=0, description='Epoch', max=2), HTML(value='')))"
      ]
     },
     "metadata": {},
     "output_type": "display_data"
    },
    {
     "name": "stdout",
     "output_type": "stream",
     "text": [
      "epoch      trn_loss   val_loss   accuracy                   \n",
      "    0      7.129279   1.513733   0.988     \n",
      "    1      12399623.891497 2022525.758 0.9905                   \n",
      "\n",
      "9      \t [3.344 1.476 0.2   2.682 1.    1.   ]. \t  0.9905 \t 0.991 \n"
     ]
    },
    {
     "data": {
      "application/vnd.jupyter.widget-view+json": {
       "model_id": "a95cd61ac20443e492b2bd52779fefff",
       "version_major": 2,
       "version_minor": 0
      },
      "text/plain": [
       "HBox(children=(IntProgress(value=0, description='Epoch', max=1), HTML(value='')))"
      ]
     },
     "metadata": {},
     "output_type": "display_data"
    },
    {
     "name": "stdout",
     "output_type": "stream",
     "text": [
      "epoch      trn_loss   val_loss   accuracy                     \n",
      "    0      0.05181    0.024816   0.9905    \n",
      "\n",
      "10     \t [2.507 0.732 0.254 1.936 1.    1.   ]. \t  0.9905 \t 0.991 \n"
     ]
    },
    {
     "data": {
      "application/vnd.jupyter.widget-view+json": {
       "model_id": "ac53c2015acf4c029ec902f298ccac3d",
       "version_major": 2,
       "version_minor": 0
      },
      "text/plain": [
       "HBox(children=(IntProgress(value=0, description='Epoch', max=1), HTML(value='')))"
      ]
     },
     "metadata": {},
     "output_type": "display_data"
    },
    {
     "name": "stdout",
     "output_type": "stream",
     "text": [
      "epoch      trn_loss   val_loss   accuracy                     \n",
      "    0      0.072548   0.026146   0.988     \n",
      "\n",
      "11     \t [1.39  1.005 0.2   1.    1.    1.   ]. \t  0.988  \t 0.991 \n"
     ]
    },
    {
     "data": {
      "application/vnd.jupyter.widget-view+json": {
       "model_id": "09e5ba0244404ee6b9f5d10b0d394d98",
       "version_major": 2,
       "version_minor": 0
      },
      "text/plain": [
       "HBox(children=(IntProgress(value=0, description='Epoch', max=4), HTML(value='')))"
      ]
     },
     "metadata": {},
     "output_type": "display_data"
    },
    {
     "name": "stdout",
     "output_type": "stream",
     "text": [
      "epoch      trn_loss   val_loss   accuracy                     \n",
      "    0      0.048794   0.024834   0.989     \n",
      "    1      0.037066   0.023476   0.9925                       \n",
      "    2      0.034106   0.021254   0.9915                       \n",
      "    3      0.034308   0.021885   0.989                        \n",
      "\n",
      "12     \t [3.648 0.834 0.2   4.043 1.    1.   ]. \t  0.989  \t 0.991 \n"
     ]
    },
    {
     "data": {
      "application/vnd.jupyter.widget-view+json": {
       "model_id": "e4a48d27d1a0472db5a1c977d1ee571a",
       "version_major": 2,
       "version_minor": 0
      },
      "text/plain": [
       "HBox(children=(IntProgress(value=0, description='Epoch', max=3), HTML(value='')))"
      ]
     },
     "metadata": {},
     "output_type": "display_data"
    },
    {
     "name": "stdout",
     "output_type": "stream",
     "text": [
      "epoch      trn_loss   val_loss   accuracy                     \n",
      "    0      0.059519   0.03005    0.9905    \n",
      "    1      0.039873   0.026382   0.9885                       \n",
      "    2      0.028827   0.027817   0.9885                       \n",
      "\n",
      "13     \t [3.794 0.194 0.2   3.369 1.    1.   ]. \t  0.9885 \t 0.991 \n"
     ]
    },
    {
     "data": {
      "application/vnd.jupyter.widget-view+json": {
       "model_id": "fac1863c869f406d9b2089aa782b1c15",
       "version_major": 2,
       "version_minor": 0
      },
      "text/plain": [
       "HBox(children=(IntProgress(value=0, description='Epoch', max=3), HTML(value='')))"
      ]
     },
     "metadata": {},
     "output_type": "display_data"
    },
    {
     "name": "stdout",
     "output_type": "stream",
     "text": [
      "epoch      trn_loss   val_loss   accuracy                     \n",
      "    0      0.043633   0.025206   0.991     \n",
      "    1      0.034805   0.024931   0.9925                       \n",
      "    2      0.03274    0.024829   0.99                         \n",
      "\n",
      "14     \t [3.558 0.792 0.2   3.324 1.    1.   ]. \t  0.99   \t 0.991 \n"
     ]
    },
    {
     "data": {
      "application/vnd.jupyter.widget-view+json": {
       "model_id": "07235c162fcc42b7a53dc324bd1673bc",
       "version_major": 2,
       "version_minor": 0
      },
      "text/plain": [
       "HBox(children=(IntProgress(value=0, description='Epoch', max=4), HTML(value='')))"
      ]
     },
     "metadata": {},
     "output_type": "display_data"
    },
    {
     "name": "stdout",
     "output_type": "stream",
     "text": [
      "epoch      trn_loss   val_loss   accuracy                   \n",
      "    0      2.470114   0.482876   0.988     \n",
      "    1      1.778074   0.356247   0.989                      \n",
      "    2      2.153329   0.482477   0.989                      \n",
      "    3      1.563857   0.307899   0.99                       \n",
      "\n",
      "15     \t [4.    0.287 0.8   4.112 1.    1.   ]. \t  0.99   \t 0.991 \n"
     ]
    },
    {
     "data": {
      "application/vnd.jupyter.widget-view+json": {
       "model_id": "75795682d3a5422789bdab81475d1e49",
       "version_major": 2,
       "version_minor": 0
      },
      "text/plain": [
       "HBox(children=(IntProgress(value=0, description='Epoch', max=4), HTML(value='')))"
      ]
     },
     "metadata": {},
     "output_type": "display_data"
    },
    {
     "name": "stdout",
     "output_type": "stream",
     "text": [
      "epoch      trn_loss   val_loss   accuracy                    \n",
      "    0      1.002502   0.870221   0.407     \n",
      "    1      1.001571   0.873376   0.4045                      \n",
      "    2      1.00533    0.883125   0.402                       \n",
      "    3      1.010643   0.864092   0.4135                      \n",
      "\n",
      "16     \t [3.22  0.    0.373 4.325 1.    1.   ]. \t  0.4135 \t 0.991 \n"
     ]
    },
    {
     "data": {
      "application/vnd.jupyter.widget-view+json": {
       "model_id": "f4dd9da6a3174e9e86bddf092a892ed6",
       "version_major": 2,
       "version_minor": 0
      },
      "text/plain": [
       "HBox(children=(IntProgress(value=0, description='Epoch', max=4), HTML(value='')))"
      ]
     },
     "metadata": {},
     "output_type": "display_data"
    },
    {
     "name": "stdout",
     "output_type": "stream",
     "text": [
      "epoch      trn_loss   val_loss   accuracy                       \n",
      "    0      910251515655532.1 176339383878680.56 0.986     \n",
      "    1      2.5294795514420833e+26 2.9761569215478962e+23 0.5       \n",
      "    2      1.2300606986693514e+34 1.8057137487663823e+31 0.5       \n",
      "    3      nan        nan        0.5                           \n",
      "\n",
      "17     \t [4.    1.29  0.775 4.348 1.    1.   ]. \t  0.5    \t 0.991 \n"
     ]
    },
    {
     "data": {
      "application/vnd.jupyter.widget-view+json": {
       "model_id": "9947db60639b4a38aeca2c9aa89468c2",
       "version_major": 2,
       "version_minor": 0
      },
      "text/plain": [
       "HBox(children=(IntProgress(value=0, description='Epoch', max=3), HTML(value='')))"
      ]
     },
     "metadata": {},
     "output_type": "display_data"
    },
    {
     "name": "stdout",
     "output_type": "stream",
     "text": [
      "epoch      trn_loss   val_loss   accuracy                     \n",
      "    0      0.043365   0.024653   0.99      \n",
      "    1      0.030221   0.024932   0.9905                       \n",
      "    2      0.030054   0.022226   0.9915                       \n",
      "\n",
      "18     \t [4.    0.422 0.2   3.93  1.    1.   ]. \t  \u001b[92m0.9915\u001b[0m \t 0.9915\n"
     ]
    },
    {
     "data": {
      "application/vnd.jupyter.widget-view+json": {
       "model_id": "87cf7c5861154da29ba11386b3ea2c81",
       "version_major": 2,
       "version_minor": 0
      },
      "text/plain": [
       "HBox(children=(IntProgress(value=0, description='Epoch', max=3), HTML(value='')))"
      ]
     },
     "metadata": {},
     "output_type": "display_data"
    },
    {
     "name": "stdout",
     "output_type": "stream",
     "text": [
      "epoch      trn_loss   val_loss   accuracy                    \n",
      "    0      0.190466   0.040268   0.99      \n",
      "    1      0.09347    0.028091   0.99                         \n",
      "    2      0.081001   0.026375   0.9895                       \n",
      "\n",
      "19     \t [4.    0.092 0.8   3.101 1.    1.   ]. \t  0.9895 \t 0.9915\n"
     ]
    },
    {
     "data": {
      "application/vnd.jupyter.widget-view+json": {
       "model_id": "feb018c198b94585ad458504bdbb2014",
       "version_major": 2,
       "version_minor": 0
      },
      "text/plain": [
       "HBox(children=(IntProgress(value=0, description='Epoch', max=1), HTML(value='')))"
      ]
     },
     "metadata": {},
     "output_type": "display_data"
    },
    {
     "name": "stdout",
     "output_type": "stream",
     "text": [
      "epoch      trn_loss   val_loss   accuracy                       \n",
      "    0      2484021.929481 639258.955 0.9885    \n",
      "\n",
      "20     \t [4.    1.643 0.533 1.857 1.    1.   ]. \t  0.9885 \t 0.9915\n"
     ]
    },
    {
     "data": {
      "application/vnd.jupyter.widget-view+json": {
       "model_id": "b83f40470b724b94a10fe6ff766e8654",
       "version_major": 2,
       "version_minor": 0
      },
      "text/plain": [
       "HBox(children=(IntProgress(value=0, description='Epoch', max=1), HTML(value='')))"
      ]
     },
     "metadata": {},
     "output_type": "display_data"
    },
    {
     "name": "stdout",
     "output_type": "stream",
     "text": [
      "epoch      trn_loss   val_loss   accuracy                       \n",
      "    0      3.054675374811732e+21 1.1476390003870482e+19 0.5       \n",
      "\n",
      "21     \t [1.    1.588 0.8   1.    1.    1.   ]. \t  0.5    \t 0.9915\n"
     ]
    },
    {
     "data": {
      "application/vnd.jupyter.widget-view+json": {
       "model_id": "a2d10c16060e470e8a379eaaf67c9236",
       "version_major": 2,
       "version_minor": 0
      },
      "text/plain": [
       "HBox(children=(IntProgress(value=0, description='Epoch', max=1), HTML(value='')))"
      ]
     },
     "metadata": {},
     "output_type": "display_data"
    },
    {
     "name": "stdout",
     "output_type": "stream",
     "text": [
      "epoch      trn_loss   val_loss   accuracy                   \n",
      "    0      6.981659   1.319767   0.99      \n",
      "\n",
      "22     \t [1.892 1.234 0.261 1.    1.    1.   ]. \t  0.99   \t 0.9915\n"
     ]
    },
    {
     "data": {
      "application/vnd.jupyter.widget-view+json": {
       "model_id": "75da05f9854742199dc85e550e1219d1",
       "version_major": 2,
       "version_minor": 0
      },
      "text/plain": [
       "HBox(children=(IntProgress(value=0, description='Epoch', max=1), HTML(value='')))"
      ]
     },
     "metadata": {},
     "output_type": "display_data"
    },
    {
     "name": "stdout",
     "output_type": "stream",
     "text": [
      "epoch      trn_loss   val_loss   accuracy                       \n",
      "    0      2.3163327889162776e+27 7.82470300769797e+24 0.5       \n",
      "\n",
      "23     \t [2.921 2.    0.8   1.    1.    1.   ]. \t  0.5    \t 0.9915\n"
     ]
    },
    {
     "data": {
      "application/vnd.jupyter.widget-view+json": {
       "model_id": "964503faf8b248f89bec92bea042fc4a",
       "version_major": 2,
       "version_minor": 0
      },
      "text/plain": [
       "HBox(children=(IntProgress(value=0, description='Epoch', max=1), HTML(value='')))"
      ]
     },
     "metadata": {},
     "output_type": "display_data"
    },
    {
     "name": "stdout",
     "output_type": "stream",
     "text": [
      "epoch      trn_loss   val_loss   accuracy                     \n",
      "    0      0.068046   0.032138   0.99      \n",
      "\n",
      "24     \t [1.114 0.025 0.427 1.402 1.    1.   ]. \t  0.99   \t 0.9915\n"
     ]
    },
    {
     "data": {
      "application/vnd.jupyter.widget-view+json": {
       "model_id": "94e5f51175ac4d50817fc1321cbe79f3",
       "version_major": 2,
       "version_minor": 0
      },
      "text/plain": [
       "HBox(children=(IntProgress(value=0, description='Epoch', max=2), HTML(value='')))"
      ]
     },
     "metadata": {},
     "output_type": "display_data"
    },
    {
     "name": "stdout",
     "output_type": "stream",
     "text": [
      "epoch      trn_loss   val_loss   accuracy                   \n",
      "    0      268.444738 51.897114  0.9885    \n",
      "    1      35891.698417 6428.109533 0.9885                      \n",
      "\n",
      "25     \t [1.529 0.45  0.8   2.292 1.    1.   ]. \t  0.9885 \t 0.9915\n"
     ]
    },
    {
     "data": {
      "application/vnd.jupyter.widget-view+json": {
       "model_id": "ce7bab4a95f8418e9cc87c77ec56b59b",
       "version_major": 2,
       "version_minor": 0
      },
      "text/plain": [
       "HBox(children=(IntProgress(value=0, description='Epoch', max=1), HTML(value='')))"
      ]
     },
     "metadata": {},
     "output_type": "display_data"
    },
    {
     "name": "stdout",
     "output_type": "stream",
     "text": [
      "epoch      trn_loss   val_loss   accuracy                     \n",
      "    0      0.042576   0.02392    0.991     \n",
      "\n",
      "26     \t [1.    0.478 0.2   1.905 1.    1.   ]. \t  0.991  \t 0.9915\n"
     ]
    },
    {
     "data": {
      "application/vnd.jupyter.widget-view+json": {
       "model_id": "69ac3f98601c4e4393266df37c371c9e",
       "version_major": 2,
       "version_minor": 0
      },
      "text/plain": [
       "HBox(children=(IntProgress(value=0, description='Epoch', max=1), HTML(value='')))"
      ]
     },
     "metadata": {},
     "output_type": "display_data"
    },
    {
     "name": "stdout",
     "output_type": "stream",
     "text": [
      "epoch      trn_loss   val_loss   accuracy                    \n",
      "    0      0.718373   0.140373   0.99      \n",
      "\n",
      "27     \t [1.476 0.552 0.593 1.582 1.    1.   ]. \t  0.99   \t 0.9915\n"
     ]
    },
    {
     "data": {
      "application/vnd.jupyter.widget-view+json": {
       "model_id": "c4236f329011437097e67e0702c75de2",
       "version_major": 2,
       "version_minor": 0
      },
      "text/plain": [
       "HBox(children=(IntProgress(value=0, description='Epoch', max=3), HTML(value='')))"
      ]
     },
     "metadata": {},
     "output_type": "display_data"
    },
    {
     "name": "stdout",
     "output_type": "stream",
     "text": [
      "epoch      trn_loss   val_loss   accuracy                     \n",
      "    0      0.04745    0.024481   0.991     \n",
      "    1      0.039386   0.024334   0.991                        \n",
      "    2      0.035355   0.024708   0.992                        \n",
      "\n",
      "28     \t [1.652 0.854 0.2   3.184 1.    1.   ]. \t  \u001b[92m0.992\u001b[0m \t 0.992 \n"
     ]
    },
    {
     "data": {
      "application/vnd.jupyter.widget-view+json": {
       "model_id": "1929d8e9a5294e909fc4aa5dd4629c9c",
       "version_major": 2,
       "version_minor": 0
      },
      "text/plain": [
       "HBox(children=(IntProgress(value=0, description='Epoch', max=2), HTML(value='')))"
      ]
     },
     "metadata": {},
     "output_type": "display_data"
    },
    {
     "name": "stdout",
     "output_type": "stream",
     "text": [
      "epoch      trn_loss   val_loss   accuracy                    \n",
      "    0      0.967278   0.905673   0.407     \n",
      "    1      0.970159   0.90846    0.405                       \n",
      "\n",
      "29     \t [1.725 0.    0.2   2.732 1.    1.   ]. \t  0.405  \t 0.992 \n"
     ]
    },
    {
     "data": {
      "application/vnd.jupyter.widget-view+json": {
       "model_id": "a7cd3fe92b1d46d18a00e97f8f403e53",
       "version_major": 2,
       "version_minor": 0
      },
      "text/plain": [
       "HBox(children=(IntProgress(value=0, description='Epoch', max=2), HTML(value='')))"
      ]
     },
     "metadata": {},
     "output_type": "display_data"
    },
    {
     "name": "stdout",
     "output_type": "stream",
     "text": [
      "epoch      trn_loss   val_loss   accuracy                       \n",
      "    0      38255834151912.086 9024542768889.855 0.9855    \n",
      "    1      7.867556901121044e+24 8.768250544332496e+21 0.5       \n",
      "\n",
      "30     \t [1.759 1.2   0.773 2.857 1.    1.   ]. \t  0.5    \t 0.992 \n",
      "------------------------------------ ProbabilityImprovement -----------------------------------\n",
      "Evaluation \t Proposed point \t  Current eval. \t Best eval.\n"
     ]
    },
    {
     "data": {
      "application/vnd.jupyter.widget-view+json": {
       "model_id": "a1edecbcd17e46dab5f84c211dd65cc9",
       "version_major": 2,
       "version_minor": 0
      },
      "text/plain": [
       "HBox(children=(IntProgress(value=0, description='Epoch', max=3), HTML(value='')))"
      ]
     },
     "metadata": {},
     "output_type": "display_data"
    },
    {
     "name": "stdout",
     "output_type": "stream",
     "text": [
      "epoch      trn_loss   val_loss   accuracy                   \n",
      "    0      65.228875  17.41553   0.9875    \n",
      "    1      216.876787 47.826204  0.989                          \n",
      "    2      4797.908625 1465.680239 0.989                        \n",
      "\n",
      "                                             \r"
     ]
    },
    {
     "data": {
      "application/vnd.jupyter.widget-view+json": {
       "model_id": "49d83fd1001b4227bafcafbbaf153a77",
       "version_major": 2,
       "version_minor": 0
      },
      "text/plain": [
       "HBox(children=(IntProgress(value=0, description='Epoch', max=4), HTML(value='')))"
      ]
     },
     "metadata": {},
     "output_type": "display_data"
    },
    {
     "name": "stdout",
     "output_type": "stream",
     "text": [
      "epoch      trn_loss   val_loss   accuracy                       \n",
      "    0      1.1117259720807173e+22 3.94646393365811e+19 0.5       \n",
      "    1      nan        nan        0.5                            \n",
      "    2      nan        nan        0.5                       \n",
      "    3      nan        nan        0.5                       \n",
      "\n",
      "                                             \r"
     ]
    },
    {
     "data": {
      "application/vnd.jupyter.widget-view+json": {
       "model_id": "3bcc9adca88f4cce8b94d20e2d6f68db",
       "version_major": 2,
       "version_minor": 0
      },
      "text/plain": [
       "HBox(children=(IntProgress(value=0, description='Epoch', max=1), HTML(value='')))"
      ]
     },
     "metadata": {},
     "output_type": "display_data"
    },
    {
     "name": "stdout",
     "output_type": "stream",
     "text": [
      "epoch      trn_loss   val_loss   accuracy                       \n",
      "    0      244837.622091 64328.597688 0.984     \n",
      "\n",
      "init   \t [3.751 1.177 0.359 3.    1.    1.   ]. \t   0.989 \t  0.989\n",
      "init   \t [2.798 1.832 0.773 4.    1.    1.   ]. \t     0.5 \t  0.989\n",
      "init   \t [1.781 1.824 0.356 1.    1.    1.   ]. \t   0.984 \t  0.989\n"
     ]
    },
    {
     "data": {
      "application/vnd.jupyter.widget-view+json": {
       "model_id": "6040758be94e4f56afe69a1a9d9dfe73",
       "version_major": 2,
       "version_minor": 0
      },
      "text/plain": [
       "HBox(children=(IntProgress(value=0, description='Epoch', max=3), HTML(value='')))"
      ]
     },
     "metadata": {},
     "output_type": "display_data"
    },
    {
     "name": "stdout",
     "output_type": "stream",
     "text": [
      "epoch      trn_loss   val_loss   accuracy                    \n",
      "    0      0.905741   0.218307   0.9895    \n",
      "    1      6.083515   1.114495   0.991                      \n",
      "    2      16.582353  3.144907   0.992                      \n",
      "\n",
      "1      \t [3.743 1.182 0.362 3.004 1.    1.   ]. \t  \u001b[92m0.992\u001b[0m \t 0.992 \n"
     ]
    },
    {
     "data": {
      "application/vnd.jupyter.widget-view+json": {
       "model_id": "e4aa9d0d7b6c453f82a59136eee0e0f4",
       "version_major": 2,
       "version_minor": 0
      },
      "text/plain": [
       "HBox(children=(IntProgress(value=0, description='Epoch', max=3), HTML(value='')))"
      ]
     },
     "metadata": {},
     "output_type": "display_data"
    },
    {
     "name": "stdout",
     "output_type": "stream",
     "text": [
      "epoch      trn_loss   val_loss   accuracy                   \n",
      "    0      8.483751   3.44739    0.988     \n",
      "    1      72.891125  19.91794   0.988                      \n",
      "    2      1029.328783 309.936873 0.991                         \n",
      "\n",
      "2      \t [3.703 1.205 0.374 3.024 1.    1.   ]. \t  0.991  \t 0.992 \n"
     ]
    },
    {
     "data": {
      "application/vnd.jupyter.widget-view+json": {
       "model_id": "52eb800f78ef49d49637cffb0c02477f",
       "version_major": 2,
       "version_minor": 0
      },
      "text/plain": [
       "HBox(children=(IntProgress(value=0, description='Epoch', max=4), HTML(value='')))"
      ]
     },
     "metadata": {},
     "output_type": "display_data"
    },
    {
     "name": "stdout",
     "output_type": "stream",
     "text": [
      "epoch      trn_loss   val_loss   accuracy                   \n",
      "    0      2.414715   0.61632    0.987     \n",
      "    1      19.801998  59.151015  0.964                      \n",
      "    2      235.030409 50.995203  0.99                           \n",
      "    3      5773.623367 5360.977391 0.988                        \n",
      "\n",
      "3      \t [3.731 1.196 0.374 3.051 1.    1.   ]. \t  0.988  \t 0.992 \n"
     ]
    },
    {
     "data": {
      "application/vnd.jupyter.widget-view+json": {
       "model_id": "a504c5d40f684bd38d95d76c97d0f716",
       "version_major": 2,
       "version_minor": 0
      },
      "text/plain": [
       "HBox(children=(IntProgress(value=0, description='Epoch', max=2), HTML(value='')))"
      ]
     },
     "metadata": {},
     "output_type": "display_data"
    },
    {
     "name": "stdout",
     "output_type": "stream",
     "text": [
      "epoch      trn_loss   val_loss   accuracy                   \n",
      "    0      13.465838  4.018858   0.9875    \n",
      "    1      105.983909 21.187451  0.9895                    \n",
      "\n",
      "4      \t [3.7   1.199 0.365 2.979 1.    1.   ]. \t  0.9895 \t 0.992 \n"
     ]
    },
    {
     "data": {
      "application/vnd.jupyter.widget-view+json": {
       "model_id": "2a6ee7c56b554fd0b0afe61aa0f134aa",
       "version_major": 2,
       "version_minor": 0
      },
      "text/plain": [
       "HBox(children=(IntProgress(value=0, description='Epoch', max=1), HTML(value='')))"
      ]
     },
     "metadata": {},
     "output_type": "display_data"
    },
    {
     "name": "stdout",
     "output_type": "stream",
     "text": [
      "epoch      trn_loss   val_loss   accuracy                       \n",
      "    0      506407.515886 117039.053562 0.9885    \n",
      "\n",
      "5      \t [1.671 1.865 0.362 1.    1.    1.   ]. \t  0.9885 \t 0.992 \n"
     ]
    },
    {
     "data": {
      "application/vnd.jupyter.widget-view+json": {
       "model_id": "a4805777a9534a0d95b6b1356c7618a8",
       "version_major": 2,
       "version_minor": 0
      },
      "text/plain": [
       "HBox(children=(IntProgress(value=0, description='Epoch', max=3), HTML(value='')))"
      ]
     },
     "metadata": {},
     "output_type": "display_data"
    },
    {
     "name": "stdout",
     "output_type": "stream",
     "text": [
      "epoch      trn_loss   val_loss   accuracy                   \n",
      "    0      36.20688   13.363023  0.986     \n",
      "    1      74.048728  16.784236  0.99                       \n",
      "    2      7469.511732 1993.72635 0.988                         \n",
      "\n",
      "6      \t [3.692 1.16  0.354 3.016 1.    1.   ]. \t  0.988  \t 0.992 \n"
     ]
    },
    {
     "data": {
      "application/vnd.jupyter.widget-view+json": {
       "model_id": "e4d52dc6e8ec455ebac071928ee71db7",
       "version_major": 2,
       "version_minor": 0
      },
      "text/plain": [
       "HBox(children=(IntProgress(value=0, description='Epoch', max=3), HTML(value='')))"
      ]
     },
     "metadata": {},
     "output_type": "display_data"
    },
    {
     "name": "stdout",
     "output_type": "stream",
     "text": [
      "epoch      trn_loss   val_loss   accuracy                   \n",
      "    0      13.011939  1.883606   0.9895    \n",
      "    1      43.366358  10.470419  0.991                      \n",
      "    2      19860.28443 4500.397285 0.99                         \n",
      "\n",
      "7      \t [3.733 1.238 0.361 3.001 1.    1.   ]. \t  0.99   \t 0.992 \n"
     ]
    },
    {
     "data": {
      "application/vnd.jupyter.widget-view+json": {
       "model_id": "cd9f7785f6a54ebea1f1fd51f880c57d",
       "version_major": 2,
       "version_minor": 0
      },
      "text/plain": [
       "HBox(children=(IntProgress(value=0, description='Epoch', max=2), HTML(value='')))"
      ]
     },
     "metadata": {},
     "output_type": "display_data"
    },
    {
     "name": "stdout",
     "output_type": "stream",
     "text": [
      "epoch      trn_loss   val_loss   accuracy                   \n",
      "    0      18.975967  4.470287   0.9885    \n",
      "    1      1577.740047 390.89516  0.99                          \n",
      "\n",
      "8      \t [3.727 1.203 0.411 2.996 1.    1.   ]. \t  0.99   \t 0.992 \n"
     ]
    },
    {
     "data": {
      "application/vnd.jupyter.widget-view+json": {
       "model_id": "d379fd56bf9d4de5ac031d5abb52362c",
       "version_major": 2,
       "version_minor": 0
      },
      "text/plain": [
       "HBox(children=(IntProgress(value=0, description='Epoch', max=1), HTML(value='')))"
      ]
     },
     "metadata": {},
     "output_type": "display_data"
    },
    {
     "name": "stdout",
     "output_type": "stream",
     "text": [
      "epoch      trn_loss   val_loss   accuracy                       \n",
      "    0      59233137.841264 10703958.016 0.991     \n",
      "\n",
      "9      \t [1.714 1.899 0.425 1.    1.    1.   ]. \t  0.991  \t 0.992 \n"
     ]
    },
    {
     "data": {
      "application/vnd.jupyter.widget-view+json": {
       "model_id": "30ceb422441247c6bef9f7dd98016db4",
       "version_major": 2,
       "version_minor": 0
      },
      "text/plain": [
       "HBox(children=(IntProgress(value=0, description='Epoch', max=1), HTML(value='')))"
      ]
     },
     "metadata": {},
     "output_type": "display_data"
    },
    {
     "name": "stdout",
     "output_type": "stream",
     "text": [
      "epoch      trn_loss   val_loss   accuracy                       \n",
      "    0      47893714.920001 13016136.27375 0.9855    \n",
      "\n",
      "10     \t [1.722 1.925 0.389 1.    1.    1.   ]. \t  0.9855 \t 0.992 \n"
     ]
    },
    {
     "data": {
      "application/vnd.jupyter.widget-view+json": {
       "model_id": "0bb582d87a424afda5fffd5c2e84fcc0",
       "version_major": 2,
       "version_minor": 0
      },
      "text/plain": [
       "HBox(children=(IntProgress(value=0, description='Epoch', max=1), HTML(value='')))"
      ]
     },
     "metadata": {},
     "output_type": "display_data"
    },
    {
     "name": "stdout",
     "output_type": "stream",
     "text": [
      "epoch      trn_loss   val_loss   accuracy                       \n",
      "    0      12732862.798429 2232339.4205 0.991     \n",
      "\n",
      "11     \t [1.699 1.861 0.445 1.    1.    1.   ]. \t  0.991  \t 0.992 \n"
     ]
    },
    {
     "data": {
      "application/vnd.jupyter.widget-view+json": {
       "model_id": "6d6047c310584532948894b0d4ccf12b",
       "version_major": 2,
       "version_minor": 0
      },
      "text/plain": [
       "HBox(children=(IntProgress(value=0, description='Epoch', max=1), HTML(value='')))"
      ]
     },
     "metadata": {},
     "output_type": "display_data"
    },
    {
     "name": "stdout",
     "output_type": "stream",
     "text": [
      "epoch      trn_loss   val_loss   accuracy                       \n",
      "    0      101496696.076447 23578161.868 0.989     \n",
      "\n",
      "12     \t [1.703 1.875 0.441 1.    1.    1.032]. \t  0.989  \t 0.992 \n"
     ]
    },
    {
     "data": {
      "application/vnd.jupyter.widget-view+json": {
       "model_id": "9463885d1e8249549c2705dd06da7db9",
       "version_major": 2,
       "version_minor": 0
      },
      "text/plain": [
       "HBox(children=(IntProgress(value=0, description='Epoch', max=1), HTML(value='')))"
      ]
     },
     "metadata": {},
     "output_type": "display_data"
    },
    {
     "name": "stdout",
     "output_type": "stream",
     "text": [
      "epoch      trn_loss   val_loss   accuracy                       \n",
      "    0      84500889.083915 30535370.328 0.985     \n",
      "\n",
      "13     \t [1.703 1.875 0.441 1.    1.032 1.   ]. \t  0.985  \t 0.992 \n"
     ]
    },
    {
     "data": {
      "application/vnd.jupyter.widget-view+json": {
       "model_id": "33bd594572b644fcaaea9c33151db8f8",
       "version_major": 2,
       "version_minor": 0
      },
      "text/plain": [
       "HBox(children=(IntProgress(value=0, description='Epoch', max=1), HTML(value='')))"
      ]
     },
     "metadata": {},
     "output_type": "display_data"
    },
    {
     "name": "stdout",
     "output_type": "stream",
     "text": [
      "epoch      trn_loss   val_loss   accuracy                       \n",
      "    0      14198635.240689 3028189.4355 0.988     \n",
      "\n",
      "14     \t [1.701 1.876 0.441 1.032 1.    1.   ]. \t  0.988  \t 0.992 \n"
     ]
    },
    {
     "data": {
      "application/vnd.jupyter.widget-view+json": {
       "model_id": "52e60dbb4611423d82c8df527db4fa49",
       "version_major": 2,
       "version_minor": 0
      },
      "text/plain": [
       "HBox(children=(IntProgress(value=0, description='Epoch', max=1), HTML(value='')))"
      ]
     },
     "metadata": {},
     "output_type": "display_data"
    },
    {
     "name": "stdout",
     "output_type": "stream",
     "text": [
      "epoch      trn_loss   val_loss   accuracy                       \n",
      "    0      27967250.639984 7872077.966 0.9865    \n",
      "\n",
      "15     \t [1.686 1.897 0.463 1.    1.    1.   ]. \t  0.9865 \t 0.992 \n"
     ]
    },
    {
     "data": {
      "application/vnd.jupyter.widget-view+json": {
       "model_id": "58d0bb065592472e8db93e44ccaa9649",
       "version_major": 2,
       "version_minor": 0
      },
      "text/plain": [
       "HBox(children=(IntProgress(value=0, description='Epoch', max=1), HTML(value='')))"
      ]
     },
     "metadata": {},
     "output_type": "display_data"
    },
    {
     "name": "stdout",
     "output_type": "stream",
     "text": [
      "epoch      trn_loss   val_loss   accuracy                       \n",
      "    0      818440.633572 276752.2575 0.9885    \n",
      "\n",
      "16     \t [1.728 1.851 0.422 1.    1.    1.   ]. \t  0.9885 \t 0.992 \n"
     ]
    },
    {
     "data": {
      "application/vnd.jupyter.widget-view+json": {
       "model_id": "5792160126e14d148347d0d6d85b7004",
       "version_major": 2,
       "version_minor": 0
      },
      "text/plain": [
       "HBox(children=(IntProgress(value=0, description='Epoch', max=1), HTML(value='')))"
      ]
     },
     "metadata": {},
     "output_type": "display_data"
    },
    {
     "name": "stdout",
     "output_type": "stream",
     "text": [
      "epoch      trn_loss   val_loss   accuracy                       \n",
      "    0      2597171.150221 762370.656625 0.9855    \n",
      "\n",
      "17     \t [1.674 1.846 0.408 1.    1.    1.   ]. \t  0.9855 \t 0.992 \n"
     ]
    },
    {
     "data": {
      "application/vnd.jupyter.widget-view+json": {
       "model_id": "4e68a6d804984c8eb67f98e5de28f187",
       "version_major": 2,
       "version_minor": 0
      },
      "text/plain": [
       "HBox(children=(IntProgress(value=0, description='Epoch', max=1), HTML(value='')))"
      ]
     },
     "metadata": {},
     "output_type": "display_data"
    },
    {
     "name": "stdout",
     "output_type": "stream",
     "text": [
      "epoch      trn_loss   val_loss   accuracy                       \n",
      "    0      597241709753.0907 190290181750.784 0.986     \n",
      "\n",
      "18     \t [1.784 1.88  0.561 1.    1.    1.   ]. \t  0.986  \t 0.992 \n"
     ]
    },
    {
     "data": {
      "application/vnd.jupyter.widget-view+json": {
       "model_id": "55a342fbbee84a6a8fb7ae176b67eb4c",
       "version_major": 2,
       "version_minor": 0
      },
      "text/plain": [
       "HBox(children=(IntProgress(value=0, description='Epoch', max=4), HTML(value='')))"
      ]
     },
     "metadata": {},
     "output_type": "display_data"
    },
    {
     "name": "stdout",
     "output_type": "stream",
     "text": [
      "epoch      trn_loss   val_loss   accuracy                   \n",
      "    0      13.129977  3.499966   0.99      \n",
      "    1      115.444473 18.677964  0.991                     \n",
      "    2      284.263226 665.485905 0.9825                     \n",
      "    3      566039.996658 95628.576986 0.989                     \n",
      "\n",
      "19     \t [3.721 1.208 0.373 3.004 1.    1.046]. \t  0.989  \t 0.992 \n"
     ]
    },
    {
     "data": {
      "application/vnd.jupyter.widget-view+json": {
       "model_id": "32fdb494684946cba5baddd4a7424b21",
       "version_major": 2,
       "version_minor": 0
      },
      "text/plain": [
       "HBox(children=(IntProgress(value=0, description='Epoch', max=1), HTML(value='')))"
      ]
     },
     "metadata": {},
     "output_type": "display_data"
    },
    {
     "name": "stdout",
     "output_type": "stream",
     "text": [
      "epoch      trn_loss   val_loss   accuracy                       \n",
      "    0      13216.878016 2406.606612 0.9885    \n",
      "\n",
      "20     \t [1.707 1.861 0.2   1.    1.    1.   ]. \t  0.9885 \t 0.992 \n"
     ]
    },
    {
     "data": {
      "application/vnd.jupyter.widget-view+json": {
       "model_id": "f99653408cf643c0b791fd28c91ed6fc",
       "version_major": 2,
       "version_minor": 0
      },
      "text/plain": [
       "HBox(children=(IntProgress(value=0, description='Epoch', max=1), HTML(value='')))"
      ]
     },
     "metadata": {},
     "output_type": "display_data"
    },
    {
     "name": "stdout",
     "output_type": "stream",
     "text": [
      "epoch      trn_loss   val_loss   accuracy                   \n",
      "    0      69.808482  10.731488  0.986     \n",
      "\n",
      "21     \t [1.7   1.861 0.2   1.    1.    1.087]. \t  0.986  \t 0.992 \n"
     ]
    },
    {
     "data": {
      "application/vnd.jupyter.widget-view+json": {
       "model_id": "a2df0a686a4740839eb24f39fcf2bd92",
       "version_major": 2,
       "version_minor": 0
      },
      "text/plain": [
       "HBox(children=(IntProgress(value=0, description='Epoch', max=2), HTML(value='')))"
      ]
     },
     "metadata": {},
     "output_type": "display_data"
    },
    {
     "name": "stdout",
     "output_type": "stream",
     "text": [
      "epoch      trn_loss   val_loss   accuracy                       \n",
      "    0      10516.303049 1334.795132 0.9895    \n",
      "    1      21246014.010401 5353062.404 0.9865                   \n",
      "\n",
      "22     \t [1.697 1.861 0.2   1.086 1.    1.016]. \t  0.9865 \t 0.992 \n"
     ]
    },
    {
     "data": {
      "application/vnd.jupyter.widget-view+json": {
       "model_id": "fa4845ebb39942ca949167a0638dfed1",
       "version_major": 2,
       "version_minor": 0
      },
      "text/plain": [
       "HBox(children=(IntProgress(value=0, description='Epoch', max=3), HTML(value='')))"
      ]
     },
     "metadata": {},
     "output_type": "display_data"
    },
    {
     "name": "stdout",
     "output_type": "stream",
     "text": [
      "epoch      trn_loss   val_loss   accuracy                   \n",
      "    0      83.843171  19.032962  0.989     \n",
      "    1      4626.466855 754.938862 0.9895                        \n",
      "    2      816243.540797 181984.092625 0.9905                   \n",
      "\n",
      "23     \t [3.62  1.286 0.417 3.032 1.    1.   ]. \t  0.9905 \t 0.992 \n"
     ]
    },
    {
     "data": {
      "application/vnd.jupyter.widget-view+json": {
       "model_id": "a535b09ab286451f8e27d96ea4b7fa07",
       "version_major": 2,
       "version_minor": 0
      },
      "text/plain": [
       "HBox(children=(IntProgress(value=0, description='Epoch', max=3), HTML(value='')))"
      ]
     },
     "metadata": {},
     "output_type": "display_data"
    },
    {
     "name": "stdout",
     "output_type": "stream",
     "text": [
      "epoch      trn_loss   val_loss   accuracy                   \n",
      "    0      30.194528  7.073558   0.9895    \n",
      "    1      92.883678  11.109295  0.9895                     \n",
      "    2      4696.833524 1189.414574 0.99                         \n",
      "\n",
      "24     \t [3.579 1.318 0.364 3.052 1.    1.   ]. \t  0.99   \t 0.992 \n"
     ]
    },
    {
     "data": {
      "application/vnd.jupyter.widget-view+json": {
       "model_id": "b70d8b8995fa42cfb3a6f4fbb402e342",
       "version_major": 2,
       "version_minor": 0
      },
      "text/plain": [
       "HBox(children=(IntProgress(value=0, description='Epoch', max=3), HTML(value='')))"
      ]
     },
     "metadata": {},
     "output_type": "display_data"
    },
    {
     "name": "stdout",
     "output_type": "stream",
     "text": [
      "epoch      trn_loss   val_loss   accuracy                   \n",
      "    0      36.77976   7.10398    0.989     \n",
      "    1      4457.199669 887.440763 0.9905                        \n",
      "    2      678533.043956 136307.907625 0.9885                   \n",
      "\n",
      "25     \t [3.482 1.312 0.407 3.069 1.    1.   ]. \t  0.9885 \t 0.992 \n"
     ]
    },
    {
     "data": {
      "application/vnd.jupyter.widget-view+json": {
       "model_id": "175f63c6ab5345109e20ddfd877cd3d2",
       "version_major": 2,
       "version_minor": 0
      },
      "text/plain": [
       "HBox(children=(IntProgress(value=0, description='Epoch', max=4), HTML(value='')))"
      ]
     },
     "metadata": {},
     "output_type": "display_data"
    },
    {
     "name": "stdout",
     "output_type": "stream",
     "text": [
      "epoch      trn_loss   val_loss   accuracy                       \n",
      "    0      1333.434311 377.617632 0.9875    \n",
      "    1      2820780.985544 699490.7715 0.985                     \n",
      "    2      38562785.298973 133478126.88 0.9615                  \n",
      "    3      4.925709453796572e+16 1.128285233753568e+16 0.988     \n",
      "\n",
      "26     \t [3.406 1.403 0.414 3.092 1.    1.105]. \t  0.988  \t 0.992 \n"
     ]
    },
    {
     "data": {
      "application/vnd.jupyter.widget-view+json": {
       "model_id": "152095e24ddf4e9bbb816e819417415e",
       "version_major": 2,
       "version_minor": 0
      },
      "text/plain": [
       "HBox(children=(IntProgress(value=0, description='Epoch', max=4), HTML(value='')))"
      ]
     },
     "metadata": {},
     "output_type": "display_data"
    },
    {
     "name": "stdout",
     "output_type": "stream",
     "text": [
      "epoch      trn_loss   val_loss   accuracy                       \n",
      "    0      8889.603993 3506.004637 0.9845    \n",
      "    1      1191390549.980425 243824885.248 0.987                \n",
      "    2      128274422083.67476 324854437904.384 0.9805           \n",
      "    3      9.886091808472731e+20 2.92930980115282e+18 0.5       \n",
      "\n",
      "27     \t [3.158 1.569 0.439 3.106 1.    1.091]. \t  0.5    \t 0.992 \n"
     ]
    },
    {
     "data": {
      "application/vnd.jupyter.widget-view+json": {
       "model_id": "24f554d889774017b86d63a3a6b8600b",
       "version_major": 2,
       "version_minor": 0
      },
      "text/plain": [
       "HBox(children=(IntProgress(value=0, description='Epoch', max=4), HTML(value='')))"
      ]
     },
     "metadata": {},
     "output_type": "display_data"
    },
    {
     "name": "stdout",
     "output_type": "stream",
     "text": [
      "epoch      trn_loss   val_loss   accuracy                       \n",
      "    0      189.179707 30.150124  0.9905    \n",
      "    1      388202.228309 68790.421406 0.9895                    \n",
      "    2      2823660.326791 5118100.336 0.9785                    \n",
      "    3      519376487075265.25 707244488191377.4 0.982           \n",
      "\n",
      "28     \t [3.474 1.354 0.403 3.158 1.    1.154]. \t  0.982  \t 0.992 \n"
     ]
    },
    {
     "data": {
      "application/vnd.jupyter.widget-view+json": {
       "model_id": "4202a609b3d3458cbcea0b9a61331c21",
       "version_major": 2,
       "version_minor": 0
      },
      "text/plain": [
       "HBox(children=(IntProgress(value=0, description='Epoch', max=4), HTML(value='')))"
      ]
     },
     "metadata": {},
     "output_type": "display_data"
    },
    {
     "name": "stdout",
     "output_type": "stream",
     "text": [
      "epoch      trn_loss   val_loss   accuracy                   \n",
      "    0      57.873489  18.789627  0.9885    \n",
      "    1      67751.157332 10031.782088 0.9885                     \n",
      "    2      339474.790596 175476.342375 0.9875                   \n",
      "    3      1034134535.37429 259396081.072 0.985                 \n",
      "\n",
      "29     \t [3.52  1.3   0.374 3.021 1.    1.123]. \t  0.985  \t 0.992 \n"
     ]
    },
    {
     "data": {
      "application/vnd.jupyter.widget-view+json": {
       "model_id": "3d237b4ab8a64a528d1a0c756db892c2",
       "version_major": 2,
       "version_minor": 0
      },
      "text/plain": [
       "HBox(children=(IntProgress(value=0, description='Epoch', max=4), HTML(value='')))"
      ]
     },
     "metadata": {},
     "output_type": "display_data"
    },
    {
     "name": "stdout",
     "output_type": "stream",
     "text": [
      "epoch      trn_loss   val_loss   accuracy                       \n",
      "    0      222.158115 51.727509  0.9875    \n",
      "    1      386408.258607 1459118.452992 0.9685                  \n",
      "    2      5081761777.736531 1174912629.76 0.9885               \n",
      "    3      1329089033732.0767 2676405713240.064 0.9645          \n",
      "\n",
      "30     \t [3.519 1.377 0.435 3.095 1.003 1.079]. \t  0.9645 \t 0.992 \n",
      "------------------------------------ UCB -----------------------------------\n",
      "Evaluation \t Proposed point \t  Current eval. \t Best eval.\n"
     ]
    },
    {
     "data": {
      "application/vnd.jupyter.widget-view+json": {
       "model_id": "e8f346d17eb04f329c087e2963394b2e",
       "version_major": 2,
       "version_minor": 0
      },
      "text/plain": [
       "HBox(children=(IntProgress(value=0, description='Epoch', max=3), HTML(value='')))"
      ]
     },
     "metadata": {},
     "output_type": "display_data"
    },
    {
     "name": "stdout",
     "output_type": "stream",
     "text": [
      "epoch      trn_loss   val_loss   accuracy                   \n",
      "    0      65.228875  17.41553   0.9875    \n",
      "    1      329.001786 78.114606  0.988                          \n",
      "    2      1185.527141 365.843599 0.9895                        \n",
      "\n",
      "                                             \r"
     ]
    },
    {
     "data": {
      "application/vnd.jupyter.widget-view+json": {
       "model_id": "f3bb53c7398b41859f9ac359cb3b3290",
       "version_major": 2,
       "version_minor": 0
      },
      "text/plain": [
       "HBox(children=(IntProgress(value=0, description='Epoch', max=4), HTML(value='')))"
      ]
     },
     "metadata": {},
     "output_type": "display_data"
    },
    {
     "name": "stdout",
     "output_type": "stream",
     "text": [
      "epoch      trn_loss   val_loss   accuracy                       \n",
      "    0      1.1117259720807173e+22 3.94646393365811e+19 0.5       \n",
      "    1      nan        nan        0.5                            \n",
      "    2      nan        nan        0.5                       \n",
      "    3      nan        nan        0.5                       \n",
      "\n",
      "                                             \r"
     ]
    },
    {
     "data": {
      "application/vnd.jupyter.widget-view+json": {
       "model_id": "262b2970222044cc97b0525e1f46a348",
       "version_major": 2,
       "version_minor": 0
      },
      "text/plain": [
       "HBox(children=(IntProgress(value=0, description='Epoch', max=1), HTML(value='')))"
      ]
     },
     "metadata": {},
     "output_type": "display_data"
    },
    {
     "name": "stdout",
     "output_type": "stream",
     "text": [
      "epoch      trn_loss   val_loss   accuracy                       \n",
      "    0      79922.677256 19526.1285 0.9835    \n",
      "\n",
      "init   \t [3.751 1.177 0.359 3.    1.    1.   ]. \t  0.9895 \t 0.9895\n",
      "init   \t [2.798 1.832 0.773 4.    1.    1.   ]. \t     0.5 \t 0.9895\n",
      "init   \t [1.781 1.824 0.356 1.    1.    1.   ]. \t  0.9835 \t 0.9895\n"
     ]
    },
    {
     "data": {
      "application/vnd.jupyter.widget-view+json": {
       "model_id": "6b951304f03944ae94a56a7c2cb0e76e",
       "version_major": 2,
       "version_minor": 0
      },
      "text/plain": [
       "HBox(children=(IntProgress(value=0, description='Epoch', max=2), HTML(value='')))"
      ]
     },
     "metadata": {},
     "output_type": "display_data"
    },
    {
     "name": "stdout",
     "output_type": "stream",
     "text": [
      "epoch      trn_loss   val_loss   accuracy                       \n",
      "    0      6868.097478 1231.083564 0.9895    \n",
      "    1      2001203212.697382 447288592.896 0.9895               \n",
      "\n",
      "1      \t [2.704 1.549 0.392 2.102 1.    1.   ]. \t  \u001b[92m0.9895\u001b[0m \t 0.9895\n"
     ]
    },
    {
     "data": {
      "application/vnd.jupyter.widget-view+json": {
       "model_id": "08b2d38e9ed3432b88b6edda90984e96",
       "version_major": 2,
       "version_minor": 0
      },
      "text/plain": [
       "HBox(children=(IntProgress(value=0, description='Epoch', max=2), HTML(value='')))"
      ]
     },
     "metadata": {},
     "output_type": "display_data"
    },
    {
     "name": "stdout",
     "output_type": "stream",
     "text": [
      "epoch      trn_loss   val_loss   accuracy                     \n",
      "    0      0.042627   0.026022   0.99      \n",
      "    1      0.049615   0.031276   0.9905                       \n",
      "\n",
      "2      \t [2.743 0.65  0.2   2.995 1.    1.   ]. \t  \u001b[92m0.9905\u001b[0m \t 0.9905\n"
     ]
    },
    {
     "data": {
      "application/vnd.jupyter.widget-view+json": {
       "model_id": "98a5c706031f4a7a9ae16ef64d361d74",
       "version_major": 2,
       "version_minor": 0
      },
      "text/plain": [
       "HBox(children=(IntProgress(value=0, description='Epoch', max=6), HTML(value='')))"
      ]
     },
     "metadata": {},
     "output_type": "display_data"
    },
    {
     "name": "stdout",
     "output_type": "stream",
     "text": [
      "epoch      trn_loss   val_loss   accuracy                    \n",
      "    0      2.546781   4.384187   0.96      \n",
      "    1      0.400834   0.247547   0.987                       \n",
      "    2      0.289384   0.190569   0.987                       \n",
      "    3      122.88481  238.972684 0.9555                      \n",
      "    4      1550.057503 373.106825 0.9825                        \n",
      "    5      71.116887  37.937221  0.992                         \n",
      "\n",
      "3      \t [3.053 1.262 0.2   2.888 1.912 1.011]. \t  \u001b[92m0.992\u001b[0m \t 0.992 \n"
     ]
    },
    {
     "data": {
      "application/vnd.jupyter.widget-view+json": {
       "model_id": "ae997bb8adec4224b1a18d09bb1a5366",
       "version_major": 2,
       "version_minor": 0
      },
      "text/plain": [
       "HBox(children=(IntProgress(value=0, description='Epoch', max=7), HTML(value='')))"
      ]
     },
     "metadata": {},
     "output_type": "display_data"
    },
    {
     "name": "stdout",
     "output_type": "stream",
     "text": [
      "epoch      trn_loss   val_loss   accuracy                       \n",
      "    0      7412940236982.076 1337296058580.992 0.987     \n",
      "    1      9701537331639.754 4136079154216.96 0.991             \n",
      "    2      8.354187785007866e+29 nan        0.617               \n",
      "    3      nan        nan        0.5                       \n",
      "    4      nan        nan        0.5                       \n",
      "    5      nan        nan        0.5                       \n",
      "    6      nan        nan        0.5                       \n",
      "\n",
      "4      \t [3.07  1.061 0.76  2.805 1.304 1.792]. \t  0.5    \t 0.992 \n"
     ]
    },
    {
     "data": {
      "application/vnd.jupyter.widget-view+json": {
       "model_id": "80ac8faa64924192a72da38afebbdcb4",
       "version_major": 2,
       "version_minor": 0
      },
      "text/plain": [
       "HBox(children=(IntProgress(value=0, description='Epoch', max=3), HTML(value='')))"
      ]
     },
     "metadata": {},
     "output_type": "display_data"
    },
    {
     "name": "stdout",
     "output_type": "stream",
     "text": [
      "epoch      trn_loss   val_loss   accuracy                    \n",
      "    0      0.367011   0.331575   0.9615    \n",
      "    1      0.04376    0.027375   0.99                         \n",
      "    2      0.108217   0.082964   0.9895                       \n",
      "\n",
      "5      \t [1.792 1.122 0.2   1.862 1.618 1.   ]. \t  0.9895 \t 0.992 \n"
     ]
    },
    {
     "data": {
      "application/vnd.jupyter.widget-view+json": {
       "model_id": "4f78b98a1665458f8516ef3ba97a6b78",
       "version_major": 2,
       "version_minor": 0
      },
      "text/plain": [
       "HBox(children=(IntProgress(value=0, description='Epoch', max=2), HTML(value='')))"
      ]
     },
     "metadata": {},
     "output_type": "display_data"
    },
    {
     "name": "stdout",
     "output_type": "stream",
     "text": [
      "epoch      trn_loss   val_loss   accuracy                     \n",
      "    0      0.045962   0.024463   0.989     \n",
      "    1      0.029471   0.02366    0.9895                       \n",
      "\n",
      "6      \t [3.131 0.609 0.2   1.915 1.5   1.   ]. \t  0.9895 \t 0.992 \n"
     ]
    },
    {
     "data": {
      "application/vnd.jupyter.widget-view+json": {
       "model_id": "7256c5ce099747cd91035a0365d34f2c",
       "version_major": 2,
       "version_minor": 0
      },
      "text/plain": [
       "HBox(children=(IntProgress(value=0, description='Epoch', max=2), HTML(value='')))"
      ]
     },
     "metadata": {},
     "output_type": "display_data"
    },
    {
     "name": "stdout",
     "output_type": "stream",
     "text": [
      "epoch      trn_loss   val_loss   accuracy                       \n",
      "    0      1032476.411843 379386.888 0.988     \n",
      "    1      14943.131847 4561.099795 0.9875                      \n",
      "\n",
      "7      \t [2.548 1.637 0.2   1.161 1.907 1.   ]. \t  0.9875 \t 0.992 \n"
     ]
    },
    {
     "data": {
      "application/vnd.jupyter.widget-view+json": {
       "model_id": "65f549975e9c43549ff478a1ed4010f2",
       "version_major": 2,
       "version_minor": 0
      },
      "text/plain": [
       "HBox(children=(IntProgress(value=0, description='Epoch', max=1), HTML(value='')))"
      ]
     },
     "metadata": {},
     "output_type": "display_data"
    },
    {
     "name": "stdout",
     "output_type": "stream",
     "text": [
      "epoch      trn_loss   val_loss   accuracy                     \n",
      "    0      0.049736   0.029297   0.988     \n",
      "\n",
      "8      \t [2.29  0.836 0.2   1.    1.028 1.   ]. \t  0.988  \t 0.992 \n"
     ]
    },
    {
     "data": {
      "application/vnd.jupyter.widget-view+json": {
       "model_id": "3b6c9b94e910453aacc26773c415224e",
       "version_major": 2,
       "version_minor": 0
      },
      "text/plain": [
       "HBox(children=(IntProgress(value=0, description='Epoch', max=1), HTML(value='')))"
      ]
     },
     "metadata": {},
     "output_type": "display_data"
    },
    {
     "name": "stdout",
     "output_type": "stream",
     "text": [
      "epoch      trn_loss   val_loss   accuracy                       \n",
      "    0      4.272907360518219e+21 4.945016071751535e+21 0.5       \n",
      "\n",
      "9      \t [1.934 1.126 0.8   1.    1.72  1.   ]. \t  0.5    \t 0.992 \n"
     ]
    },
    {
     "data": {
      "application/vnd.jupyter.widget-view+json": {
       "model_id": "b56f533dfd4e4a20a39c056701b485f3",
       "version_major": 2,
       "version_minor": 0
      },
      "text/plain": [
       "HBox(children=(IntProgress(value=0, description='Epoch', max=5), HTML(value='')))"
      ]
     },
     "metadata": {},
     "output_type": "display_data"
    },
    {
     "name": "stdout",
     "output_type": "stream",
     "text": [
      "epoch      trn_loss   val_loss   accuracy                     \n",
      "    0      0.044137   0.022254   0.99      \n",
      "    1      0.028635   0.022993   0.991                        \n",
      "    2      0.03646    0.029117   0.9915                       \n",
      "    3      0.036518   0.028984   0.9875                       \n",
      "    4      0.022589   0.027729   0.989                        \n",
      "\n",
      "10     \t [3.703 0.309 0.2   3.42  1.647 1.   ]. \t  0.989  \t 0.992 \n"
     ]
    },
    {
     "data": {
      "application/vnd.jupyter.widget-view+json": {
       "model_id": "d6b2218f4add4c8db8be24d1573679a6",
       "version_major": 2,
       "version_minor": 0
      },
      "text/plain": [
       "HBox(children=(IntProgress(value=0, description='Epoch', max=1), HTML(value='')))"
      ]
     },
     "metadata": {},
     "output_type": "display_data"
    },
    {
     "name": "stdout",
     "output_type": "stream",
     "text": [
      "epoch      trn_loss   val_loss   accuracy                   \n",
      "    0      54.892334  18.825596  0.987     \n",
      "\n",
      "11     \t [3.14  1.747 0.2   1.    1.    1.   ]. \t  0.987  \t 0.992 \n"
     ]
    },
    {
     "data": {
      "application/vnd.jupyter.widget-view+json": {
       "model_id": "1517dae6d6504b0d9e047944ce07d85a",
       "version_major": 2,
       "version_minor": 0
      },
      "text/plain": [
       "HBox(children=(IntProgress(value=0, description='Epoch', max=4), HTML(value='')))"
      ]
     },
     "metadata": {},
     "output_type": "display_data"
    },
    {
     "name": "stdout",
     "output_type": "stream",
     "text": [
      "epoch      trn_loss   val_loss   accuracy                     \n",
      "    0      0.046429   0.023705   0.991     \n",
      "    1      0.038028   0.022887   0.9905                       \n",
      "    2      0.033162   0.023848   0.991                        \n",
      "    3      0.033184   0.024362   0.9895                       \n",
      "\n",
      "12     \t [3.557 0.806 0.2   4.172 1.    1.   ]. \t  0.9895 \t 0.992 \n"
     ]
    },
    {
     "data": {
      "application/vnd.jupyter.widget-view+json": {
       "model_id": "10d7f5ebda7446b1ab5bd96201668b32",
       "version_major": 2,
       "version_minor": 0
      },
      "text/plain": [
       "HBox(children=(IntProgress(value=0, description='Epoch', max=7), HTML(value='')))"
      ]
     },
     "metadata": {},
     "output_type": "display_data"
    },
    {
     "name": "stdout",
     "output_type": "stream",
     "text": [
      "epoch      trn_loss   val_loss   accuracy                   \n",
      "    0      11.775853  2.543108   0.991     \n",
      "    1      0.276165   0.136099   0.9905                      \n",
      "    2      1.351216   0.973635   0.99                        \n",
      "    3      138317.098678 84133.170047 0.9845                    \n",
      "    4      15019.098848 3120.161627 0.9875                      \n",
      "    5      1305.908348 4732.363695 0.9895                       \n",
      "    6      5551.826428 47943.505875 0.818                       \n",
      "\n",
      "13     \t [4.    1.388 0.2   3.925 1.855 1.   ]. \t  0.818  \t 0.992 \n"
     ]
    },
    {
     "data": {
      "application/vnd.jupyter.widget-view+json": {
       "model_id": "72920a9253324c1cad90c04c4dd03020",
       "version_major": 2,
       "version_minor": 0
      },
      "text/plain": [
       "HBox(children=(IntProgress(value=0, description='Epoch', max=7), HTML(value='')))"
      ]
     },
     "metadata": {},
     "output_type": "display_data"
    },
    {
     "name": "stdout",
     "output_type": "stream",
     "text": [
      "epoch      trn_loss   val_loss   accuracy                     \n",
      "    0      0.060655   0.024977   0.991     \n",
      "    1      0.031179   0.022802   0.9905                       \n",
      "    2      0.036223   0.032652   0.99                         \n",
      "    3      0.052106   0.027876   0.991                        \n",
      "    4      0.040451   0.022512   0.9905                       \n",
      "    5      0.023862   0.022691   0.991                        \n",
      "    6      0.031835   0.044605   0.9845                       \n",
      "\n",
      "14     \t [2.784 0.681 0.2   4.112 1.902 1.   ]. \t  0.9845 \t 0.992 \n"
     ]
    },
    {
     "data": {
      "application/vnd.jupyter.widget-view+json": {
       "model_id": "b2b9e5a9cac248f18263290ade1ffca8",
       "version_major": 2,
       "version_minor": 0
      },
      "text/plain": [
       "HBox(children=(IntProgress(value=0, description='Epoch', max=5), HTML(value='')))"
      ]
     },
     "metadata": {},
     "output_type": "display_data"
    },
    {
     "name": "stdout",
     "output_type": "stream",
     "text": [
      "epoch      trn_loss   val_loss   accuracy                       \n",
      "    0      261816681693.4171 58126608318.464 0.9905    \n",
      "    1      65821045962.59374 14484480192.512 0.9875             \n",
      "    2      7.64666974777492e+20 8.506430978756345e+21 0.5       \n",
      "    3      1.3701897021093616e+29 1.646831785377069e+29 0.5       \n",
      "    4      2.4864395958893872e+26 1.1478780467179327e+25 0.5       \n",
      "\n",
      "15     \t [3.336 0.762 0.8   3.722 1.561 1.   ]. \t  0.5    \t 0.992 \n"
     ]
    },
    {
     "data": {
      "application/vnd.jupyter.widget-view+json": {
       "model_id": "9288fe3ebaca4283bb5b31153d30d66a",
       "version_major": 2,
       "version_minor": 0
      },
      "text/plain": [
       "HBox(children=(IntProgress(value=0, description='Epoch', max=2), HTML(value='')))"
      ]
     },
     "metadata": {},
     "output_type": "display_data"
    },
    {
     "name": "stdout",
     "output_type": "stream",
     "text": [
      "epoch      trn_loss   val_loss   accuracy                   \n",
      "    0      46.977363  7.378493   0.9885    \n",
      "    1      24.326101  12.607739  0.99                       \n",
      "\n",
      "16     \t [2.384 1.497 0.2   1.319 1.176 1.868]. \t  0.99   \t 0.992 \n"
     ]
    },
    {
     "data": {
      "application/vnd.jupyter.widget-view+json": {
       "model_id": "62a82f4d8ac649179647e26c17809a08",
       "version_major": 2,
       "version_minor": 0
      },
      "text/plain": [
       "HBox(children=(IntProgress(value=0, description='Epoch', max=4), HTML(value='')))"
      ]
     },
     "metadata": {},
     "output_type": "display_data"
    },
    {
     "name": "stdout",
     "output_type": "stream",
     "text": [
      "epoch      trn_loss   val_loss   accuracy                       \n",
      "    0      23452.720211 7108.47518 0.986     \n",
      "    1      273.320485 133.122762 0.989                          \n",
      "    2      12101.023195 6614.754155 0.992                       \n",
      "    3      1007926603044766.1 5037326433257521.0 0.981          \n",
      "\n",
      "17     \t [3.853 1.651 0.2   1.867 1.714 1.381]. \t  0.981  \t 0.992 \n"
     ]
    },
    {
     "data": {
      "application/vnd.jupyter.widget-view+json": {
       "model_id": "65581b7d054648c09e300ac676226399",
       "version_major": 2,
       "version_minor": 0
      },
      "text/plain": [
       "HBox(children=(IntProgress(value=0, description='Epoch', max=6), HTML(value='')))"
      ]
     },
     "metadata": {},
     "output_type": "display_data"
    },
    {
     "name": "stdout",
     "output_type": "stream",
     "text": [
      "epoch      trn_loss   val_loss   accuracy                     \n",
      "    0      0.052207   0.028308   0.99      \n",
      "    1      0.028068   0.025203   0.99                         \n",
      "    2      0.030532   0.027444   0.9895                       \n",
      "    3      0.023012   0.030966   0.9865                       \n",
      "    4      0.025638   0.027288   0.99                         \n",
      "    5      0.017508   0.024667   0.991                        \n",
      "\n",
      "18     \t [2.171 0.041 0.2   3.076 2.    1.   ]. \t  0.991  \t 0.992 \n"
     ]
    },
    {
     "data": {
      "application/vnd.jupyter.widget-view+json": {
       "model_id": "ef5b70aee00f463697371af5dacda6f9",
       "version_major": 2,
       "version_minor": 0
      },
      "text/plain": [
       "HBox(children=(IntProgress(value=0, description='Epoch', max=5), HTML(value='')))"
      ]
     },
     "metadata": {},
     "output_type": "display_data"
    },
    {
     "name": "stdout",
     "output_type": "stream",
     "text": [
      "epoch      trn_loss   val_loss   accuracy                    \n",
      "    0      0.102605   0.040159   0.985     \n",
      "    1      0.035625   0.025753   0.9895                       \n",
      "    2      0.065407   0.089313   0.988                        \n",
      "    3      0.121032   0.052978   0.983                        \n",
      "    4      0.037966   0.029191   0.9865                       \n",
      "\n",
      "19     \t [1.597 0.98  0.2   3.498 1.703 1.   ]. \t  0.986  \t 0.992 \n"
     ]
    },
    {
     "data": {
      "application/vnd.jupyter.widget-view+json": {
       "model_id": "32cdfa0d4e3b4e1e9c7f92c1911e124b",
       "version_major": 2,
       "version_minor": 0
      },
      "text/plain": [
       "HBox(children=(IntProgress(value=0, description='Epoch', max=4), HTML(value='')))"
      ]
     },
     "metadata": {},
     "output_type": "display_data"
    },
    {
     "name": "stdout",
     "output_type": "stream",
     "text": [
      "epoch      trn_loss   val_loss   accuracy                     \n",
      "    0      0.062559   0.040777   0.9875    \n",
      "    1      0.039858   0.038841   0.988                        \n",
      "    2      0.030849   0.032263   0.9895                       \n",
      "    3      0.025792   0.032848   0.9875                       \n",
      "\n",
      "20     \t [1.975 0.036 0.2   4.103 1.191 1.   ]. \t  0.9875 \t 0.992 \n"
     ]
    },
    {
     "data": {
      "application/vnd.jupyter.widget-view+json": {
       "model_id": "6506ca457c844961b7ecffc250290276",
       "version_major": 2,
       "version_minor": 0
      },
      "text/plain": [
       "HBox(children=(IntProgress(value=0, description='Epoch', max=19), HTML(value='')))"
      ]
     },
     "metadata": {},
     "output_type": "display_data"
    },
    {
     "name": "stdout",
     "output_type": "stream",
     "text": [
      "epoch      trn_loss   val_loss   accuracy                     \n",
      "    0      0.04204    0.019898   0.991     \n",
      "    1      0.027768   0.021204   0.9905                       \n",
      "    2      0.038469   0.031355   0.9915                       \n",
      "    3      0.038593   0.030335   0.984                        \n",
      "    4      0.025622   0.028043   0.987                        \n",
      "    5      0.019727   0.035771   0.987                        \n",
      "    6      0.032181   0.024638   0.992                        \n",
      "    7      0.018537   0.029429   0.992                        \n",
      "    8      0.012126   0.033371   0.99                          \n",
      "    9      0.02405    0.041403   0.9875                       \n",
      "    10     0.018435   0.028827   0.99                         \n",
      "    11     0.009384   0.030492   0.9905                        \n",
      "    12     0.033854   0.039397   0.99                          \n",
      "    13     0.01951    0.039169   0.9885                       \n",
      "    14     0.008617   0.036286   0.9905                        \n",
      "    15     0.008122   0.034577   0.9895                        \n",
      "    16     0.022921   0.050444   0.9885                       \n",
      "    17     0.013293   0.038763   0.988                         \n",
      "    18     0.011291   0.039636   0.9885                        \n",
      "\n",
      "21     \t [2.031 0.367 0.2   3.73  1.65  1.907]. \t  0.9885 \t 0.992 \n"
     ]
    },
    {
     "data": {
      "application/vnd.jupyter.widget-view+json": {
       "model_id": "cd0c4a7ee5484a599af46717ab381a75",
       "version_major": 2,
       "version_minor": 0
      },
      "text/plain": [
       "HBox(children=(IntProgress(value=0, description='Epoch', max=5), HTML(value='')))"
      ]
     },
     "metadata": {},
     "output_type": "display_data"
    },
    {
     "name": "stdout",
     "output_type": "stream",
     "text": [
      "epoch      trn_loss   val_loss   accuracy                     \n",
      "    0      0.052657   0.036324   0.988     \n",
      "    1      0.040098   0.035033   0.9885                       \n",
      "    2      0.029456   0.025971   0.99                         \n",
      "    3      0.026271   0.029669   0.987                        \n",
      "    4      0.031153   0.027581   0.9885                       \n",
      "\n",
      "22     \t [1.372 0.181 0.2   2.884 1.099 1.437]. \t  0.9885 \t 0.992 \n"
     ]
    },
    {
     "data": {
      "application/vnd.jupyter.widget-view+json": {
       "model_id": "81470b47328c45c984c3cb436e67d788",
       "version_major": 2,
       "version_minor": 0
      },
      "text/plain": [
       "HBox(children=(IntProgress(value=0, description='Epoch', max=12), HTML(value='')))"
      ]
     },
     "metadata": {},
     "output_type": "display_data"
    },
    {
     "name": "stdout",
     "output_type": "stream",
     "text": [
      "epoch      trn_loss   val_loss   accuracy                    \n",
      "    0      0.967288   0.905673   0.407     \n",
      "    1      0.970159   0.90846    0.405                       \n",
      "    2      0.971312   0.917766   0.4025                      \n",
      "    3      0.986646   0.900704   0.417                       \n",
      "    4      0.969191   0.897326   0.41                        \n",
      "    5      0.963704   0.921334   0.4                         \n",
      "    6      0.975014   0.908658   0.41                        \n",
      "    7      0.961216   0.902947   0.4075                      \n",
      "    8      0.970481   0.899338   0.4125                      \n",
      "    9      0.974418   0.898525   0.411                       \n",
      "    10     0.968985   0.909225   0.4055                      \n",
      "    11     0.983924   0.907024   0.4085                      \n",
      "\n",
      "23     \t [1.076 0.    0.2   3.771 1.992 1.346]. \t  0.4085 \t 0.992 \n"
     ]
    },
    {
     "data": {
      "application/vnd.jupyter.widget-view+json": {
       "model_id": "935e1dff0ac6421397e980010db3d945",
       "version_major": 2,
       "version_minor": 0
      },
      "text/plain": [
       "HBox(children=(IntProgress(value=0, description='Epoch', max=5), HTML(value='')))"
      ]
     },
     "metadata": {},
     "output_type": "display_data"
    },
    {
     "name": "stdout",
     "output_type": "stream",
     "text": [
      "epoch      trn_loss   val_loss   accuracy                    \n",
      "    0      0.401639   0.062959   0.989     \n",
      "    1      1.761706   0.675557   0.991                       \n",
      "    2      0.054353   0.030671   0.99                         \n",
      "    3      0.144887   0.055904   0.991                        \n",
      "    4      778696.357287 1309982.101906 0.9745                  \n",
      "\n",
      "24     \t [1.515 1.373 0.2   2.701 1.    1.801]. \t  0.9745 \t 0.992 \n"
     ]
    },
    {
     "data": {
      "application/vnd.jupyter.widget-view+json": {
       "model_id": "f457bfb8f79f423cabc34666b933c8c7",
       "version_major": 2,
       "version_minor": 0
      },
      "text/plain": [
       "HBox(children=(IntProgress(value=0, description='Epoch', max=9), HTML(value='')))"
      ]
     },
     "metadata": {},
     "output_type": "display_data"
    },
    {
     "name": "stdout",
     "output_type": "stream",
     "text": [
      "epoch      trn_loss   val_loss   accuracy                     \n",
      "    0      0.044925   0.023473   0.99      \n",
      "    1      0.030168   0.02418    0.99                         \n",
      "    2      0.043079   0.02928    0.99                         \n",
      "    3      0.053949   0.03046    0.9885                       \n",
      "    4      0.032803   0.023614   0.9895                       \n",
      "    5      0.021124   0.022242   0.9915                       \n",
      "    6      0.028334   0.05009    0.985                        \n",
      "    7      0.040067   0.026412   0.99                         \n",
      "    8      0.020261   0.025543   0.99                         \n",
      "\n",
      "25     \t [1.89  0.652 0.2   2.455 1.853 1.984]. \t  0.99   \t 0.992 \n"
     ]
    },
    {
     "data": {
      "application/vnd.jupyter.widget-view+json": {
       "model_id": "13bb1729012d49bea853a3fbc4b805c9",
       "version_major": 2,
       "version_minor": 0
      },
      "text/plain": [
       "HBox(children=(IntProgress(value=0, description='Epoch', max=11), HTML(value='')))"
      ]
     },
     "metadata": {},
     "output_type": "display_data"
    },
    {
     "name": "stdout",
     "output_type": "stream",
     "text": [
      "epoch      trn_loss   val_loss   accuracy                    \n",
      "    0      0.106225   0.119383   0.984     \n",
      "    1      0.396012   0.064036   0.989                       \n",
      "    2      0.049921   0.228122   0.986                        \n",
      "    3      0.155001   0.165101   0.9805                       \n",
      "    4      0.046858   0.925969   0.9915                       \n",
      "    5      0.028986   0.02315    0.992                        \n",
      "    6      0.049599   0.183661   0.9575                       \n",
      "    7      0.04462    0.028412   0.9915                       \n",
      "    8      0.030104   0.029185   0.9895                       \n",
      "    9      0.035896   0.029898   0.9915                       \n",
      "    10     0.048727   0.025277   0.9895                       \n",
      "\n",
      "26     \t [2.044 1.051 0.2   4.425 1.    1.517]. \t  0.9895 \t 0.992 \n"
     ]
    },
    {
     "data": {
      "application/vnd.jupyter.widget-view+json": {
       "model_id": "c46a528ea7cc45d58c9293bd53c52f5a",
       "version_major": 2,
       "version_minor": 0
      },
      "text/plain": [
       "HBox(children=(IntProgress(value=0, description='Epoch', max=2), HTML(value='')))"
      ]
     },
     "metadata": {},
     "output_type": "display_data"
    },
    {
     "name": "stdout",
     "output_type": "stream",
     "text": [
      "epoch      trn_loss   val_loss   accuracy                     \n",
      "    0      0.0415     0.027619   0.989     \n",
      "    1      0.039212   0.028316   0.989                        \n",
      "\n",
      "27     \t [1.255 0.732 0.2   1.611 1.    1.849]. \t  0.989  \t 0.992 \n"
     ]
    },
    {
     "data": {
      "application/vnd.jupyter.widget-view+json": {
       "model_id": "40ec38254783455ba345d7b1ab906a47",
       "version_major": 2,
       "version_minor": 0
      },
      "text/plain": [
       "HBox(children=(IntProgress(value=0, description='Epoch', max=3), HTML(value='')))"
      ]
     },
     "metadata": {},
     "output_type": "display_data"
    },
    {
     "name": "stdout",
     "output_type": "stream",
     "text": [
      "epoch      trn_loss   val_loss   accuracy                     \n",
      "    0      0.078992   0.046135   0.9895    \n",
      "    1      0.040284   0.03846    0.9915                       \n",
      "    2      0.024295   0.034144   0.991                        \n",
      "\n",
      "28     \t [2.179 0.047 0.2   1.976 1.    1.797]. \t  0.991  \t 0.992 \n"
     ]
    },
    {
     "data": {
      "application/vnd.jupyter.widget-view+json": {
       "model_id": "0d66a1f623fa416ebf17281b54d19907",
       "version_major": 2,
       "version_minor": 0
      },
      "text/plain": [
       "HBox(children=(IntProgress(value=0, description='Epoch', max=16), HTML(value='')))"
      ]
     },
     "metadata": {},
     "output_type": "display_data"
    },
    {
     "name": "stdout",
     "output_type": "stream",
     "text": [
      "epoch      trn_loss   val_loss   accuracy                     \n",
      "    0      0.049557   0.035646   0.988     \n",
      "    1      0.04415    0.029471   0.9895                       \n",
      "    2      0.037508   0.027539   0.99                         \n",
      "    3      0.038871   0.027855   0.9895                       \n",
      "    4      0.03905    0.027814   0.9905                       \n",
      "    5      0.033033   0.025503   0.9905                       \n",
      "    6      0.034184   0.02583    0.9905                       \n",
      "    7      0.033398   0.026481   0.989                        \n",
      "    8      0.031741   0.026502   0.9885                       \n",
      "    9      0.026671   0.028259   0.987                        \n",
      "    10     0.033688   0.026162   0.9895                       \n",
      "    11     0.027733   0.026317   0.99                         \n",
      "    12     0.032446   0.02964    0.989                        \n",
      "    13     0.030315   0.02743    0.9885                       \n",
      "    14     0.029334   0.027717   0.989                        \n",
      "    15     0.026524   0.026053   0.99                         \n",
      "\n",
      "29     \t [2.953 0.003 0.2   4.497 1.045 1.754]. \t  0.99   \t 0.992 \n"
     ]
    },
    {
     "data": {
      "application/vnd.jupyter.widget-view+json": {
       "model_id": "f795d8fbd0394fc7aa659b0707dd7d8b",
       "version_major": 2,
       "version_minor": 0
      },
      "text/plain": [
       "HBox(children=(IntProgress(value=0, description='Epoch', max=16), HTML(value='')))"
      ]
     },
     "metadata": {},
     "output_type": "display_data"
    },
    {
     "name": "stdout",
     "output_type": "stream",
     "text": [
      "epoch      trn_loss   val_loss   accuracy                     \n",
      "    0      0.047481   0.027365   0.99      \n",
      "    1      0.046631   0.031338   0.989                        \n",
      "    2      0.050073   0.033145   0.9905                       \n",
      "    3      0.03334    0.026065   0.989                        \n",
      "    4      0.050322   0.029125   0.99                         \n",
      "    5      0.027286   0.02326    0.9905                       \n",
      "    6      0.035618   0.059511   0.9835                       \n",
      "    7      0.036168   0.024394   0.99                         \n",
      "    8      0.022861   0.033681   0.986                        \n",
      "    9      0.033632   0.032357   0.9875                       \n",
      "    10     0.028488   0.025755   0.9895                       \n",
      "    11     0.034356   0.033297   0.99                         \n",
      "    12     0.027503   0.028192   0.9885                       \n",
      "    13     0.0277     0.03599    0.987                        \n",
      "    14     0.028937   0.026287   0.989                        \n",
      "    15     0.017852   0.025324   0.9895                       \n",
      "\n",
      "30     \t [4.    0.727 0.2   3.834 1.186 1.982]. \t  0.9895 \t 0.992 \n",
      "------------------------------------ Entropy -----------------------------------\n",
      "Evaluation \t Proposed point \t  Current eval. \t Best eval.\n"
     ]
    },
    {
     "data": {
      "application/vnd.jupyter.widget-view+json": {
       "model_id": "a0494e47c8594c0e9e860609f273222e",
       "version_major": 2,
       "version_minor": 0
      },
      "text/plain": [
       "HBox(children=(IntProgress(value=0, description='Epoch', max=3), HTML(value='')))"
      ]
     },
     "metadata": {},
     "output_type": "display_data"
    },
    {
     "name": "stdout",
     "output_type": "stream",
     "text": [
      "epoch      trn_loss   val_loss   accuracy                   \n",
      "    0      65.228875  17.41553   0.9875    \n",
      "    1      216.876787 47.826204  0.989                          \n",
      "    2      4797.908625 1465.680239 0.989                        \n",
      "\n",
      "                                             \r"
     ]
    },
    {
     "data": {
      "application/vnd.jupyter.widget-view+json": {
       "model_id": "5cbf78a61c744dd29558ea02594a2334",
       "version_major": 2,
       "version_minor": 0
      },
      "text/plain": [
       "HBox(children=(IntProgress(value=0, description='Epoch', max=4), HTML(value='')))"
      ]
     },
     "metadata": {},
     "output_type": "display_data"
    },
    {
     "name": "stdout",
     "output_type": "stream",
     "text": [
      "epoch      trn_loss   val_loss   accuracy                       \n",
      "    0      1.1117259720807173e+22 3.94646393365811e+19 0.5       \n",
      "    1      nan        nan        0.5                            \n",
      "    2      nan        nan        0.5                       \n",
      "    3      nan        nan        0.5                       \n",
      "\n",
      "                                             \r"
     ]
    },
    {
     "data": {
      "application/vnd.jupyter.widget-view+json": {
       "model_id": "409c9b317bdb444392a1918aeaa01beb",
       "version_major": 2,
       "version_minor": 0
      },
      "text/plain": [
       "HBox(children=(IntProgress(value=0, description='Epoch', max=1), HTML(value='')))"
      ]
     },
     "metadata": {},
     "output_type": "display_data"
    },
    {
     "name": "stdout",
     "output_type": "stream",
     "text": [
      "epoch      trn_loss   val_loss   accuracy                       \n",
      "    0      79922.677256 19526.1285 0.9835    \n",
      "\n",
      "init   \t [3.751 1.177 0.359 3.    1.    1.   ]. \t   0.989 \t  0.989\n",
      "init   \t [2.798 1.832 0.773 4.    1.    1.   ]. \t     0.5 \t  0.989\n",
      "init   \t [1.781 1.824 0.356 1.    1.    1.   ]. \t  0.9835 \t  0.989\n"
     ]
    },
    {
     "data": {
      "application/vnd.jupyter.widget-view+json": {
       "model_id": "c9cb2d94e1004095935950f29040584a",
       "version_major": 2,
       "version_minor": 0
      },
      "text/plain": [
       "HBox(children=(IntProgress(value=0, description='Epoch', max=5), HTML(value='')))"
      ]
     },
     "metadata": {},
     "output_type": "display_data"
    },
    {
     "name": "stdout",
     "output_type": "stream",
     "text": [
      "epoch      trn_loss   val_loss   accuracy                    \n",
      "    0      0.967278   0.905673   0.407     \n",
      "    1      0.970159   0.90846    0.405                       \n",
      "    2      0.971312   0.917766   0.4025                      \n",
      "    3      0.986646   0.90104    0.417                       \n",
      "    4      0.969191   0.897326   0.41                        \n",
      "\n",
      "1      \t [1.  0.  0.2 5.  1.  1. ]. \t  0.41   \t 0.989 \n"
     ]
    },
    {
     "data": {
      "application/vnd.jupyter.widget-view+json": {
       "model_id": "4607e253e7a74eceb0ec9aefeaa8d43e",
       "version_major": 2,
       "version_minor": 0
      },
      "text/plain": [
       "HBox(children=(IntProgress(value=0, description='Epoch', max=2), HTML(value='')))"
      ]
     },
     "metadata": {},
     "output_type": "display_data"
    },
    {
     "name": "stdout",
     "output_type": "stream",
     "text": [
      "epoch      trn_loss   val_loss   accuracy                   \n",
      "    0      1.278051   0.776229   0.4025    \n",
      "    1      1.293085   0.777736   0.4035                     \n",
      "\n",
      "2      \t [1.   0.   0.8  2.45 1.   1.  ]. \t  0.4035 \t 0.989 \n"
     ]
    },
    {
     "data": {
      "application/vnd.jupyter.widget-view+json": {
       "model_id": "6f0ef3cc6f2248e4b45ea1b85ed27707",
       "version_major": 2,
       "version_minor": 0
      },
      "text/plain": [
       "HBox(children=(IntProgress(value=0, description='Epoch', max=1), HTML(value='')))"
      ]
     },
     "metadata": {},
     "output_type": "display_data"
    },
    {
     "name": "stdout",
     "output_type": "stream",
     "text": [
      "epoch      trn_loss   val_loss   accuracy                   \n",
      "    0      1.278049   0.776229   0.4025    \n",
      "\n",
      "3      \t [4.  0.  0.8 1.  1.  1. ]. \t  0.4025 \t 0.989 \n"
     ]
    },
    {
     "data": {
      "application/vnd.jupyter.widget-view+json": {
       "model_id": "f95584dcd9014f29b3901e5cb2244479",
       "version_major": 2,
       "version_minor": 0
      },
      "text/plain": [
       "HBox(children=(IntProgress(value=0, description='Epoch', max=6), HTML(value='')))"
      ]
     },
     "metadata": {},
     "output_type": "display_data"
    },
    {
     "name": "stdout",
     "output_type": "stream",
     "text": [
      "epoch      trn_loss   val_loss   accuracy                    \n",
      "    0      0.967278   0.905673   0.407     \n",
      "    1      0.970159   0.90846    0.405                       \n",
      "    2      0.971218   0.917769   0.4025                      \n",
      "    3      0.986645   0.90104    0.417                       \n",
      "    4      0.969187   0.897326   0.41                        \n",
      "    5      0.963864   0.921319   0.4                         \n",
      "\n",
      "4      \t [4.    0.    0.2   5.    1.002 1.002]. \t  0.4    \t 0.989 \n"
     ]
    },
    {
     "data": {
      "application/vnd.jupyter.widget-view+json": {
       "model_id": "5f610c7033014025869dedf060e80899",
       "version_major": 2,
       "version_minor": 0
      },
      "text/plain": [
       "HBox(children=(IntProgress(value=0, description='Epoch', max=17), HTML(value='')))"
      ]
     },
     "metadata": {},
     "output_type": "display_data"
    },
    {
     "name": "stdout",
     "output_type": "stream",
     "text": [
      "epoch      trn_loss   val_loss   accuracy                       \n",
      "    0      8085881901.01913 7477071392.768 0.975     \n",
      "    1      137899797.528114 27222899.408 0.99                   \n",
      "    2      nan        nan        0.5                            \n",
      "    3      nan        nan        0.5                       \n",
      "    4      nan        nan        0.5                       \n",
      "    5      nan        nan        0.5                       \n",
      "    6      nan        nan        0.5                       \n",
      "    7      nan        nan        0.5                       \n",
      "    8      nan        nan        0.5                       \n",
      "    9      nan        nan        0.5                       \n",
      "    10     nan        nan        0.5                       \n",
      "    11     nan        nan        0.5                       \n",
      "    12     nan        nan        0.5                       \n",
      "    13     nan        nan        0.5                       \n",
      "    14     nan        nan        0.5                       \n",
      "    15     nan        nan        0.5                       \n",
      "    16     nan        nan        0.5                       \n",
      "\n",
      "5      \t [1.    2.    0.2   3.207 2.    2.   ]. \t  0.5    \t 0.989 \n"
     ]
    },
    {
     "data": {
      "application/vnd.jupyter.widget-view+json": {
       "model_id": "0205542de76244eb95d10e7d86e835ab",
       "version_major": 2,
       "version_minor": 0
      },
      "text/plain": [
       "HBox(children=(IntProgress(value=0, description='Epoch', max=2), HTML(value='')))"
      ]
     },
     "metadata": {},
     "output_type": "display_data"
    },
    {
     "name": "stdout",
     "output_type": "stream",
     "text": [
      "epoch      trn_loss   val_loss   accuracy                       \n",
      "    0      7323659567.321522 10348703522.816 0.968     \n",
      "    1      164173005.35745 22711022.32 0.9905                   \n",
      "\n",
      "6      \t [4.  2.  0.2 1.  2.  2. ]. \t  \u001b[92m0.9905\u001b[0m \t 0.9905\n"
     ]
    },
    {
     "data": {
      "application/vnd.jupyter.widget-view+json": {
       "model_id": "39b21c2d7fce489ca85fb2d24592f52c",
       "version_major": 2,
       "version_minor": 0
      },
      "text/plain": [
       "HBox(children=(IntProgress(value=0, description='Epoch', max=2), HTML(value='')))"
      ]
     },
     "metadata": {},
     "output_type": "display_data"
    },
    {
     "name": "stdout",
     "output_type": "stream",
     "text": [
      "epoch      trn_loss   val_loss   accuracy                    \n",
      "    0      0.967278   0.905673   0.407     \n",
      "    1      0.970159   0.90846    0.405                       \n",
      "\n",
      "7      \t [2.071 0.    0.2   1.    2.    2.   ]. \t  0.405  \t 0.9905\n"
     ]
    },
    {
     "data": {
      "application/vnd.jupyter.widget-view+json": {
       "model_id": "725278287fe14d9195fdb107555253bc",
       "version_major": 2,
       "version_minor": 0
      },
      "text/plain": [
       "HBox(children=(IntProgress(value=0, description='Epoch', max=62), HTML(value='')))"
      ]
     },
     "metadata": {},
     "output_type": "display_data"
    },
    {
     "name": "stdout",
     "output_type": "stream",
     "text": [
      "epoch      trn_loss   val_loss   accuracy                       \n",
      "    0      61463193788.676254 129823453478.912 0.9625    \n",
      "    1      3059376713.415524 866872004.608 0.992                \n",
      "    2      1.0372784269167312e+27 7.143285440800522e+26 0.5       \n",
      "    3      nan        nan        0.5                            \n",
      "    4      nan        nan        0.5                       \n",
      "    5      nan        nan        0.5                       \n",
      "    6      nan        nan        0.5                       \n",
      "    7      nan        nan        0.5                       \n",
      "    8      nan        nan        0.5                       \n",
      "    9      nan        nan        0.5                       \n",
      "    10     nan        nan        0.5                       \n",
      "    11     nan        nan        0.5                       \n",
      "    12     nan        nan        0.5                       \n",
      "    13     nan        nan        0.5                       \n",
      "    14     nan        nan        0.5                       \n",
      "    15     nan        nan        0.5                       \n",
      "    16     nan        nan        0.5                       \n",
      "    17     nan        nan        0.5                       \n",
      "    18     nan        nan        0.5                       \n",
      "    19     nan        nan        0.5                       \n",
      "    20     nan        nan        0.5                       \n",
      "    21     nan        nan        0.5                       \n",
      "    22     nan        nan        0.5                       \n",
      "    23     nan        nan        0.5                       \n",
      "    24     nan        nan        0.5                       \n",
      "    25     nan        nan        0.5                       \n",
      "    26     nan        nan        0.5                       \n",
      "    27     nan        nan        0.5                       \n",
      "    28     nan        nan        0.5                       \n",
      "    29     nan        nan        0.5                       \n",
      "    30     nan        nan        0.5                       \n",
      "    31     nan        nan        0.5                       \n",
      "    32     nan        nan        0.5                       \n",
      "    33     nan        nan        0.5                       \n",
      "    34     nan        nan        0.5                       \n",
      "    35     nan        nan        0.5                       \n",
      "    36     nan        nan        0.5                       \n",
      "    37     nan        nan        0.5                       \n",
      "    38     nan        nan        0.5                       \n",
      "    39     nan        nan        0.5                       \n",
      "    40     nan        nan        0.5                       \n",
      "    41     nan        nan        0.5                       \n",
      "    42     nan        nan        0.5                       \n",
      "    43     nan        nan        0.5                       \n",
      "    44     nan        nan        0.5                       \n",
      "    45     nan        nan        0.5                       \n",
      "    46     nan        nan        0.5                       \n",
      "    47     nan        nan        0.5                       \n",
      "    48     nan        nan        0.5                       \n",
      "    49     nan        nan        0.5                       \n",
      "    50     nan        nan        0.5                       \n",
      "    51     nan        nan        0.5                       \n",
      "    52     nan        nan        0.5                       \n",
      "    53     nan        nan        0.5                       \n",
      "    54     nan        nan        0.5                       \n",
      "    55     nan        nan        0.5                       \n",
      "    56     nan        nan        0.5                       \n",
      "    57     nan        nan        0.5                       \n",
      "    58     nan        nan        0.5                       \n",
      "    59     nan        nan        0.5                       \n",
      "    60     nan        nan        0.5                       \n",
      "    61     nan        nan        0.5                       \n",
      "\n",
      "8      \t [4.  2.  0.2 5.  2.  2. ]. \t  0.5    \t 0.9905\n"
     ]
    },
    {
     "data": {
      "application/vnd.jupyter.widget-view+json": {
       "model_id": "9f7a16a699bd4ded9f7812ea0e62cfa7",
       "version_major": 2,
       "version_minor": 0
      },
      "text/plain": [
       "HBox(children=(IntProgress(value=0, description='Epoch', max=26), HTML(value='')))"
      ]
     },
     "metadata": {},
     "output_type": "display_data"
    },
    {
     "name": "stdout",
     "output_type": "stream",
     "text": [
      "epoch      trn_loss   val_loss   accuracy                   \n",
      "    0      1.278049   0.776229   0.4025    \n",
      "    1      1.293085   0.777736   0.4035                     \n",
      "    2      1.295165   0.787252   0.3905                     \n",
      "    3      1.295183   0.777215   0.4025                     \n",
      "    4      1.280628   0.775535   0.41                       \n",
      "    5      1.283497   0.785907   0.391                      \n",
      "    6      1.258498   0.783171   0.3995                     \n",
      "    7      1.284891   0.771622   0.4095                     \n",
      "    8      1.300317   0.775095   0.4065                     \n",
      "    9      1.269569   0.781454   0.408                      \n",
      "    10     1.275154   0.777401   0.397                      \n",
      "    11     1.273854   0.778487   0.3955                     \n",
      "    12     1.290126   0.775644   0.4                        \n",
      "    13     1.291374   0.781212   0.4045                     \n",
      "    14     1.257173   0.780501   0.4035                     \n",
      "    15     1.266141   0.778811   0.4035                     \n",
      "    16     1.306458   0.776257   0.3985                     \n",
      "    17     1.284156   0.776889   0.401                      \n",
      "    18     1.254645   0.779256   0.397                      \n",
      "    19     1.304432   0.782946   0.3915                     \n",
      "    20     1.290221   0.781289   0.391                      \n",
      "    21     1.259283   0.783088   0.398                      \n",
      "    22     1.27577    0.776319   0.408                      \n",
      "    23     1.261398   0.778971   0.4025                     \n",
      "    24     1.263892   0.782861   0.396                      \n",
      "    25     1.285498   0.781862   0.3935                     \n",
      "\n",
      "9      \t [2.537 0.    0.8   3.759 2.    2.   ]. \t  0.3935 \t 0.9905\n"
     ]
    },
    {
     "data": {
      "application/vnd.jupyter.widget-view+json": {
       "model_id": "4f2f259330574ca0b9fc99cd22fb4136",
       "version_major": 2,
       "version_minor": 0
      },
      "text/plain": [
       "HBox(children=(IntProgress(value=0, description='Epoch', max=5), HTML(value='')))"
      ]
     },
     "metadata": {},
     "output_type": "display_data"
    },
    {
     "name": "stdout",
     "output_type": "stream",
     "text": [
      "epoch      trn_loss   val_loss   accuracy                       \n",
      "    0      2.3163327889162776e+27 7.82470300769797e+24 0.5       \n",
      "    1      nan        nan        0.5                           \n",
      "    2      nan        nan        0.5                       \n",
      "    3      nan        nan        0.5                       \n",
      "    4      nan        nan        0.5                       \n",
      "\n",
      "10     \t [1.  2.  0.8 5.  1.  1. ]. \t  0.5    \t 0.9905\n"
     ]
    },
    {
     "data": {
      "application/vnd.jupyter.widget-view+json": {
       "model_id": "2ecb1cdac8c64812ba9a3ec6af5449d5",
       "version_major": 2,
       "version_minor": 0
      },
      "text/plain": [
       "HBox(children=(IntProgress(value=0, description='Epoch', max=2), HTML(value='')))"
      ]
     },
     "metadata": {},
     "output_type": "display_data"
    },
    {
     "name": "stdout",
     "output_type": "stream",
     "text": [
      "epoch      trn_loss   val_loss   accuracy                       \n",
      "    0      2.3163327889162776e+27 7.82470300769797e+24 0.5       \n",
      "    1      nan        nan        0.5                           \n",
      "\n",
      "11     \t [1.    2.    0.8   2.632 1.    1.   ]. \t  0.5    \t 0.9905\n"
     ]
    },
    {
     "data": {
      "application/vnd.jupyter.widget-view+json": {
       "model_id": "ff302501752b47ea953ab6ba9bc48f76",
       "version_major": 2,
       "version_minor": 0
      },
      "text/plain": [
       "HBox(children=(IntProgress(value=0, description='Epoch', max=2), HTML(value='')))"
      ]
     },
     "metadata": {},
     "output_type": "display_data"
    },
    {
     "name": "stdout",
     "output_type": "stream",
     "text": [
      "epoch      trn_loss   val_loss   accuracy                       \n",
      "    0      nan        nan        0.5       \n",
      "    1      nan        nan        0.5                       \n",
      "\n",
      "12     \t [1.  2.  0.8 1.  2.  2. ]. \t  0.5    \t 0.9905\n"
     ]
    },
    {
     "data": {
      "application/vnd.jupyter.widget-view+json": {
       "model_id": "52f0ab9354df49b4835583b2f22be939",
       "version_major": 2,
       "version_minor": 0
      },
      "text/plain": [
       "HBox(children=(IntProgress(value=0, description='Epoch', max=1), HTML(value='')))"
      ]
     },
     "metadata": {},
     "output_type": "display_data"
    },
    {
     "name": "stdout",
     "output_type": "stream",
     "text": [
      "epoch      trn_loss   val_loss   accuracy                       \n",
      "    0      2.3163327889162776e+27 7.82470300769797e+24 0.5       \n",
      "\n",
      "13     \t [4.  2.  0.8 1.  1.  1. ]. \t  0.5    \t 0.9905\n"
     ]
    },
    {
     "data": {
      "application/vnd.jupyter.widget-view+json": {
       "model_id": "23709234edff4786874d02e48025736b",
       "version_major": 2,
       "version_minor": 0
      },
      "text/plain": [
       "HBox(children=(IntProgress(value=0, description='Epoch', max=10), HTML(value='')))"
      ]
     },
     "metadata": {},
     "output_type": "display_data"
    },
    {
     "name": "stdout",
     "output_type": "stream",
     "text": [
      "epoch      trn_loss   val_loss   accuracy                       \n",
      "    0      nan        nan        0.5       \n",
      "    1      nan        nan        0.5                       \n",
      "    2      nan        nan        0.5                       \n",
      "    3      nan        nan        0.5                       \n",
      "    4      nan        nan        0.5                       \n",
      "    5      nan        nan        0.5                       \n",
      "    6      nan        nan        0.5                       \n",
      "    7      nan        nan        0.5                       \n",
      "    8      nan        nan        0.5                       \n",
      "    9      nan        nan        0.5                       \n",
      "\n",
      "14     \t [2.836 2.    0.8   2.509 2.    2.   ]. \t  0.5    \t 0.9905\n"
     ]
    },
    {
     "data": {
      "application/vnd.jupyter.widget-view+json": {
       "model_id": "5f64057430e94f0099e940748bd9cd0c",
       "version_major": 2,
       "version_minor": 0
      },
      "text/plain": [
       "HBox(children=(IntProgress(value=0, description='Epoch', max=2), HTML(value='')))"
      ]
     },
     "metadata": {},
     "output_type": "display_data"
    },
    {
     "name": "stdout",
     "output_type": "stream",
     "text": [
      "epoch      trn_loss   val_loss   accuracy                    \n",
      "    0      0.967278   0.905673   0.407     \n",
      "    1      0.970159   0.90846    0.405                       \n",
      "\n",
      "15     \t [2.679 0.    0.2   2.28  1.    1.   ]. \t  0.405  \t 0.9905\n"
     ]
    },
    {
     "data": {
      "application/vnd.jupyter.widget-view+json": {
       "model_id": "67644c9372a9431994ac13ff05df4b35",
       "version_major": 2,
       "version_minor": 0
      },
      "text/plain": [
       "HBox(children=(IntProgress(value=0, description='Epoch', max=2), HTML(value='')))"
      ]
     },
     "metadata": {},
     "output_type": "display_data"
    },
    {
     "name": "stdout",
     "output_type": "stream",
     "text": [
      "epoch      trn_loss   val_loss   accuracy                    \n",
      "    0      0.967278   0.905673   0.407     \n",
      "    1      0.97016    0.90846    0.405                       \n",
      "\n",
      "16     \t [4.  0.  0.2 1.  2.  2. ]. \t  0.405  \t 0.9905\n"
     ]
    },
    {
     "data": {
      "application/vnd.jupyter.widget-view+json": {
       "model_id": "10853a2f0b514418aca5d14eb9ef0328",
       "version_major": 2,
       "version_minor": 0
      },
      "text/plain": [
       "HBox(children=(IntProgress(value=0, description='Epoch', max=62), HTML(value='')))"
      ]
     },
     "metadata": {},
     "output_type": "display_data"
    },
    {
     "name": "stdout",
     "output_type": "stream",
     "text": [
      "epoch      trn_loss   val_loss   accuracy                   \n",
      "    0      1.278049   0.776229   0.4025    \n",
      "    1      1.293085   0.777736   0.4035                     \n",
      "    2      1.295204   0.787252   0.3905                     \n",
      "    3      1.295195   0.777215   0.4025                     \n",
      "    4      1.280628   0.775535   0.41                       \n",
      "    5      1.283497   0.785792   0.391                      \n",
      "    6      1.258498   0.783171   0.3995                     \n",
      "    7      1.28479    0.771622   0.4095                     \n",
      "    8      1.300035   0.775093   0.4065                     \n",
      "    9      1.269693   0.781454   0.408                      \n",
      "    10     1.275127   0.777402   0.397                      \n",
      "    11     1.273854   0.778487   0.3955                     \n",
      "    12     1.290126   0.775644   0.4                        \n",
      "    13     1.291883   0.781211   0.4045                     \n",
      "    14     1.257173   0.780501   0.4035                     \n",
      "    15     1.266294   0.778811   0.4035                     \n",
      "    16     1.306459   0.776257   0.3985                     \n",
      "    17     1.284157   0.776889   0.401                      \n",
      "    18     1.254643   0.779306   0.397                      \n",
      "    19     1.304432   0.782946   0.3915                     \n",
      "    20     1.290221   0.781114   0.3915                     \n",
      "    21     1.259266   0.783088   0.398                      \n",
      "    22     1.275978   0.776319   0.408                      \n",
      "    23     1.261456   0.778971   0.4025                     \n",
      "    24     1.264101   0.782861   0.396                      \n",
      "    25     1.285498   0.781862   0.3935                     \n",
      "    26     1.273029   0.774943   0.413                      \n",
      "    27     1.2689     0.778427   0.4035                     \n",
      "    28     1.306386   0.777532   0.4005                     \n",
      "    29     1.305117   0.788133   0.39                       \n",
      "    30     1.311255   0.78191    0.403                      \n",
      "    31     1.289714   0.784322   0.39                       \n",
      "    32     1.308116   0.779323   0.4015                     \n",
      "    33     1.29642    0.778343   0.407                      \n",
      "    34     1.281478   0.781959   0.3965                     \n",
      "    35     1.306751   0.780671   0.3965                     \n",
      "    36     1.280893   0.783935   0.3975                     \n",
      "    37     1.295462   0.783005   0.401                      \n",
      "    38     1.279711   0.781849   0.398                      \n",
      "    39     1.294008   0.776439   0.3985                     \n",
      "    40     1.274812   0.777112   0.404                      \n",
      "    41     1.289021   0.778567   0.4075                     \n",
      "    42     1.266175   0.782036   0.3995                     \n",
      "    43     1.265212   0.777035   0.405                      \n",
      "    44     1.246558   0.781938   0.4                        \n",
      "    45     1.273912   0.778331   0.4035                     \n",
      "    46     1.29123    0.778657   0.4055                     \n",
      "    47     1.270506   0.778898   0.4055                     \n",
      "    48     1.283635   0.778219   0.397                      \n",
      "    49     1.289786   0.780275   0.4085                     \n",
      "    50     1.29252    0.780235   0.395                      \n",
      "    51     1.291479   0.784997   0.3965                     \n",
      "    52     1.278003   0.781699   0.3965                     \n",
      "    53     1.302115   0.781334   0.396                      \n",
      "    54     1.320209   0.781434   0.3995                     \n",
      "    55     1.307495   0.78067    0.399                      \n",
      "    56     1.299066   0.77083    0.4115                     \n",
      "    57     1.282571   0.777266   0.3985                     \n",
      "    58     1.259047   0.780475   0.4005                     \n",
      "    59     1.301855   0.785371   0.3995                     \n",
      "    60     1.304301   0.783213   0.3995                     \n",
      "    61     1.279231   0.782242   0.3925                     \n",
      "\n",
      "17     \t [4.  0.  0.8 5.  2.  2. ]. \t  0.3925 \t 0.9905\n"
     ]
    },
    {
     "data": {
      "application/vnd.jupyter.widget-view+json": {
       "model_id": "ab5ba5bf301c41028e34fdfd04d2e221",
       "version_major": 2,
       "version_minor": 0
      },
      "text/plain": [
       "HBox(children=(IntProgress(value=0, description='Epoch', max=12), HTML(value='')))"
      ]
     },
     "metadata": {},
     "output_type": "display_data"
    },
    {
     "name": "stdout",
     "output_type": "stream",
     "text": [
      "epoch      trn_loss   val_loss   accuracy                   \n",
      "    0      1.278049   0.776229   0.4025    \n",
      "    1      1.293085   0.777736   0.4035                     \n",
      "    2      1.295204   0.787252   0.3905                     \n",
      "    3      1.295183   0.777215   0.4025                     \n",
      "    4      1.280628   0.775535   0.41                       \n",
      "    5      1.283526   0.785792   0.391                      \n",
      "    6      1.258498   0.783171   0.3995                     \n",
      "    7      1.28479    0.771622   0.4095                     \n",
      "    8      1.300317   0.775095   0.4065                     \n",
      "    9      1.269569   0.781454   0.408                      \n",
      "    10     1.275185   0.777402   0.397                      \n",
      "    11     1.273854   0.778487   0.3955                     \n",
      "\n",
      "18     \t [4.    0.    0.8   2.781 2.    2.   ]. \t  0.3955 \t 0.9905\n"
     ]
    },
    {
     "data": {
      "application/vnd.jupyter.widget-view+json": {
       "model_id": "35a8a199999b4b0da03891f0be994331",
       "version_major": 2,
       "version_minor": 0
      },
      "text/plain": [
       "HBox(children=(IntProgress(value=0, description='Epoch', max=1), HTML(value='')))"
      ]
     },
     "metadata": {},
     "output_type": "display_data"
    },
    {
     "name": "stdout",
     "output_type": "stream",
     "text": [
      "epoch      trn_loss   val_loss   accuracy                    \n",
      "    0      0.967475   0.905584   0.4075    \n",
      "\n",
      "19     \t [1.  0.  0.2 1.  1.  1. ]. \t  0.4075 \t 0.9905\n"
     ]
    },
    {
     "data": {
      "application/vnd.jupyter.widget-view+json": {
       "model_id": "db5ad99be0b6494d9fe874fc442b4c9a",
       "version_major": 2,
       "version_minor": 0
      },
      "text/plain": [
       "HBox(children=(IntProgress(value=0, description='Epoch', max=5), HTML(value='')))"
      ]
     },
     "metadata": {},
     "output_type": "display_data"
    },
    {
     "name": "stdout",
     "output_type": "stream",
     "text": [
      "epoch      trn_loss   val_loss   accuracy                       \n",
      "    0      2.3163327889162776e+27 7.82470300769797e+24 0.5       \n",
      "    1      nan        nan        0.5                           \n",
      "    2      nan        nan        0.5                       \n",
      "    3      nan        nan        0.5                       \n",
      "    4      nan        nan        0.5                       \n",
      "\n",
      "20     \t [4.  2.  0.8 5.  1.  1. ]. \t  0.5    \t 0.9905\n"
     ]
    },
    {
     "data": {
      "application/vnd.jupyter.widget-view+json": {
       "model_id": "5ddc260b6d574649acf9a865c4e1e64c",
       "version_major": 2,
       "version_minor": 0
      },
      "text/plain": [
       "HBox(children=(IntProgress(value=0, description='Epoch', max=5), HTML(value='')))"
      ]
     },
     "metadata": {},
     "output_type": "display_data"
    },
    {
     "name": "stdout",
     "output_type": "stream",
     "text": [
      "epoch      trn_loss   val_loss   accuracy                   \n",
      "    0      1.278049   0.776229   0.4025    \n",
      "    1      1.293085   0.777736   0.4035                     \n",
      "    2      1.295204   0.787252   0.3905                     \n",
      "    3      1.295183   0.777215   0.4025                     \n",
      "    4      1.280628   0.775535   0.41                       \n",
      "\n",
      "21     \t [2.494 0.    0.8   5.    1.    1.   ]. \t  0.41   \t 0.9905\n"
     ]
    },
    {
     "data": {
      "application/vnd.jupyter.widget-view+json": {
       "model_id": "bf62b7b08c8c4766a9d723b4b7a33a41",
       "version_major": 2,
       "version_minor": 0
      },
      "text/plain": [
       "HBox(children=(IntProgress(value=0, description='Epoch', max=21), HTML(value='')))"
      ]
     },
     "metadata": {},
     "output_type": "display_data"
    },
    {
     "name": "stdout",
     "output_type": "stream",
     "text": [
      "epoch      trn_loss   val_loss   accuracy                       \n",
      "    0      nan        nan        0.5       \n",
      "    1      nan        nan        0.5                       \n",
      "    2      nan        nan        0.5                       \n",
      "    3      nan        nan        0.5                       \n",
      "    4      nan        nan        0.5                       \n",
      "    5      nan        nan        0.5                       \n",
      "    6      nan        nan        0.5                       \n",
      "    7      nan        nan        0.5                       \n",
      "    8      nan        nan        0.5                       \n",
      "    9      nan        nan        0.5                       \n",
      "    10     nan        nan        0.5                       \n",
      "    11     nan        nan        0.5                       \n",
      "    12     nan        nan        0.5                       \n",
      "    13     nan        nan        0.5                       \n",
      "    14     nan        nan        0.5                       \n",
      "    15     nan        nan        0.5                       \n",
      "    16     nan        nan        0.5                       \n",
      "    17     nan        nan        0.5                       \n",
      "    18     nan        nan        0.5                       \n",
      "    19     nan        nan        0.5                       \n",
      "    20     nan        nan        0.5                       \n",
      "\n",
      "22     \t [4.    2.    0.8   3.487 2.    2.   ]. \t  0.5    \t 0.9905\n"
     ]
    },
    {
     "data": {
      "application/vnd.jupyter.widget-view+json": {
       "model_id": "8c0af6c8d1644abe89d288f18552ad7a",
       "version_major": 2,
       "version_minor": 0
      },
      "text/plain": [
       "HBox(children=(IntProgress(value=0, description='Epoch', max=3), HTML(value='')))"
      ]
     },
     "metadata": {},
     "output_type": "display_data"
    },
    {
     "name": "stdout",
     "output_type": "stream",
     "text": [
      "epoch      trn_loss   val_loss   accuracy                     \n",
      "    0      0.065532   0.033641   0.9865    \n",
      "    1      0.043267   0.025435   0.9915                       \n",
      "    2      0.034616   0.0241     0.99                         \n",
      "\n",
      "23     \t [1.532 0.853 0.2   3.665 1.    1.   ]. \t  0.99   \t 0.9905\n"
     ]
    },
    {
     "data": {
      "application/vnd.jupyter.widget-view+json": {
       "model_id": "89cfb62261dc49f7a858196e40b3c4bd",
       "version_major": 2,
       "version_minor": 0
      },
      "text/plain": [
       "HBox(children=(IntProgress(value=0, description='Epoch', max=62), HTML(value='')))"
      ]
     },
     "metadata": {},
     "output_type": "display_data"
    },
    {
     "name": "stdout",
     "output_type": "stream",
     "text": [
      "epoch      trn_loss   val_loss   accuracy                       \n",
      "    0      61469764604.35218 129629902471.168 0.9625    \n",
      "    1      4784823887.368081 1300674030.592 0.9915              \n",
      "    2      1.8362115861179027e+31 9.16758532504153e+31 0.5       \n",
      "    3      nan        nan        0.5                           \n",
      "    4      nan        nan        0.5                       \n",
      "    5      nan        nan        0.5                       \n",
      "    6      nan        nan        0.5                       \n",
      "    7      nan        nan        0.5                       \n",
      "    8      nan        nan        0.5                       \n",
      "    9      nan        nan        0.5                       \n",
      "    10     nan        nan        0.5                       \n",
      "    11     nan        nan        0.5                       \n",
      "    12     nan        nan        0.5                       \n",
      "    13     nan        nan        0.5                       \n",
      "    14     nan        nan        0.5                       \n",
      "    15     nan        nan        0.5                       \n",
      "    16     nan        nan        0.5                       \n",
      "    17     nan        nan        0.5                       \n",
      "    18     nan        nan        0.5                       \n",
      "    19     nan        nan        0.5                       \n",
      "    20     nan        nan        0.5                       \n",
      "    21     nan        nan        0.5                       \n",
      "    22     nan        nan        0.5                       \n",
      "    23     nan        nan        0.5                       \n",
      "    24     nan        nan        0.5                       \n",
      "    25     nan        nan        0.5                       \n",
      "    26     nan        nan        0.5                       \n",
      "    27     nan        nan        0.5                       \n",
      "    28     nan        nan        0.5                       \n",
      "    29     nan        nan        0.5                       \n",
      "    30     nan        nan        0.5                       \n",
      "    31     nan        nan        0.5                       \n",
      "    32     nan        nan        0.5                       \n",
      "    33     nan        nan        0.5                       \n",
      "    34     nan        nan        0.5                       \n",
      "    35     nan        nan        0.5                       \n",
      "    36     nan        nan        0.5                       \n",
      "    37     nan        nan        0.5                       \n",
      "    38     nan        nan        0.5                       \n",
      "    39     nan        nan        0.5                       \n",
      "    40     nan        nan        0.5                       \n",
      "    41     nan        nan        0.5                       \n",
      "    42     nan        nan        0.5                       \n",
      "    43     nan        nan        0.5                       \n",
      "    44     nan        nan        0.5                       \n",
      "    45     nan        nan        0.5                       \n",
      "    46     nan        nan        0.5                       \n",
      "    47     nan        nan        0.5                       \n",
      "    48     nan        nan        0.5                       \n",
      "    49     nan        nan        0.5                       \n",
      "    50     nan        nan        0.5                       \n",
      "    51     nan        nan        0.5                       \n",
      "    52     nan        nan        0.5                       \n",
      "    53     nan        nan        0.5                       \n",
      "    54     nan        nan        0.5                       \n",
      "    55     nan        nan        0.5                       \n",
      "    56     nan        nan        0.5                       \n",
      "    57     nan        nan        0.5                       \n",
      "    58     nan        nan        0.5                       \n",
      "    59     nan        nan        0.5                       \n",
      "    60     nan        nan        0.5                       \n",
      "    61     nan        nan        0.5                       \n",
      "\n",
      "24     \t [1.988 2.    0.2   5.    2.    2.   ]. \t  0.5    \t 0.9905\n"
     ]
    },
    {
     "data": {
      "application/vnd.jupyter.widget-view+json": {
       "model_id": "06069a9c990b462696821a9aeccf5902",
       "version_major": 2,
       "version_minor": 0
      },
      "text/plain": [
       "HBox(children=(IntProgress(value=0, description='Epoch', max=62), HTML(value='')))"
      ]
     },
     "metadata": {},
     "output_type": "display_data"
    },
    {
     "name": "stdout",
     "output_type": "stream",
     "text": [
      "epoch      trn_loss   val_loss   accuracy                   \n",
      "    0      1.278151   0.776229   0.4025    \n",
      "    1      1.293085   0.777736   0.4035                     \n",
      "    2      1.295204   0.787252   0.3905                     \n",
      "    3      1.295132   0.777215   0.4025                     \n",
      "    4      1.280627   0.775535   0.41                       \n",
      "    5      1.283514   0.785792   0.391                      \n",
      "    6      1.258498   0.783171   0.3995                     \n",
      "    7      1.28479    0.771622   0.4095                     \n",
      "    8      1.30032    0.775095   0.4065                     \n",
      "    9      1.269535   0.781454   0.408                      \n",
      "    10     1.275133   0.777402   0.397                      \n",
      "    11     1.27382    0.778486   0.3955                     \n",
      "    12     1.290185   0.775644   0.4                        \n",
      "    13     1.291709   0.781175   0.404                      \n",
      "    14     1.257184   0.78056    0.4035                     \n",
      "    15     1.266294   0.778811   0.4035                     \n",
      "    16     1.306458   0.776257   0.3985                     \n",
      "    17     1.284157   0.776889   0.401                      \n",
      "    18     1.254644   0.779256   0.397                      \n",
      "    19     1.304081   0.782946   0.3915                     \n",
      "    20     1.290729   0.781295   0.391                      \n",
      "    21     1.259283   0.783088   0.398                      \n",
      "    22     1.27577    0.776319   0.408                      \n",
      "    23     1.261455   0.778971   0.4025                     \n",
      "    24     1.264101   0.782927   0.396                      \n",
      "    25     1.285728   0.781861   0.3935                     \n",
      "    26     1.27298    0.774943   0.413                      \n",
      "    27     1.2689     0.778427   0.4035                     \n",
      "    28     1.306387   0.777532   0.4005                     \n",
      "    29     1.305117   0.788133   0.39                       \n",
      "    30     1.311255   0.78191    0.403                      \n",
      "    31     1.289702   0.784322   0.39                       \n",
      "    32     1.308116   0.779323   0.4015                     \n",
      "    33     1.29642    0.778343   0.407                      \n",
      "    34     1.281524   0.781959   0.3965                     \n",
      "    35     1.306749   0.780671   0.3965                     \n",
      "    36     1.280893   0.783868   0.3975                     \n",
      "    37     1.295458   0.783005   0.401                      \n",
      "    38     1.279711   0.781849   0.398                      \n",
      "    39     1.293999   0.776821   0.398                      \n",
      "    40     1.274799   0.777112   0.404                      \n",
      "    41     1.289021   0.778567   0.4075                     \n",
      "    42     1.266175   0.782036   0.3995                     \n",
      "    43     1.265219   0.776954   0.405                      \n",
      "    44     1.246558   0.781938   0.4                        \n",
      "    45     1.273912   0.778331   0.4035                     \n",
      "    46     1.291424   0.778657   0.4055                     \n",
      "    47     1.270506   0.778898   0.4055                     \n",
      "    48     1.283635   0.778219   0.397                      \n",
      "    49     1.289786   0.780275   0.4085                     \n",
      "    50     1.291275   0.780266   0.3935                     \n",
      "    51     1.291479   0.784997   0.3965                     \n",
      "    52     1.278003   0.781699   0.3965                     \n",
      "    53     1.302115   0.781334   0.396                      \n",
      "    54     1.320209   0.781434   0.3995                     \n",
      "    55     1.307495   0.78067    0.399                      \n",
      "    56     1.299066   0.77083    0.4115                     \n",
      "    57     1.282542   0.777266   0.3985                     \n",
      "    58     1.25904    0.780475   0.4005                     \n",
      "    59     1.301578   0.785389   0.4005                     \n",
      "    60     1.304276   0.783213   0.3995                     \n",
      "    61     1.279231   0.782242   0.3925                     \n",
      "\n",
      "25     \t [1.  0.  0.8 5.  2.  2. ]. \t  0.3925 \t 0.9905\n"
     ]
    },
    {
     "data": {
      "application/vnd.jupyter.widget-view+json": {
       "model_id": "7c0dca45701d4ee19dc5d4acef6366a2",
       "version_major": 2,
       "version_minor": 0
      },
      "text/plain": [
       "HBox(children=(IntProgress(value=0, description='Epoch', max=12), HTML(value='')))"
      ]
     },
     "metadata": {},
     "output_type": "display_data"
    },
    {
     "name": "stdout",
     "output_type": "stream",
     "text": [
      "epoch      trn_loss   val_loss   accuracy                   \n",
      "    0      1.278049   0.776229   0.4025    \n",
      "    1      1.293085   0.777736   0.4035                     \n",
      "    2      1.295205   0.787252   0.3905                     \n",
      "    3      1.295183   0.777215   0.4025                     \n",
      "    4      1.280628   0.775535   0.41                       \n",
      "    5      1.283497   0.785792   0.391                      \n",
      "    6      1.258499   0.783171   0.3995                     \n",
      "    7      1.284789   0.771622   0.4095                     \n",
      "    8      1.300317   0.775095   0.4065                     \n",
      "    9      1.269569   0.781454   0.408                      \n",
      "    10     1.275127   0.777406   0.397                      \n",
      "    11     1.273854   0.778487   0.3955                     \n",
      "\n",
      "26     \t [1.    0.    0.8   2.787 2.    2.   ]. \t  0.3955 \t 0.9905\n"
     ]
    },
    {
     "data": {
      "application/vnd.jupyter.widget-view+json": {
       "model_id": "42c10e2eb68f40e9aafdd5ab420230f6",
       "version_major": 2,
       "version_minor": 0
      },
      "text/plain": [
       "HBox(children=(IntProgress(value=0, description='Epoch', max=3), HTML(value='')))"
      ]
     },
     "metadata": {},
     "output_type": "display_data"
    },
    {
     "name": "stdout",
     "output_type": "stream",
     "text": [
      "epoch      trn_loss   val_loss   accuracy                   \n",
      "    0      1.278049   0.776121   0.4025    \n",
      "    1      1.293085   0.777736   0.4035                     \n",
      "    2      1.295201   0.787252   0.3905                     \n",
      "\n",
      "27     \t [4.    0.    0.8   3.583 1.    1.   ]. \t  0.3905 \t 0.9905\n"
     ]
    },
    {
     "data": {
      "application/vnd.jupyter.widget-view+json": {
       "model_id": "7d77a7c17e6b481cb2fd2e6fd1b18324",
       "version_major": 2,
       "version_minor": 0
      },
      "text/plain": [
       "HBox(children=(IntProgress(value=0, description='Epoch', max=2), HTML(value='')))"
      ]
     },
     "metadata": {},
     "output_type": "display_data"
    },
    {
     "name": "stdout",
     "output_type": "stream",
     "text": [
      "epoch      trn_loss   val_loss   accuracy                       \n",
      "    0      3418.235427 742.397293 0.988     \n",
      "    1      83111357.372473 11824292.576 0.9915                  \n",
      "\n",
      "28     \t [2.621 2.    0.2   2.311 1.    1.   ]. \t  \u001b[92m0.9915\u001b[0m \t 0.9915\n"
     ]
    },
    {
     "data": {
      "application/vnd.jupyter.widget-view+json": {
       "model_id": "90d0aa076b874fc781ce985dcd423f4c",
       "version_major": 2,
       "version_minor": 0
      },
      "text/plain": [
       "HBox(children=(IntProgress(value=0, description='Epoch', max=1), HTML(value='')))"
      ]
     },
     "metadata": {},
     "output_type": "display_data"
    },
    {
     "name": "stdout",
     "output_type": "stream",
     "text": [
      "epoch      trn_loss   val_loss   accuracy                       \n",
      "    0      17992.835231 3117.963121 0.9875    \n",
      "\n",
      "29     \t [2.525 0.563 0.8   1.    1.    1.   ]. \t  0.9875 \t 0.9915\n"
     ]
    },
    {
     "data": {
      "application/vnd.jupyter.widget-view+json": {
       "model_id": "a876e96629c647639e642c904363bbf8",
       "version_major": 2,
       "version_minor": 0
      },
      "text/plain": [
       "HBox(children=(IntProgress(value=0, description='Epoch', max=2), HTML(value='')))"
      ]
     },
     "metadata": {},
     "output_type": "display_data"
    },
    {
     "name": "stdout",
     "output_type": "stream",
     "text": [
      "epoch      trn_loss   val_loss   accuracy                       \n",
      "    0      61469764604.35218 129629902471.168 0.9625    \n",
      "    1      4784823887.368081 1300674030.592 0.9915              \n",
      "\n",
      "30     \t [2.441 2.    0.2   1.    2.    2.   ]. \t  \u001b[92m0.9915\u001b[0m \t 0.9915\n"
     ]
    }
   ],
   "source": [
    "acq_fns = ['RS', 'ExpectedImprovement', 'ProbabilityImprovement', 'UCB', 'Entropy']\n",
    "max_iter = 30; init_evals = 3\n",
    "df_acc = pd.DataFrame(columns=acq_fns, dtype=float)\n",
    "for acq_fn in acq_fns: \n",
    "    print(\"------------------------------------\", acq_fn, \"-----------------------------------\")\n",
    "    history = hyp_optim_gp(acq_fn, fit_eval_imageclassifier, param_sets, max_iter, init_evals)\n",
    "    df_acc[acq_fn] = history\n",
    "df_acc.index = list(range(init_evals, init_evals + max_iter + 1))"
   ]
  },
  {
   "cell_type": "code",
   "execution_count": 5,
   "metadata": {},
   "outputs": [
    {
     "data": {
      "image/png": "[encoded data removed]",
      "text/plain": [
       "<Figure size 864x576 with 1 Axes>"
      ]
     },
     "metadata": {},
     "output_type": "display_data"
    }
   ],
   "source": [
    "matplotlib.rcParams['figure.figsize'] = [12, 8]\n",
    "df_acc.plot()\n",
    "plt.xlabel(\"iteration\")\n",
    "plt.ylabel(\"optimal accuracy\"); "
   ]
  },
  {
   "cell_type": "markdown",
   "metadata": {},
   "source": [
    "some interpreation of results\n",
    "- first points corresponds to init_evals numbers of initial runs\n",
    "- unfortunatley, no structured way to store intermediary parameters. what we can see from the print, though is that the models do not exploit the learning rate very aggressively at its lower bound (which would increase accuracy)\n",
    "- limiations: not taking into account time of fitting"
   ]
  },
  {
   "cell_type": "code",
   "execution_count": null,
   "metadata": {
    "collapsed": true
   },
   "outputs": [],
   "source": []
  }
 ],
 "metadata": {
  "kernelspec": {
   "display_name": "Python 3",
   "language": "python",
   "name": "python3"
  },
  "language_info": {
   "codemirror_mode": {
    "name": "ipython",
    "version": 3
   },
   "file_extension": ".py",
   "mimetype": "text/x-python",
   "name": "python",
   "nbconvert_exporter": "python",
   "pygments_lexer": "ipython3",
   "version": "3.6.5"
  }
 },
 "nbformat": 4,
 "nbformat_minor": 2
}
